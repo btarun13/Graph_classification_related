{
  "cells": [
    {
      "cell_type": "markdown",
      "metadata": {
        "id": "xecWenxLyjqY"
      },
      "source": [
        "# Code for Graph Classification\n",
        "\n",
        "---\n",
        "\n"
      ]
    },
    {
      "cell_type": "code",
      "execution_count": 1,
      "metadata": {
        "colab": {
          "base_uri": "https://localhost:8080/"
        },
        "id": "qMMouBsNyiZ0",
        "outputId": "fd29350f-7745-415d-ca2c-250d11ae8bdb"
      },
      "outputs": [
        {
          "name": "stdout",
          "output_type": "stream",
          "text": [
            "Mounted at /content/drive\n"
          ]
        }
      ],
      "source": [
        "from google.colab import drive\n",
        "drive.mount('/content/drive')"
      ]
    },
    {
      "cell_type": "markdown",
      "metadata": {
        "id": "ijSxKznH-Sbk"
      },
      "source": [
        "# My introduction to processing and model building for molecules\n",
        "\n",
        "While teaching myself more on graph classification with GIN architecture, I came up with issue of visualizing the molecules. As, I was't able to find the data for smiles. I dug little deeper. Some data in ogb can be found here:\n",
        "\n",
        "https://moleculenet.org/datasets-1\n",
        "\n",
        "This would give you a raw sample with  smile strings and target values. Some can be used for classification and some can be used for regression like mollipo which is around lipocity of a molecule. In This notebook I try to go through both classification and regression both with GIN architecture.\n",
        "\n",
        "Will also provide how smile structures can be changed to graph data so that you can put them through a pipeline. Towards the end I would try to combine a GCN and GIN architecture to see if ensemble performs better.\n",
        "\n"
      ]
    },
    {
      "cell_type": "code",
      "execution_count": null,
      "metadata": {
        "id": "kCbRyNzw0f7o"
      },
      "outputs": [],
      "source": [
        "!pip install rdkit"
      ]
    },
    {
      "cell_type": "code",
      "execution_count": null,
      "metadata": {
        "id": "BkFQ7wV0cgbq"
      },
      "outputs": [],
      "source": [
        "#!/bin/sh\n",
        "!pip install torch-scatter -f https://pytorch-geometric.com/whl/torch-2.2.1+cu121.html\n",
        "!pip install torch-sparse -f https://pytorch-geometric.com/whl/torch-2.2.1+cu121.html\n",
        "!pip install torch-geometric\n",
        "!pip install ogb"
      ]
    },
    {
      "cell_type": "code",
      "execution_count": 90,
      "metadata": {
        "id": "o8fR1uUncnPo"
      },
      "outputs": [],
      "source": [
        "\n",
        "import os\n",
        "import argparse\n",
        "import pickle\n",
        "import torch\n",
        "import torch_geometric\n",
        "from torch_geometric.nn import GINConv, global_add_pool,GCNConv\n",
        "from torch_geometric.loader import DataLoader\n",
        "from torch_geometric.nn.models import MLP\n",
        "from ogb.graphproppred import PygGraphPropPredDataset, Evaluator\n",
        "from ogb.graphproppred.mol_encoder import AtomEncoder\n",
        "import pandas as pd\n",
        "import copy\n",
        "import numpy as np\n",
        "import random\n",
        "from tqdm import tqdm"
      ]
    },
    {
      "cell_type": "code",
      "execution_count": 5,
      "metadata": {
        "id": "-YCZQ60qdIza"
      },
      "outputs": [],
      "source": [
        "\n",
        "hiv_data = pd.read_csv(\"/content/drive/MyDrive/HIV.csv\")\n",
        "\n",
        "lipo_data = pd.read_csv(\"/content/drive/MyDrive/Lipophilicity.csv\")"
      ]
    },
    {
      "cell_type": "code",
      "execution_count": 6,
      "metadata": {
        "colab": {
          "base_uri": "https://localhost:8080/",
          "height": 175
        },
        "id": "-HfF_h8nzRXB",
        "outputId": "b1fec525-df85-4c54-9edc-9bff87a94f50"
      },
      "outputs": [
        {
          "data": {
            "application/vnd.google.colaboratory.intrinsic+json": {
              "summary": "{\n  \"name\": \"hiv_data\",\n  \"rows\": 41127,\n  \"fields\": [\n    {\n      \"column\": \"smiles\",\n      \"properties\": {\n        \"dtype\": \"string\",\n        \"num_unique_values\": 41127,\n        \"samples\": [\n          \"O=C1C(=Cc2ccc(O)cc2)N=C(c2ccccc2)N1n1c(-c2ccccc2)nc2ccccc2c1=O\",\n          \"Cc1c(CCN=P(c2ccccc2)(c2ccccc2)c2ccccc2)c(=O)n2c([nH]c3ccccc32)c1C#N\",\n          \"O=C1OC(=O)C2C3CCCCC3=C3CCCCC3C12\"\n        ],\n        \"semantic_type\": \"\",\n        \"description\": \"\"\n      }\n    },\n    {\n      \"column\": \"activity\",\n      \"properties\": {\n        \"dtype\": \"category\",\n        \"num_unique_values\": 3,\n        \"samples\": [\n          \"CI\",\n          \"CM\",\n          \"CA\"\n        ],\n        \"semantic_type\": \"\",\n        \"description\": \"\"\n      }\n    },\n    {\n      \"column\": \"HIV_active\",\n      \"properties\": {\n        \"dtype\": \"number\",\n        \"std\": 0,\n        \"min\": 0,\n        \"max\": 1,\n        \"num_unique_values\": 2,\n        \"samples\": [\n          1,\n          0\n        ],\n        \"semantic_type\": \"\",\n        \"description\": \"\"\n      }\n    }\n  ]\n}",
              "type": "dataframe",
              "variable_name": "hiv_data"
            },
            "text/html": [
              "\n",
              "  <div id=\"df-45977e54-f886-47de-a3d6-74babda20ca5\" class=\"colab-df-container\">\n",
              "    <div>\n",
              "<style scoped>\n",
              "    .dataframe tbody tr th:only-of-type {\n",
              "        vertical-align: middle;\n",
              "    }\n",
              "\n",
              "    .dataframe tbody tr th {\n",
              "        vertical-align: top;\n",
              "    }\n",
              "\n",
              "    .dataframe thead th {\n",
              "        text-align: right;\n",
              "    }\n",
              "</style>\n",
              "<table border=\"1\" class=\"dataframe\">\n",
              "  <thead>\n",
              "    <tr style=\"text-align: right;\">\n",
              "      <th></th>\n",
              "      <th>smiles</th>\n",
              "      <th>activity</th>\n",
              "      <th>HIV_active</th>\n",
              "    </tr>\n",
              "  </thead>\n",
              "  <tbody>\n",
              "    <tr>\n",
              "      <th>0</th>\n",
              "      <td>CCC1=[O+][Cu-3]2([O+]=C(CC)C1)[O+]=C(CC)CC(CC)...</td>\n",
              "      <td>CI</td>\n",
              "      <td>0</td>\n",
              "    </tr>\n",
              "    <tr>\n",
              "      <th>1</th>\n",
              "      <td>C(=Cc1ccccc1)C1=[O+][Cu-3]2([O+]=C(C=Cc3ccccc3...</td>\n",
              "      <td>CI</td>\n",
              "      <td>0</td>\n",
              "    </tr>\n",
              "    <tr>\n",
              "      <th>2</th>\n",
              "      <td>CC(=O)N1c2ccccc2Sc2c1ccc1ccccc21</td>\n",
              "      <td>CI</td>\n",
              "      <td>0</td>\n",
              "    </tr>\n",
              "    <tr>\n",
              "      <th>3</th>\n",
              "      <td>Nc1ccc(C=Cc2ccc(N)cc2S(=O)(=O)O)c(S(=O)(=O)O)c1</td>\n",
              "      <td>CI</td>\n",
              "      <td>0</td>\n",
              "    </tr>\n",
              "  </tbody>\n",
              "</table>\n",
              "</div>\n",
              "    <div class=\"colab-df-buttons\">\n",
              "\n",
              "  <div class=\"colab-df-container\">\n",
              "    <button class=\"colab-df-convert\" onclick=\"convertToInteractive('df-45977e54-f886-47de-a3d6-74babda20ca5')\"\n",
              "            title=\"Convert this dataframe to an interactive table.\"\n",
              "            style=\"display:none;\">\n",
              "\n",
              "  <svg xmlns=\"http://www.w3.org/2000/svg\" height=\"24px\" viewBox=\"0 -960 960 960\">\n",
              "    <path d=\"M120-120v-720h720v720H120Zm60-500h600v-160H180v160Zm220 220h160v-160H400v160Zm0 220h160v-160H400v160ZM180-400h160v-160H180v160Zm440 0h160v-160H620v160ZM180-180h160v-160H180v160Zm440 0h160v-160H620v160Z\"/>\n",
              "  </svg>\n",
              "    </button>\n",
              "\n",
              "  <style>\n",
              "    .colab-df-container {\n",
              "      display:flex;\n",
              "      gap: 12px;\n",
              "    }\n",
              "\n",
              "    .colab-df-convert {\n",
              "      background-color: #E8F0FE;\n",
              "      border: none;\n",
              "      border-radius: 50%;\n",
              "      cursor: pointer;\n",
              "      display: none;\n",
              "      fill: #1967D2;\n",
              "      height: 32px;\n",
              "      padding: 0 0 0 0;\n",
              "      width: 32px;\n",
              "    }\n",
              "\n",
              "    .colab-df-convert:hover {\n",
              "      background-color: #E2EBFA;\n",
              "      box-shadow: 0px 1px 2px rgba(60, 64, 67, 0.3), 0px 1px 3px 1px rgba(60, 64, 67, 0.15);\n",
              "      fill: #174EA6;\n",
              "    }\n",
              "\n",
              "    .colab-df-buttons div {\n",
              "      margin-bottom: 4px;\n",
              "    }\n",
              "\n",
              "    [theme=dark] .colab-df-convert {\n",
              "      background-color: #3B4455;\n",
              "      fill: #D2E3FC;\n",
              "    }\n",
              "\n",
              "    [theme=dark] .colab-df-convert:hover {\n",
              "      background-color: #434B5C;\n",
              "      box-shadow: 0px 1px 3px 1px rgba(0, 0, 0, 0.15);\n",
              "      filter: drop-shadow(0px 1px 2px rgba(0, 0, 0, 0.3));\n",
              "      fill: #FFFFFF;\n",
              "    }\n",
              "  </style>\n",
              "\n",
              "    <script>\n",
              "      const buttonEl =\n",
              "        document.querySelector('#df-45977e54-f886-47de-a3d6-74babda20ca5 button.colab-df-convert');\n",
              "      buttonEl.style.display =\n",
              "        google.colab.kernel.accessAllowed ? 'block' : 'none';\n",
              "\n",
              "      async function convertToInteractive(key) {\n",
              "        const element = document.querySelector('#df-45977e54-f886-47de-a3d6-74babda20ca5');\n",
              "        const dataTable =\n",
              "          await google.colab.kernel.invokeFunction('convertToInteractive',\n",
              "                                                    [key], {});\n",
              "        if (!dataTable) return;\n",
              "\n",
              "        const docLinkHtml = 'Like what you see? Visit the ' +\n",
              "          '<a target=\"_blank\" href=https://colab.research.google.com/notebooks/data_table.ipynb>data table notebook</a>'\n",
              "          + ' to learn more about interactive tables.';\n",
              "        element.innerHTML = '';\n",
              "        dataTable['output_type'] = 'display_data';\n",
              "        await google.colab.output.renderOutput(dataTable, element);\n",
              "        const docLink = document.createElement('div');\n",
              "        docLink.innerHTML = docLinkHtml;\n",
              "        element.appendChild(docLink);\n",
              "      }\n",
              "    </script>\n",
              "  </div>\n",
              "\n",
              "\n",
              "<div id=\"df-5e3d3138-577c-4315-8e5d-2b7684366da8\">\n",
              "  <button class=\"colab-df-quickchart\" onclick=\"quickchart('df-5e3d3138-577c-4315-8e5d-2b7684366da8')\"\n",
              "            title=\"Suggest charts\"\n",
              "            style=\"display:none;\">\n",
              "\n",
              "<svg xmlns=\"http://www.w3.org/2000/svg\" height=\"24px\"viewBox=\"0 0 24 24\"\n",
              "     width=\"24px\">\n",
              "    <g>\n",
              "        <path d=\"M19 3H5c-1.1 0-2 .9-2 2v14c0 1.1.9 2 2 2h14c1.1 0 2-.9 2-2V5c0-1.1-.9-2-2-2zM9 17H7v-7h2v7zm4 0h-2V7h2v10zm4 0h-2v-4h2v4z\"/>\n",
              "    </g>\n",
              "</svg>\n",
              "  </button>\n",
              "\n",
              "<style>\n",
              "  .colab-df-quickchart {\n",
              "      --bg-color: #E8F0FE;\n",
              "      --fill-color: #1967D2;\n",
              "      --hover-bg-color: #E2EBFA;\n",
              "      --hover-fill-color: #174EA6;\n",
              "      --disabled-fill-color: #AAA;\n",
              "      --disabled-bg-color: #DDD;\n",
              "  }\n",
              "\n",
              "  [theme=dark] .colab-df-quickchart {\n",
              "      --bg-color: #3B4455;\n",
              "      --fill-color: #D2E3FC;\n",
              "      --hover-bg-color: #434B5C;\n",
              "      --hover-fill-color: #FFFFFF;\n",
              "      --disabled-bg-color: #3B4455;\n",
              "      --disabled-fill-color: #666;\n",
              "  }\n",
              "\n",
              "  .colab-df-quickchart {\n",
              "    background-color: var(--bg-color);\n",
              "    border: none;\n",
              "    border-radius: 50%;\n",
              "    cursor: pointer;\n",
              "    display: none;\n",
              "    fill: var(--fill-color);\n",
              "    height: 32px;\n",
              "    padding: 0;\n",
              "    width: 32px;\n",
              "  }\n",
              "\n",
              "  .colab-df-quickchart:hover {\n",
              "    background-color: var(--hover-bg-color);\n",
              "    box-shadow: 0 1px 2px rgba(60, 64, 67, 0.3), 0 1px 3px 1px rgba(60, 64, 67, 0.15);\n",
              "    fill: var(--button-hover-fill-color);\n",
              "  }\n",
              "\n",
              "  .colab-df-quickchart-complete:disabled,\n",
              "  .colab-df-quickchart-complete:disabled:hover {\n",
              "    background-color: var(--disabled-bg-color);\n",
              "    fill: var(--disabled-fill-color);\n",
              "    box-shadow: none;\n",
              "  }\n",
              "\n",
              "  .colab-df-spinner {\n",
              "    border: 2px solid var(--fill-color);\n",
              "    border-color: transparent;\n",
              "    border-bottom-color: var(--fill-color);\n",
              "    animation:\n",
              "      spin 1s steps(1) infinite;\n",
              "  }\n",
              "\n",
              "  @keyframes spin {\n",
              "    0% {\n",
              "      border-color: transparent;\n",
              "      border-bottom-color: var(--fill-color);\n",
              "      border-left-color: var(--fill-color);\n",
              "    }\n",
              "    20% {\n",
              "      border-color: transparent;\n",
              "      border-left-color: var(--fill-color);\n",
              "      border-top-color: var(--fill-color);\n",
              "    }\n",
              "    30% {\n",
              "      border-color: transparent;\n",
              "      border-left-color: var(--fill-color);\n",
              "      border-top-color: var(--fill-color);\n",
              "      border-right-color: var(--fill-color);\n",
              "    }\n",
              "    40% {\n",
              "      border-color: transparent;\n",
              "      border-right-color: var(--fill-color);\n",
              "      border-top-color: var(--fill-color);\n",
              "    }\n",
              "    60% {\n",
              "      border-color: transparent;\n",
              "      border-right-color: var(--fill-color);\n",
              "    }\n",
              "    80% {\n",
              "      border-color: transparent;\n",
              "      border-right-color: var(--fill-color);\n",
              "      border-bottom-color: var(--fill-color);\n",
              "    }\n",
              "    90% {\n",
              "      border-color: transparent;\n",
              "      border-bottom-color: var(--fill-color);\n",
              "    }\n",
              "  }\n",
              "</style>\n",
              "\n",
              "  <script>\n",
              "    async function quickchart(key) {\n",
              "      const quickchartButtonEl =\n",
              "        document.querySelector('#' + key + ' button');\n",
              "      quickchartButtonEl.disabled = true;  // To prevent multiple clicks.\n",
              "      quickchartButtonEl.classList.add('colab-df-spinner');\n",
              "      try {\n",
              "        const charts = await google.colab.kernel.invokeFunction(\n",
              "            'suggestCharts', [key], {});\n",
              "      } catch (error) {\n",
              "        console.error('Error during call to suggestCharts:', error);\n",
              "      }\n",
              "      quickchartButtonEl.classList.remove('colab-df-spinner');\n",
              "      quickchartButtonEl.classList.add('colab-df-quickchart-complete');\n",
              "    }\n",
              "    (() => {\n",
              "      let quickchartButtonEl =\n",
              "        document.querySelector('#df-5e3d3138-577c-4315-8e5d-2b7684366da8 button');\n",
              "      quickchartButtonEl.style.display =\n",
              "        google.colab.kernel.accessAllowed ? 'block' : 'none';\n",
              "    })();\n",
              "  </script>\n",
              "</div>\n",
              "\n",
              "    </div>\n",
              "  </div>\n"
            ],
            "text/plain": [
              "                                              smiles activity  HIV_active\n",
              "0  CCC1=[O+][Cu-3]2([O+]=C(CC)C1)[O+]=C(CC)CC(CC)...       CI           0\n",
              "1  C(=Cc1ccccc1)C1=[O+][Cu-3]2([O+]=C(C=Cc3ccccc3...       CI           0\n",
              "2                   CC(=O)N1c2ccccc2Sc2c1ccc1ccccc21       CI           0\n",
              "3    Nc1ccc(C=Cc2ccc(N)cc2S(=O)(=O)O)c(S(=O)(=O)O)c1       CI           0"
            ]
          },
          "execution_count": 6,
          "metadata": {},
          "output_type": "execute_result"
        }
      ],
      "source": [
        "hiv_data.head(4)"
      ]
    },
    {
      "cell_type": "code",
      "execution_count": 7,
      "metadata": {
        "colab": {
          "base_uri": "https://localhost:8080/",
          "height": 175
        },
        "id": "HPzoFqwXzRQP",
        "outputId": "7828efe9-23ae-4e67-ee95-faa02ab8e76e"
      },
      "outputs": [
        {
          "data": {
            "application/vnd.google.colaboratory.intrinsic+json": {
              "summary": "{\n  \"name\": \"lipo_data\",\n  \"rows\": 4200,\n  \"fields\": [\n    {\n      \"column\": \"CMPD_CHEMBLID\",\n      \"properties\": {\n        \"dtype\": \"string\",\n        \"num_unique_values\": 4200,\n        \"samples\": [\n          \"CHEMBL1431112\",\n          \"CHEMBL1322675\",\n          \"CHEMBL2030964\"\n        ],\n        \"semantic_type\": \"\",\n        \"description\": \"\"\n      }\n    },\n    {\n      \"column\": \"exp\",\n      \"properties\": {\n        \"dtype\": \"number\",\n        \"std\": 1.203003713387104,\n        \"min\": -1.5,\n        \"max\": 4.5,\n        \"num_unique_values\": 553,\n        \"samples\": [\n          4.16,\n          1.65,\n          0.41\n        ],\n        \"semantic_type\": \"\",\n        \"description\": \"\"\n      }\n    },\n    {\n      \"column\": \"smiles\",\n      \"properties\": {\n        \"dtype\": \"string\",\n        \"num_unique_values\": 4200,\n        \"samples\": [\n          \"Clc1ccc2NC(=O)CN(C(c3ccccc3)c2c1)C(=O)c4occc4\",\n          \"CCCNC[C@H](O)COc1ccccc1C(=O)CCc2ccccc2\",\n          \"CNc1cccc(CCCc2ccc(C[C@H](NC(=O)c3c(Cl)cccc3Cl)C(=O)O)s2)n1\"\n        ],\n        \"semantic_type\": \"\",\n        \"description\": \"\"\n      }\n    }\n  ]\n}",
              "type": "dataframe",
              "variable_name": "lipo_data"
            },
            "text/html": [
              "\n",
              "  <div id=\"df-f0aaef42-6a2e-4914-acad-0038ef0e9b94\" class=\"colab-df-container\">\n",
              "    <div>\n",
              "<style scoped>\n",
              "    .dataframe tbody tr th:only-of-type {\n",
              "        vertical-align: middle;\n",
              "    }\n",
              "\n",
              "    .dataframe tbody tr th {\n",
              "        vertical-align: top;\n",
              "    }\n",
              "\n",
              "    .dataframe thead th {\n",
              "        text-align: right;\n",
              "    }\n",
              "</style>\n",
              "<table border=\"1\" class=\"dataframe\">\n",
              "  <thead>\n",
              "    <tr style=\"text-align: right;\">\n",
              "      <th></th>\n",
              "      <th>CMPD_CHEMBLID</th>\n",
              "      <th>exp</th>\n",
              "      <th>smiles</th>\n",
              "    </tr>\n",
              "  </thead>\n",
              "  <tbody>\n",
              "    <tr>\n",
              "      <th>0</th>\n",
              "      <td>CHEMBL596271</td>\n",
              "      <td>3.54</td>\n",
              "      <td>Cn1c(CN2CCN(CC2)c3ccc(Cl)cc3)nc4ccccc14</td>\n",
              "    </tr>\n",
              "    <tr>\n",
              "      <th>1</th>\n",
              "      <td>CHEMBL1951080</td>\n",
              "      <td>-1.18</td>\n",
              "      <td>COc1cc(OC)c(cc1NC(=O)CSCC(=O)O)S(=O)(=O)N2C(C)...</td>\n",
              "    </tr>\n",
              "    <tr>\n",
              "      <th>2</th>\n",
              "      <td>CHEMBL1771</td>\n",
              "      <td>3.69</td>\n",
              "      <td>COC(=O)[C@@H](N1CCc2sccc2C1)c3ccccc3Cl</td>\n",
              "    </tr>\n",
              "    <tr>\n",
              "      <th>3</th>\n",
              "      <td>CHEMBL234951</td>\n",
              "      <td>3.37</td>\n",
              "      <td>OC[C@H](O)CN1C(=O)C(Cc2ccccc12)NC(=O)c3cc4cc(C...</td>\n",
              "    </tr>\n",
              "  </tbody>\n",
              "</table>\n",
              "</div>\n",
              "    <div class=\"colab-df-buttons\">\n",
              "\n",
              "  <div class=\"colab-df-container\">\n",
              "    <button class=\"colab-df-convert\" onclick=\"convertToInteractive('df-f0aaef42-6a2e-4914-acad-0038ef0e9b94')\"\n",
              "            title=\"Convert this dataframe to an interactive table.\"\n",
              "            style=\"display:none;\">\n",
              "\n",
              "  <svg xmlns=\"http://www.w3.org/2000/svg\" height=\"24px\" viewBox=\"0 -960 960 960\">\n",
              "    <path d=\"M120-120v-720h720v720H120Zm60-500h600v-160H180v160Zm220 220h160v-160H400v160Zm0 220h160v-160H400v160ZM180-400h160v-160H180v160Zm440 0h160v-160H620v160ZM180-180h160v-160H180v160Zm440 0h160v-160H620v160Z\"/>\n",
              "  </svg>\n",
              "    </button>\n",
              "\n",
              "  <style>\n",
              "    .colab-df-container {\n",
              "      display:flex;\n",
              "      gap: 12px;\n",
              "    }\n",
              "\n",
              "    .colab-df-convert {\n",
              "      background-color: #E8F0FE;\n",
              "      border: none;\n",
              "      border-radius: 50%;\n",
              "      cursor: pointer;\n",
              "      display: none;\n",
              "      fill: #1967D2;\n",
              "      height: 32px;\n",
              "      padding: 0 0 0 0;\n",
              "      width: 32px;\n",
              "    }\n",
              "\n",
              "    .colab-df-convert:hover {\n",
              "      background-color: #E2EBFA;\n",
              "      box-shadow: 0px 1px 2px rgba(60, 64, 67, 0.3), 0px 1px 3px 1px rgba(60, 64, 67, 0.15);\n",
              "      fill: #174EA6;\n",
              "    }\n",
              "\n",
              "    .colab-df-buttons div {\n",
              "      margin-bottom: 4px;\n",
              "    }\n",
              "\n",
              "    [theme=dark] .colab-df-convert {\n",
              "      background-color: #3B4455;\n",
              "      fill: #D2E3FC;\n",
              "    }\n",
              "\n",
              "    [theme=dark] .colab-df-convert:hover {\n",
              "      background-color: #434B5C;\n",
              "      box-shadow: 0px 1px 3px 1px rgba(0, 0, 0, 0.15);\n",
              "      filter: drop-shadow(0px 1px 2px rgba(0, 0, 0, 0.3));\n",
              "      fill: #FFFFFF;\n",
              "    }\n",
              "  </style>\n",
              "\n",
              "    <script>\n",
              "      const buttonEl =\n",
              "        document.querySelector('#df-f0aaef42-6a2e-4914-acad-0038ef0e9b94 button.colab-df-convert');\n",
              "      buttonEl.style.display =\n",
              "        google.colab.kernel.accessAllowed ? 'block' : 'none';\n",
              "\n",
              "      async function convertToInteractive(key) {\n",
              "        const element = document.querySelector('#df-f0aaef42-6a2e-4914-acad-0038ef0e9b94');\n",
              "        const dataTable =\n",
              "          await google.colab.kernel.invokeFunction('convertToInteractive',\n",
              "                                                    [key], {});\n",
              "        if (!dataTable) return;\n",
              "\n",
              "        const docLinkHtml = 'Like what you see? Visit the ' +\n",
              "          '<a target=\"_blank\" href=https://colab.research.google.com/notebooks/data_table.ipynb>data table notebook</a>'\n",
              "          + ' to learn more about interactive tables.';\n",
              "        element.innerHTML = '';\n",
              "        dataTable['output_type'] = 'display_data';\n",
              "        await google.colab.output.renderOutput(dataTable, element);\n",
              "        const docLink = document.createElement('div');\n",
              "        docLink.innerHTML = docLinkHtml;\n",
              "        element.appendChild(docLink);\n",
              "      }\n",
              "    </script>\n",
              "  </div>\n",
              "\n",
              "\n",
              "<div id=\"df-c7447c29-5c0a-47e0-a34a-037a358eb98c\">\n",
              "  <button class=\"colab-df-quickchart\" onclick=\"quickchart('df-c7447c29-5c0a-47e0-a34a-037a358eb98c')\"\n",
              "            title=\"Suggest charts\"\n",
              "            style=\"display:none;\">\n",
              "\n",
              "<svg xmlns=\"http://www.w3.org/2000/svg\" height=\"24px\"viewBox=\"0 0 24 24\"\n",
              "     width=\"24px\">\n",
              "    <g>\n",
              "        <path d=\"M19 3H5c-1.1 0-2 .9-2 2v14c0 1.1.9 2 2 2h14c1.1 0 2-.9 2-2V5c0-1.1-.9-2-2-2zM9 17H7v-7h2v7zm4 0h-2V7h2v10zm4 0h-2v-4h2v4z\"/>\n",
              "    </g>\n",
              "</svg>\n",
              "  </button>\n",
              "\n",
              "<style>\n",
              "  .colab-df-quickchart {\n",
              "      --bg-color: #E8F0FE;\n",
              "      --fill-color: #1967D2;\n",
              "      --hover-bg-color: #E2EBFA;\n",
              "      --hover-fill-color: #174EA6;\n",
              "      --disabled-fill-color: #AAA;\n",
              "      --disabled-bg-color: #DDD;\n",
              "  }\n",
              "\n",
              "  [theme=dark] .colab-df-quickchart {\n",
              "      --bg-color: #3B4455;\n",
              "      --fill-color: #D2E3FC;\n",
              "      --hover-bg-color: #434B5C;\n",
              "      --hover-fill-color: #FFFFFF;\n",
              "      --disabled-bg-color: #3B4455;\n",
              "      --disabled-fill-color: #666;\n",
              "  }\n",
              "\n",
              "  .colab-df-quickchart {\n",
              "    background-color: var(--bg-color);\n",
              "    border: none;\n",
              "    border-radius: 50%;\n",
              "    cursor: pointer;\n",
              "    display: none;\n",
              "    fill: var(--fill-color);\n",
              "    height: 32px;\n",
              "    padding: 0;\n",
              "    width: 32px;\n",
              "  }\n",
              "\n",
              "  .colab-df-quickchart:hover {\n",
              "    background-color: var(--hover-bg-color);\n",
              "    box-shadow: 0 1px 2px rgba(60, 64, 67, 0.3), 0 1px 3px 1px rgba(60, 64, 67, 0.15);\n",
              "    fill: var(--button-hover-fill-color);\n",
              "  }\n",
              "\n",
              "  .colab-df-quickchart-complete:disabled,\n",
              "  .colab-df-quickchart-complete:disabled:hover {\n",
              "    background-color: var(--disabled-bg-color);\n",
              "    fill: var(--disabled-fill-color);\n",
              "    box-shadow: none;\n",
              "  }\n",
              "\n",
              "  .colab-df-spinner {\n",
              "    border: 2px solid var(--fill-color);\n",
              "    border-color: transparent;\n",
              "    border-bottom-color: var(--fill-color);\n",
              "    animation:\n",
              "      spin 1s steps(1) infinite;\n",
              "  }\n",
              "\n",
              "  @keyframes spin {\n",
              "    0% {\n",
              "      border-color: transparent;\n",
              "      border-bottom-color: var(--fill-color);\n",
              "      border-left-color: var(--fill-color);\n",
              "    }\n",
              "    20% {\n",
              "      border-color: transparent;\n",
              "      border-left-color: var(--fill-color);\n",
              "      border-top-color: var(--fill-color);\n",
              "    }\n",
              "    30% {\n",
              "      border-color: transparent;\n",
              "      border-left-color: var(--fill-color);\n",
              "      border-top-color: var(--fill-color);\n",
              "      border-right-color: var(--fill-color);\n",
              "    }\n",
              "    40% {\n",
              "      border-color: transparent;\n",
              "      border-right-color: var(--fill-color);\n",
              "      border-top-color: var(--fill-color);\n",
              "    }\n",
              "    60% {\n",
              "      border-color: transparent;\n",
              "      border-right-color: var(--fill-color);\n",
              "    }\n",
              "    80% {\n",
              "      border-color: transparent;\n",
              "      border-right-color: var(--fill-color);\n",
              "      border-bottom-color: var(--fill-color);\n",
              "    }\n",
              "    90% {\n",
              "      border-color: transparent;\n",
              "      border-bottom-color: var(--fill-color);\n",
              "    }\n",
              "  }\n",
              "</style>\n",
              "\n",
              "  <script>\n",
              "    async function quickchart(key) {\n",
              "      const quickchartButtonEl =\n",
              "        document.querySelector('#' + key + ' button');\n",
              "      quickchartButtonEl.disabled = true;  // To prevent multiple clicks.\n",
              "      quickchartButtonEl.classList.add('colab-df-spinner');\n",
              "      try {\n",
              "        const charts = await google.colab.kernel.invokeFunction(\n",
              "            'suggestCharts', [key], {});\n",
              "      } catch (error) {\n",
              "        console.error('Error during call to suggestCharts:', error);\n",
              "      }\n",
              "      quickchartButtonEl.classList.remove('colab-df-spinner');\n",
              "      quickchartButtonEl.classList.add('colab-df-quickchart-complete');\n",
              "    }\n",
              "    (() => {\n",
              "      let quickchartButtonEl =\n",
              "        document.querySelector('#df-c7447c29-5c0a-47e0-a34a-037a358eb98c button');\n",
              "      quickchartButtonEl.style.display =\n",
              "        google.colab.kernel.accessAllowed ? 'block' : 'none';\n",
              "    })();\n",
              "  </script>\n",
              "</div>\n",
              "\n",
              "    </div>\n",
              "  </div>\n"
            ],
            "text/plain": [
              "   CMPD_CHEMBLID   exp                                             smiles\n",
              "0   CHEMBL596271  3.54            Cn1c(CN2CCN(CC2)c3ccc(Cl)cc3)nc4ccccc14\n",
              "1  CHEMBL1951080 -1.18  COc1cc(OC)c(cc1NC(=O)CSCC(=O)O)S(=O)(=O)N2C(C)...\n",
              "2     CHEMBL1771  3.69             COC(=O)[C@@H](N1CCc2sccc2C1)c3ccccc3Cl\n",
              "3   CHEMBL234951  3.37  OC[C@H](O)CN1C(=O)C(Cc2ccccc12)NC(=O)c3cc4cc(C..."
            ]
          },
          "execution_count": 7,
          "metadata": {},
          "output_type": "execute_result"
        }
      ],
      "source": [
        "lipo_data.head(4)"
      ]
    },
    {
      "cell_type": "code",
      "execution_count": 8,
      "metadata": {
        "colab": {
          "base_uri": "https://localhost:8080/"
        },
        "id": "_Sfm_W5DzZfA",
        "outputId": "3d2bddae-3636-4bf4-bc19-64b5af71f3fc"
      },
      "outputs": [
        {
          "data": {
            "text/plain": [
              "array(['CI', 'CM', 'CA'], dtype=object)"
            ]
          },
          "execution_count": 8,
          "metadata": {},
          "output_type": "execute_result"
        }
      ],
      "source": [
        "hiv_data['activity'].unique() ## clinically active(CA), clinically inactive(CI),mildly clinically active(CM)"
      ]
    },
    {
      "cell_type": "code",
      "execution_count": 10,
      "metadata": {
        "colab": {
          "base_uri": "https://localhost:8080/",
          "height": 424
        },
        "id": "oN59w9U9zZX7",
        "outputId": "635e4da6-0db3-4d51-95bf-bf90d8e88ed4"
      },
      "outputs": [
        {
          "data": {
            "application/vnd.google.colaboratory.intrinsic+json": {
              "summary": "{\n  \"name\": \"hiv_data[hiv_data['activity'] == \\\"CA\\\"]\",\n  \"rows\": 404,\n  \"fields\": [\n    {\n      \"column\": \"smiles\",\n      \"properties\": {\n        \"dtype\": \"string\",\n        \"num_unique_values\": 404,\n        \"samples\": [\n          \"O=S1(=O)CC(O)C(O)CS1\",\n          \"C[N+](C)(C)C.O=S(O)(=[OH+])c1cc(N=Nc2cc(S(=O)(O)=[OH+])c3cccnc3c2O[Zn]Cl)ccc1C=Cc1ccc(N=Nc2cc(S(=O)(O)=[OH+])c3cccnc3c2O[Zn]Cl)cc1S(=O)(O)=[OH+]\",\n          \"CCCCCCCCCCCCCCCCCCOC(CO)COP(=O)(O)OCC1OC(n2cc(C)c(=O)[nH]c2=O)CC1F\"\n        ],\n        \"semantic_type\": \"\",\n        \"description\": \"\"\n      }\n    },\n    {\n      \"column\": \"activity\",\n      \"properties\": {\n        \"dtype\": \"category\",\n        \"num_unique_values\": 1,\n        \"samples\": [\n          \"CA\"\n        ],\n        \"semantic_type\": \"\",\n        \"description\": \"\"\n      }\n    },\n    {\n      \"column\": \"HIV_active\",\n      \"properties\": {\n        \"dtype\": \"number\",\n        \"std\": 0,\n        \"min\": 1,\n        \"max\": 1,\n        \"num_unique_values\": 1,\n        \"samples\": [\n          1\n        ],\n        \"semantic_type\": \"\",\n        \"description\": \"\"\n      }\n    }\n  ]\n}",
              "type": "dataframe"
            },
            "text/html": [
              "\n",
              "  <div id=\"df-b49a9d42-c051-46fc-a738-301d15cd8ce6\" class=\"colab-df-container\">\n",
              "    <div>\n",
              "<style scoped>\n",
              "    .dataframe tbody tr th:only-of-type {\n",
              "        vertical-align: middle;\n",
              "    }\n",
              "\n",
              "    .dataframe tbody tr th {\n",
              "        vertical-align: top;\n",
              "    }\n",
              "\n",
              "    .dataframe thead th {\n",
              "        text-align: right;\n",
              "    }\n",
              "</style>\n",
              "<table border=\"1\" class=\"dataframe\">\n",
              "  <thead>\n",
              "    <tr style=\"text-align: right;\">\n",
              "      <th></th>\n",
              "      <th>smiles</th>\n",
              "      <th>activity</th>\n",
              "      <th>HIV_active</th>\n",
              "    </tr>\n",
              "  </thead>\n",
              "  <tbody>\n",
              "    <tr>\n",
              "      <th>271</th>\n",
              "      <td>Cc1cc(-c2ccc(N=Nc3cc(S(=O)(=O)O)c4ccccc4c3N)c(...</td>\n",
              "      <td>CA</td>\n",
              "      <td>1</td>\n",
              "    </tr>\n",
              "    <tr>\n",
              "      <th>352</th>\n",
              "      <td>O=S(=O)(O)c1cc2ccc1ccc1ccc(cc1S(=O)(=O)O)nnc1c...</td>\n",
              "      <td>CA</td>\n",
              "      <td>1</td>\n",
              "    </tr>\n",
              "    <tr>\n",
              "      <th>353</th>\n",
              "      <td>Nc1c(N=Nc2ccc(-c3ccc(N=Nc4cc(S(=O)(=O)O)c5cccc...</td>\n",
              "      <td>CA</td>\n",
              "      <td>1</td>\n",
              "    </tr>\n",
              "    <tr>\n",
              "      <th>429</th>\n",
              "      <td>COC1C(OC(=O)C=CC=CC=CC=CC(=O)O)CCC2(CO2)C1C1(C...</td>\n",
              "      <td>CA</td>\n",
              "      <td>1</td>\n",
              "    </tr>\n",
              "    <tr>\n",
              "      <th>443</th>\n",
              "      <td>COc1cc(-c2ccc(N=Nc3ccc4c(S(=O)(=O)O)cc(S(=O)(=...</td>\n",
              "      <td>CA</td>\n",
              "      <td>1</td>\n",
              "    </tr>\n",
              "    <tr>\n",
              "      <th>...</th>\n",
              "      <td>...</td>\n",
              "      <td>...</td>\n",
              "      <td>...</td>\n",
              "    </tr>\n",
              "    <tr>\n",
              "      <th>41029</th>\n",
              "      <td>CCCCCCCCCCCCCCCCCCOC(COP(=O)(O)OCC1CCC(n2cnc3c...</td>\n",
              "      <td>CA</td>\n",
              "      <td>1</td>\n",
              "    </tr>\n",
              "    <tr>\n",
              "      <th>41031</th>\n",
              "      <td>CCCCCCCCCCCCCCCC(=O)Nc1ccn(C2CCC(COP(=O)(O)OCC...</td>\n",
              "      <td>CA</td>\n",
              "      <td>1</td>\n",
              "    </tr>\n",
              "    <tr>\n",
              "      <th>41054</th>\n",
              "      <td>CCN1CC(C)Cn2c(=S)[nH]c3cc(Br)cc1c32</td>\n",
              "      <td>CA</td>\n",
              "      <td>1</td>\n",
              "    </tr>\n",
              "    <tr>\n",
              "      <th>41055</th>\n",
              "      <td>CCN1c2cc(Br)cc3[nH]c(=S)n(c23)CCC1C</td>\n",
              "      <td>CA</td>\n",
              "      <td>1</td>\n",
              "    </tr>\n",
              "    <tr>\n",
              "      <th>41099</th>\n",
              "      <td>C[Se]CCC1OCC2OC(n3cc(C)c(=O)[nH]c3=O)CC2N1O</td>\n",
              "      <td>CA</td>\n",
              "      <td>1</td>\n",
              "    </tr>\n",
              "  </tbody>\n",
              "</table>\n",
              "<p>404 rows × 3 columns</p>\n",
              "</div>\n",
              "    <div class=\"colab-df-buttons\">\n",
              "\n",
              "  <div class=\"colab-df-container\">\n",
              "    <button class=\"colab-df-convert\" onclick=\"convertToInteractive('df-b49a9d42-c051-46fc-a738-301d15cd8ce6')\"\n",
              "            title=\"Convert this dataframe to an interactive table.\"\n",
              "            style=\"display:none;\">\n",
              "\n",
              "  <svg xmlns=\"http://www.w3.org/2000/svg\" height=\"24px\" viewBox=\"0 -960 960 960\">\n",
              "    <path d=\"M120-120v-720h720v720H120Zm60-500h600v-160H180v160Zm220 220h160v-160H400v160Zm0 220h160v-160H400v160ZM180-400h160v-160H180v160Zm440 0h160v-160H620v160ZM180-180h160v-160H180v160Zm440 0h160v-160H620v160Z\"/>\n",
              "  </svg>\n",
              "    </button>\n",
              "\n",
              "  <style>\n",
              "    .colab-df-container {\n",
              "      display:flex;\n",
              "      gap: 12px;\n",
              "    }\n",
              "\n",
              "    .colab-df-convert {\n",
              "      background-color: #E8F0FE;\n",
              "      border: none;\n",
              "      border-radius: 50%;\n",
              "      cursor: pointer;\n",
              "      display: none;\n",
              "      fill: #1967D2;\n",
              "      height: 32px;\n",
              "      padding: 0 0 0 0;\n",
              "      width: 32px;\n",
              "    }\n",
              "\n",
              "    .colab-df-convert:hover {\n",
              "      background-color: #E2EBFA;\n",
              "      box-shadow: 0px 1px 2px rgba(60, 64, 67, 0.3), 0px 1px 3px 1px rgba(60, 64, 67, 0.15);\n",
              "      fill: #174EA6;\n",
              "    }\n",
              "\n",
              "    .colab-df-buttons div {\n",
              "      margin-bottom: 4px;\n",
              "    }\n",
              "\n",
              "    [theme=dark] .colab-df-convert {\n",
              "      background-color: #3B4455;\n",
              "      fill: #D2E3FC;\n",
              "    }\n",
              "\n",
              "    [theme=dark] .colab-df-convert:hover {\n",
              "      background-color: #434B5C;\n",
              "      box-shadow: 0px 1px 3px 1px rgba(0, 0, 0, 0.15);\n",
              "      filter: drop-shadow(0px 1px 2px rgba(0, 0, 0, 0.3));\n",
              "      fill: #FFFFFF;\n",
              "    }\n",
              "  </style>\n",
              "\n",
              "    <script>\n",
              "      const buttonEl =\n",
              "        document.querySelector('#df-b49a9d42-c051-46fc-a738-301d15cd8ce6 button.colab-df-convert');\n",
              "      buttonEl.style.display =\n",
              "        google.colab.kernel.accessAllowed ? 'block' : 'none';\n",
              "\n",
              "      async function convertToInteractive(key) {\n",
              "        const element = document.querySelector('#df-b49a9d42-c051-46fc-a738-301d15cd8ce6');\n",
              "        const dataTable =\n",
              "          await google.colab.kernel.invokeFunction('convertToInteractive',\n",
              "                                                    [key], {});\n",
              "        if (!dataTable) return;\n",
              "\n",
              "        const docLinkHtml = 'Like what you see? Visit the ' +\n",
              "          '<a target=\"_blank\" href=https://colab.research.google.com/notebooks/data_table.ipynb>data table notebook</a>'\n",
              "          + ' to learn more about interactive tables.';\n",
              "        element.innerHTML = '';\n",
              "        dataTable['output_type'] = 'display_data';\n",
              "        await google.colab.output.renderOutput(dataTable, element);\n",
              "        const docLink = document.createElement('div');\n",
              "        docLink.innerHTML = docLinkHtml;\n",
              "        element.appendChild(docLink);\n",
              "      }\n",
              "    </script>\n",
              "  </div>\n",
              "\n",
              "\n",
              "<div id=\"df-a06e8ba4-e319-44d2-993a-4d82ab30c8af\">\n",
              "  <button class=\"colab-df-quickchart\" onclick=\"quickchart('df-a06e8ba4-e319-44d2-993a-4d82ab30c8af')\"\n",
              "            title=\"Suggest charts\"\n",
              "            style=\"display:none;\">\n",
              "\n",
              "<svg xmlns=\"http://www.w3.org/2000/svg\" height=\"24px\"viewBox=\"0 0 24 24\"\n",
              "     width=\"24px\">\n",
              "    <g>\n",
              "        <path d=\"M19 3H5c-1.1 0-2 .9-2 2v14c0 1.1.9 2 2 2h14c1.1 0 2-.9 2-2V5c0-1.1-.9-2-2-2zM9 17H7v-7h2v7zm4 0h-2V7h2v10zm4 0h-2v-4h2v4z\"/>\n",
              "    </g>\n",
              "</svg>\n",
              "  </button>\n",
              "\n",
              "<style>\n",
              "  .colab-df-quickchart {\n",
              "      --bg-color: #E8F0FE;\n",
              "      --fill-color: #1967D2;\n",
              "      --hover-bg-color: #E2EBFA;\n",
              "      --hover-fill-color: #174EA6;\n",
              "      --disabled-fill-color: #AAA;\n",
              "      --disabled-bg-color: #DDD;\n",
              "  }\n",
              "\n",
              "  [theme=dark] .colab-df-quickchart {\n",
              "      --bg-color: #3B4455;\n",
              "      --fill-color: #D2E3FC;\n",
              "      --hover-bg-color: #434B5C;\n",
              "      --hover-fill-color: #FFFFFF;\n",
              "      --disabled-bg-color: #3B4455;\n",
              "      --disabled-fill-color: #666;\n",
              "  }\n",
              "\n",
              "  .colab-df-quickchart {\n",
              "    background-color: var(--bg-color);\n",
              "    border: none;\n",
              "    border-radius: 50%;\n",
              "    cursor: pointer;\n",
              "    display: none;\n",
              "    fill: var(--fill-color);\n",
              "    height: 32px;\n",
              "    padding: 0;\n",
              "    width: 32px;\n",
              "  }\n",
              "\n",
              "  .colab-df-quickchart:hover {\n",
              "    background-color: var(--hover-bg-color);\n",
              "    box-shadow: 0 1px 2px rgba(60, 64, 67, 0.3), 0 1px 3px 1px rgba(60, 64, 67, 0.15);\n",
              "    fill: var(--button-hover-fill-color);\n",
              "  }\n",
              "\n",
              "  .colab-df-quickchart-complete:disabled,\n",
              "  .colab-df-quickchart-complete:disabled:hover {\n",
              "    background-color: var(--disabled-bg-color);\n",
              "    fill: var(--disabled-fill-color);\n",
              "    box-shadow: none;\n",
              "  }\n",
              "\n",
              "  .colab-df-spinner {\n",
              "    border: 2px solid var(--fill-color);\n",
              "    border-color: transparent;\n",
              "    border-bottom-color: var(--fill-color);\n",
              "    animation:\n",
              "      spin 1s steps(1) infinite;\n",
              "  }\n",
              "\n",
              "  @keyframes spin {\n",
              "    0% {\n",
              "      border-color: transparent;\n",
              "      border-bottom-color: var(--fill-color);\n",
              "      border-left-color: var(--fill-color);\n",
              "    }\n",
              "    20% {\n",
              "      border-color: transparent;\n",
              "      border-left-color: var(--fill-color);\n",
              "      border-top-color: var(--fill-color);\n",
              "    }\n",
              "    30% {\n",
              "      border-color: transparent;\n",
              "      border-left-color: var(--fill-color);\n",
              "      border-top-color: var(--fill-color);\n",
              "      border-right-color: var(--fill-color);\n",
              "    }\n",
              "    40% {\n",
              "      border-color: transparent;\n",
              "      border-right-color: var(--fill-color);\n",
              "      border-top-color: var(--fill-color);\n",
              "    }\n",
              "    60% {\n",
              "      border-color: transparent;\n",
              "      border-right-color: var(--fill-color);\n",
              "    }\n",
              "    80% {\n",
              "      border-color: transparent;\n",
              "      border-right-color: var(--fill-color);\n",
              "      border-bottom-color: var(--fill-color);\n",
              "    }\n",
              "    90% {\n",
              "      border-color: transparent;\n",
              "      border-bottom-color: var(--fill-color);\n",
              "    }\n",
              "  }\n",
              "</style>\n",
              "\n",
              "  <script>\n",
              "    async function quickchart(key) {\n",
              "      const quickchartButtonEl =\n",
              "        document.querySelector('#' + key + ' button');\n",
              "      quickchartButtonEl.disabled = true;  // To prevent multiple clicks.\n",
              "      quickchartButtonEl.classList.add('colab-df-spinner');\n",
              "      try {\n",
              "        const charts = await google.colab.kernel.invokeFunction(\n",
              "            'suggestCharts', [key], {});\n",
              "      } catch (error) {\n",
              "        console.error('Error during call to suggestCharts:', error);\n",
              "      }\n",
              "      quickchartButtonEl.classList.remove('colab-df-spinner');\n",
              "      quickchartButtonEl.classList.add('colab-df-quickchart-complete');\n",
              "    }\n",
              "    (() => {\n",
              "      let quickchartButtonEl =\n",
              "        document.querySelector('#df-a06e8ba4-e319-44d2-993a-4d82ab30c8af button');\n",
              "      quickchartButtonEl.style.display =\n",
              "        google.colab.kernel.accessAllowed ? 'block' : 'none';\n",
              "    })();\n",
              "  </script>\n",
              "</div>\n",
              "\n",
              "    </div>\n",
              "  </div>\n"
            ],
            "text/plain": [
              "                                                  smiles activity  HIV_active\n",
              "271    Cc1cc(-c2ccc(N=Nc3cc(S(=O)(=O)O)c4ccccc4c3N)c(...       CA           1\n",
              "352    O=S(=O)(O)c1cc2ccc1ccc1ccc(cc1S(=O)(=O)O)nnc1c...       CA           1\n",
              "353    Nc1c(N=Nc2ccc(-c3ccc(N=Nc4cc(S(=O)(=O)O)c5cccc...       CA           1\n",
              "429    COC1C(OC(=O)C=CC=CC=CC=CC(=O)O)CCC2(CO2)C1C1(C...       CA           1\n",
              "443    COc1cc(-c2ccc(N=Nc3ccc4c(S(=O)(=O)O)cc(S(=O)(=...       CA           1\n",
              "...                                                  ...      ...         ...\n",
              "41029  CCCCCCCCCCCCCCCCCCOC(COP(=O)(O)OCC1CCC(n2cnc3c...       CA           1\n",
              "41031  CCCCCCCCCCCCCCCC(=O)Nc1ccn(C2CCC(COP(=O)(O)OCC...       CA           1\n",
              "41054                CCN1CC(C)Cn2c(=S)[nH]c3cc(Br)cc1c32       CA           1\n",
              "41055                CCN1c2cc(Br)cc3[nH]c(=S)n(c23)CCC1C       CA           1\n",
              "41099        C[Se]CCC1OCC2OC(n3cc(C)c(=O)[nH]c3=O)CC2N1O       CA           1\n",
              "\n",
              "[404 rows x 3 columns]"
            ]
          },
          "execution_count": 10,
          "metadata": {},
          "output_type": "execute_result"
        }
      ],
      "source": [
        "hiv_data[hiv_data['activity'] == \"CA\"]"
      ]
    },
    {
      "cell_type": "code",
      "execution_count": 28,
      "metadata": {
        "colab": {
          "base_uri": "https://localhost:8080/",
          "height": 704
        },
        "id": "OmXwyL1Pz7By",
        "outputId": "ca1835dc-210a-46df-9c22-91c9b1d01f9a"
      },
      "outputs": [
        {
          "name": "stdout",
          "output_type": "stream",
          "text": [
            "                                              smiles activity  HIV_active\n",
            "0  CCC1=[O+][Cu-3]2([O+]=C(CC)C1)[O+]=C(CC)CC(CC)...       CI           0\n",
            "1  C(=Cc1ccccc1)C1=[O+][Cu-3]2([O+]=C(C=Cc3ccccc3...       CI           0\n",
            "2                   CC(=O)N1c2ccccc2Sc2c1ccc1ccccc21       CI           0\n",
            "3    Nc1ccc(C=Cc2ccc(N)cc2S(=O)(=O)O)c(S(=O)(=O)O)c1       CI           0\n"
          ]
        },
        {
          "data": {
            "image/png": "[encoded data removed]",
            "text/plain": [
              "<IPython.core.display.Image object>"
            ]
          },
          "execution_count": 28,
          "metadata": {},
          "output_type": "execute_result"
        }
      ],
      "source": [
        "from rdkit import Chem\n",
        "from rdkit.Chem import Draw\n",
        "\n",
        "# Sample SMILES data\n",
        "c_active = hiv_data[hiv_data['activity'] ==\"CA\"]\n",
        "c_inactive = hiv_data[hiv_data['activity'] ==\"CI\"]\n",
        "\n",
        "\n",
        "smiles_data = list(c_active['smiles'].head(2)) + list(c_inactive['smiles'].head(2))\n",
        "activity_data = list(c_active['activity'].head(2)) + list(c_inactive['activity'].head(2))\n",
        "\n",
        "# Convert SMILES to RDKit Molecule objects\n",
        "molecules = [Chem.MolFromSmiles(smiles) for smiles in smiles_data]\n",
        "\n",
        "# Display molecules in a grid\n",
        "img = Draw.MolsToGridImage(molecules, molsPerRow=2, subImgSize=(300, 300), legends=activity_data, maxMols=4)\n",
        "print(hiv_data.iloc[0:4,])\n",
        "img"
      ]
    },
    {
      "cell_type": "markdown",
      "metadata": {
        "id": "afg5jwaD7ZUF"
      },
      "source": [
        "# How do you go about implementing this data in Graph Neural Network?\n",
        "\n",
        "Processed data is available with OGB(Open Graph Benchmark) package. Which contains large database related to graph structures. In case you have your own data you can use the following function to change your SMILE molecule string to graph data for Pytorch_geometric format.\n",
        "\n"
      ]
    },
    {
      "cell_type": "code",
      "execution_count": 29,
      "metadata": {
        "colab": {
          "base_uri": "https://localhost:8080/"
        },
        "id": "QIiY_Wm38q07",
        "outputId": "7bd46e5d-750f-44c1-a09a-24ee5f21f8ad"
      },
      "outputs": [
        {
          "data": {
            "text/plain": [
              "['Cc1cc(-c2ccc(N=Nc3cc(S(=O)(=O)O)c4ccccc4c3N)c(C)c2)ccc1N=Nc1cc(S(=O)(=O)O)c2ccccc2c1N',\n",
              " 'O=S(=O)(O)c1cc2ccc1ccc1ccc(cc1S(=O)(=O)O)nnc1ccc(ccc3ccc(cc3S(=O)(=O)O)nn2)c(S(=O)(=O)O)c1',\n",
              " 'CCC1=[O+][Cu-3]2([O+]=C(CC)C1)[O+]=C(CC)CC(CC)=[O+]2',\n",
              " 'C(=Cc1ccccc1)C1=[O+][Cu-3]2([O+]=C(C=Cc3ccccc3)CC(c3ccccc3)=[O+]2)[O+]=C(c2ccccc2)C1']"
            ]
          },
          "execution_count": 29,
          "metadata": {},
          "output_type": "execute_result"
        }
      ],
      "source": [
        "smiles_data"
      ]
    },
    {
      "cell_type": "code",
      "execution_count": 30,
      "metadata": {
        "id": "XEmdqy3D7ZFg"
      },
      "outputs": [],
      "source": [
        "from ogb.utils.mol import smiles2graph\n",
        "graph_data_sample = smiles2graph(smiles_data[0])\n",
        "\n",
        "\n"
      ]
    },
    {
      "cell_type": "code",
      "execution_count": 31,
      "metadata": {
        "colab": {
          "base_uri": "https://localhost:8080/"
        },
        "id": "TjwfSpPJ8zg9",
        "outputId": "529e317c-2515-44e3-f168-4ce3df573181"
      },
      "outputs": [
        {
          "data": {
            "text/plain": [
              "{'edge_index': array([[ 0,  1,  1,  2,  2,  3,  3,  4,  4,  5,  5,  6,  6,  7,  7,  8,\n",
              "          8,  9,  9, 10, 10, 11, 11, 12, 12, 13, 13, 14, 13, 15, 13, 16,\n",
              "         12, 17, 17, 18, 18, 19, 19, 20, 20, 21, 21, 22, 22, 23, 23, 24,\n",
              "          7, 25, 25, 26, 25, 27,  3, 28, 28, 29, 29, 30, 30, 31, 31, 32,\n",
              "         32, 33, 33, 34, 34, 35, 35, 36, 36, 37, 36, 38, 36, 39, 35, 40,\n",
              "         40, 41, 41, 42, 42, 43, 43, 44, 44, 45, 45, 46, 46, 47, 30,  1,\n",
              "         46, 33, 27,  4, 45, 40, 23, 10, 22, 17],\n",
              "        [ 1,  0,  2,  1,  3,  2,  4,  3,  5,  4,  6,  5,  7,  6,  8,  7,\n",
              "          9,  8, 10,  9, 11, 10, 12, 11, 13, 12, 14, 13, 15, 13, 16, 13,\n",
              "         17, 12, 18, 17, 19, 18, 20, 19, 21, 20, 22, 21, 23, 22, 24, 23,\n",
              "         25,  7, 26, 25, 27, 25, 28,  3, 29, 28, 30, 29, 31, 30, 32, 31,\n",
              "         33, 32, 34, 33, 35, 34, 36, 35, 37, 36, 38, 36, 39, 36, 40, 35,\n",
              "         41, 40, 42, 41, 43, 42, 44, 43, 45, 44, 46, 45, 47, 46,  1, 30,\n",
              "         33, 46,  4, 27, 40, 45, 10, 23, 17, 22]]),\n",
              " 'edge_feat': array([[0, 0, 0],\n",
              "        [0, 0, 0],\n",
              "        [3, 0, 1],\n",
              "        [3, 0, 1],\n",
              "        [3, 0, 1],\n",
              "        [3, 0, 1],\n",
              "        [0, 0, 1],\n",
              "        [0, 0, 1],\n",
              "        [3, 0, 1],\n",
              "        [3, 0, 1],\n",
              "        [3, 0, 1],\n",
              "        [3, 0, 1],\n",
              "        [3, 0, 1],\n",
              "        [3, 0, 1],\n",
              "        [0, 0, 1],\n",
              "        [0, 0, 1],\n",
              "        [1, 0, 1],\n",
              "        [1, 0, 1],\n",
              "        [0, 0, 1],\n",
              "        [0, 0, 1],\n",
              "        [3, 0, 1],\n",
              "        [3, 0, 1],\n",
              "        [3, 0, 1],\n",
              "        [3, 0, 1],\n",
              "        [0, 0, 0],\n",
              "        [0, 0, 0],\n",
              "        [1, 0, 0],\n",
              "        [1, 0, 0],\n",
              "        [1, 0, 0],\n",
              "        [1, 0, 0],\n",
              "        [0, 0, 0],\n",
              "        [0, 0, 0],\n",
              "        [3, 0, 1],\n",
              "        [3, 0, 1],\n",
              "        [3, 0, 1],\n",
              "        [3, 0, 1],\n",
              "        [3, 0, 1],\n",
              "        [3, 0, 1],\n",
              "        [3, 0, 1],\n",
              "        [3, 0, 1],\n",
              "        [3, 0, 1],\n",
              "        [3, 0, 1],\n",
              "        [3, 0, 1],\n",
              "        [3, 0, 1],\n",
              "        [3, 0, 1],\n",
              "        [3, 0, 1],\n",
              "        [0, 0, 1],\n",
              "        [0, 0, 1],\n",
              "        [3, 0, 1],\n",
              "        [3, 0, 1],\n",
              "        [0, 0, 0],\n",
              "        [0, 0, 0],\n",
              "        [3, 0, 1],\n",
              "        [3, 0, 1],\n",
              "        [3, 0, 1],\n",
              "        [3, 0, 1],\n",
              "        [3, 0, 1],\n",
              "        [3, 0, 1],\n",
              "        [3, 0, 1],\n",
              "        [3, 0, 1],\n",
              "        [0, 0, 1],\n",
              "        [0, 0, 1],\n",
              "        [1, 0, 1],\n",
              "        [1, 0, 1],\n",
              "        [0, 0, 1],\n",
              "        [0, 0, 1],\n",
              "        [3, 0, 1],\n",
              "        [3, 0, 1],\n",
              "        [3, 0, 1],\n",
              "        [3, 0, 1],\n",
              "        [0, 0, 0],\n",
              "        [0, 0, 0],\n",
              "        [1, 0, 0],\n",
              "        [1, 0, 0],\n",
              "        [1, 0, 0],\n",
              "        [1, 0, 0],\n",
              "        [0, 0, 0],\n",
              "        [0, 0, 0],\n",
              "        [3, 0, 1],\n",
              "        [3, 0, 1],\n",
              "        [3, 0, 1],\n",
              "        [3, 0, 1],\n",
              "        [3, 0, 1],\n",
              "        [3, 0, 1],\n",
              "        [3, 0, 1],\n",
              "        [3, 0, 1],\n",
              "        [3, 0, 1],\n",
              "        [3, 0, 1],\n",
              "        [3, 0, 1],\n",
              "        [3, 0, 1],\n",
              "        [3, 0, 1],\n",
              "        [3, 0, 1],\n",
              "        [0, 0, 1],\n",
              "        [0, 0, 1],\n",
              "        [3, 0, 1],\n",
              "        [3, 0, 1],\n",
              "        [3, 0, 1],\n",
              "        [3, 0, 1],\n",
              "        [3, 0, 1],\n",
              "        [3, 0, 1],\n",
              "        [3, 0, 1],\n",
              "        [3, 0, 1],\n",
              "        [3, 0, 1],\n",
              "        [3, 0, 1],\n",
              "        [3, 0, 1],\n",
              "        [3, 0, 1]]),\n",
              " 'node_feat': array([[ 5,  0,  4,  5,  3,  0,  2,  0,  0],\n",
              "        [ 5,  0,  3,  5,  0,  0,  1,  1,  1],\n",
              "        [ 5,  0,  3,  5,  1,  0,  1,  1,  1],\n",
              "        [ 5,  0,  3,  5,  0,  0,  1,  1,  1],\n",
              "        [ 5,  0,  3,  5,  0,  0,  1,  1,  1],\n",
              "        [ 5,  0,  3,  5,  1,  0,  1,  1,  1],\n",
              "        [ 5,  0,  3,  5,  1,  0,  1,  1,  1],\n",
              "        [ 5,  0,  3,  5,  0,  0,  1,  1,  1],\n",
              "        [ 6,  0,  2,  5,  0,  0,  1,  0,  0],\n",
              "        [ 6,  0,  2,  5,  0,  0,  1,  0,  0],\n",
              "        [ 5,  0,  3,  5,  0,  0,  1,  1,  1],\n",
              "        [ 5,  0,  3,  5,  1,  0,  1,  1,  1],\n",
              "        [ 5,  0,  3,  5,  0,  0,  1,  1,  1],\n",
              "        [15,  0,  4,  5,  0,  0,  2,  0,  0],\n",
              "        [ 7,  0,  1,  5,  0,  0,  1,  0,  0],\n",
              "        [ 7,  0,  1,  5,  0,  0,  1,  0,  0],\n",
              "        [ 7,  0,  2,  5,  1,  0,  2,  0,  0],\n",
              "        [ 5,  0,  3,  5,  0,  0,  1,  1,  1],\n",
              "        [ 5,  0,  3,  5,  1,  0,  1,  1,  1],\n",
              "        [ 5,  0,  3,  5,  1,  0,  1,  1,  1],\n",
              "        [ 5,  0,  3,  5,  1,  0,  1,  1,  1],\n",
              "        [ 5,  0,  3,  5,  1,  0,  1,  1,  1],\n",
              "        [ 5,  0,  3,  5,  0,  0,  1,  1,  1],\n",
              "        [ 5,  0,  3,  5,  0,  0,  1,  1,  1],\n",
              "        [ 6,  0,  3,  5,  2,  0,  1,  0,  0],\n",
              "        [ 5,  0,  3,  5,  0,  0,  1,  1,  1],\n",
              "        [ 5,  0,  4,  5,  3,  0,  2,  0,  0],\n",
              "        [ 5,  0,  3,  5,  1,  0,  1,  1,  1],\n",
              "        [ 5,  0,  3,  5,  1,  0,  1,  1,  1],\n",
              "        [ 5,  0,  3,  5,  1,  0,  1,  1,  1],\n",
              "        [ 5,  0,  3,  5,  0,  0,  1,  1,  1],\n",
              "        [ 6,  0,  2,  5,  0,  0,  1,  0,  0],\n",
              "        [ 6,  0,  2,  5,  0,  0,  1,  0,  0],\n",
              "        [ 5,  0,  3,  5,  0,  0,  1,  1,  1],\n",
              "        [ 5,  0,  3,  5,  1,  0,  1,  1,  1],\n",
              "        [ 5,  0,  3,  5,  0,  0,  1,  1,  1],\n",
              "        [15,  0,  4,  5,  0,  0,  2,  0,  0],\n",
              "        [ 7,  0,  1,  5,  0,  0,  1,  0,  0],\n",
              "        [ 7,  0,  1,  5,  0,  0,  1,  0,  0],\n",
              "        [ 7,  0,  2,  5,  1,  0,  2,  0,  0],\n",
              "        [ 5,  0,  3,  5,  0,  0,  1,  1,  1],\n",
              "        [ 5,  0,  3,  5,  1,  0,  1,  1,  1],\n",
              "        [ 5,  0,  3,  5,  1,  0,  1,  1,  1],\n",
              "        [ 5,  0,  3,  5,  1,  0,  1,  1,  1],\n",
              "        [ 5,  0,  3,  5,  1,  0,  1,  1,  1],\n",
              "        [ 5,  0,  3,  5,  0,  0,  1,  1,  1],\n",
              "        [ 5,  0,  3,  5,  0,  0,  1,  1,  1],\n",
              "        [ 6,  0,  3,  5,  2,  0,  1,  0,  0]]),\n",
              " 'num_nodes': 48}"
            ]
          },
          "execution_count": 31,
          "metadata": {},
          "output_type": "execute_result"
        }
      ],
      "source": [
        "graph_data_sample"
      ]
    },
    {
      "cell_type": "code",
      "execution_count": 33,
      "metadata": {
        "colab": {
          "base_uri": "https://localhost:8080/"
        },
        "id": "yJPeaPJW9Qpy",
        "outputId": "aa6608e2-d828-416e-ad3d-32d2c357f537"
      },
      "outputs": [
        {
          "data": {
            "text/plain": [
              "dict_keys(['edge_index', 'edge_feat', 'node_feat', 'num_nodes'])"
            ]
          },
          "execution_count": 33,
          "metadata": {},
          "output_type": "execute_result"
        }
      ],
      "source": [
        "graph_data_sample.keys()"
      ]
    },
    {
      "cell_type": "code",
      "execution_count": 35,
      "metadata": {
        "colab": {
          "base_uri": "https://localhost:8080/"
        },
        "id": "tm6ESQwi8zUO",
        "outputId": "9fb09aa0-1732-4476-bf72-52bc74914c65"
      },
      "outputs": [
        {
          "name": "stderr",
          "output_type": "stream",
          "text": [
            "/usr/local/lib/python3.10/dist-packages/ogb/graphproppred/dataset_pyg.py:68: FutureWarning: You are using `torch.load` with `weights_only=False` (the current default value), which uses the default pickle module implicitly. It is possible to construct malicious pickle data which will execute arbitrary code during unpickling (See https://github.com/pytorch/pytorch/blob/main/SECURITY.md#untrusted-models for more details). In a future release, the default value for `weights_only` will be flipped to `True`. This limits the functions that could be executed during unpickling. Arbitrary objects will no longer be allowed to be loaded via this mode unless they are explicitly allowlisted by the user via `torch.serialization.add_safe_globals`. We recommend you start setting `weights_only=True` for any use case where you don't have full control of the loaded file. Please open an issue on GitHub for any issues related to this experimental feature.\n",
            "  self.data, self.slices = torch.load(self.processed_paths[0])\n"
          ]
        }
      ],
      "source": [
        "from ogb.graphproppred import PygGraphPropPredDataset\n",
        "\n",
        "# Load the dataset\n",
        "dataset = PygGraphPropPredDataset(name=\"ogbg-molhiv\")\n",
        "# Get a sample (e.g., the first sample)\n",
        "sample = dataset[0]"
      ]
    },
    {
      "cell_type": "markdown",
      "metadata": {
        "id": "YE0Mye9n9i9Q"
      },
      "source": [
        "As you can see below the sample from the OGB package, has same variables with an additional variable y. Which is our target variable. If you are preprocessing from raw data that is Smile stucture to a label.\n",
        "\n",
        "You can process the data then change the names\n",
        "\n",
        "from dict_keys(['edge_index', 'edge_feat', 'node_feat', 'num_nodes'])\n",
        "\n",
        "to edge_index=[2, 40], edge_attr=[40, 3], x=[19, 9], y=[1, 1], num_nodes=19\n",
        "\n",
        "Here edge_index remains same, edge_feat -> edge_attr, node_feat -> x, hiv_data['HIV_active'] -> y and num_nodes remains same.\n",
        "\n",
        "** With this you would be able to process any SMILE molecule with a label and build your own pipeline for molecule classifier or property prediction(Later on with ogb-mollipo data).**\n"
      ]
    },
    {
      "cell_type": "code",
      "execution_count": 40,
      "metadata": {
        "colab": {
          "base_uri": "https://localhost:8080/"
        },
        "id": "eRLzOs-_zZKH",
        "outputId": "77096e1c-b67a-4d30-dbcf-71378e40897d"
      },
      "outputs": [
        {
          "name": "stdout",
          "output_type": "stream",
          "text": [
            "Sample Graph: Data(edge_index=[2, 40], edge_attr=[40, 3], x=[19, 9], y=[1, 1], num_nodes=19)\n",
            "Node features (x): tensor([[ 5,  0,  4,  5,  3,  0,  2,  0,  0],\n",
            "        [ 5,  0,  4,  5,  2,  0,  2,  0,  0],\n",
            "        [ 5,  0,  3,  5,  0,  0,  1,  0,  1],\n",
            "        [ 7,  0,  2,  6,  0,  0,  1,  0,  1],\n",
            "        [28,  0,  4,  2,  0,  0,  5,  0,  1],\n",
            "        [ 7,  0,  2,  6,  0,  0,  1,  0,  1],\n",
            "        [ 5,  0,  3,  5,  0,  0,  1,  0,  1],\n",
            "        [ 5,  0,  4,  5,  2,  0,  2,  0,  0],\n",
            "        [ 5,  0,  4,  5,  3,  0,  2,  0,  0],\n",
            "        [ 5,  0,  4,  5,  2,  0,  2,  0,  1],\n",
            "        [ 7,  0,  2,  6,  0,  0,  1,  0,  1],\n",
            "        [ 5,  0,  3,  5,  0,  0,  1,  0,  1],\n",
            "        [ 5,  0,  4,  5,  2,  0,  2,  0,  0],\n",
            "        [ 5,  0,  4,  5,  3,  0,  2,  0,  0],\n",
            "        [ 5,  0,  4,  5,  2,  0,  2,  0,  1],\n",
            "        [ 5,  0,  3,  5,  0,  0,  1,  0,  1],\n",
            "        [ 5,  0,  4,  5,  2,  0,  2,  0,  0],\n",
            "        [ 5,  0,  4,  5,  3,  0,  2,  0,  0],\n",
            "        [ 7,  0,  2,  6,  0,  0,  1,  0,  1]])\n",
            "Edge index (connectivity): tensor([[ 0,  1,  1,  2,  2,  3,  3,  4,  4,  5,  5,  6,  6,  7,  7,  8,  6,  9,\n",
            "          4, 10, 10, 11, 11, 12, 12, 13, 11, 14, 14, 15, 15, 16, 16, 17, 15, 18,\n",
            "          9,  2, 18,  4],\n",
            "        [ 1,  0,  2,  1,  3,  2,  4,  3,  5,  4,  6,  5,  7,  6,  8,  7,  9,  6,\n",
            "         10,  4, 11, 10, 12, 11, 13, 12, 14, 11, 15, 14, 16, 15, 17, 16, 18, 15,\n",
            "          2,  9,  4, 18]])\n",
            "Graph label (y): tensor([[0]])\n"
          ]
        }
      ],
      "source": [
        "# Get a sample (e.g., the first sample)\n",
        "\n",
        "# Print sample details\n",
        "print(\"Sample Graph:\", sample)\n",
        "print(\"Node features (x):\", sample.x)\n",
        "print(\"Edge index (connectivity):\", sample.edge_index)\n",
        "print(\"Graph label (y):\", sample.y)"
      ]
    },
    {
      "cell_type": "code",
      "execution_count": 41,
      "metadata": {
        "colab": {
          "base_uri": "https://localhost:8080/"
        },
        "id": "ZFxG0vSPzZCE",
        "outputId": "7f62d1e4-8778-4e98-ecc5-3206ba68548d"
      },
      "outputs": [
        {
          "data": {
            "text/plain": [
              "Data(edge_index=[2, 40], edge_attr=[40, 3], x=[19, 9], y=[1, 1], num_nodes=19)"
            ]
          },
          "execution_count": 41,
          "metadata": {},
          "output_type": "execute_result"
        }
      ],
      "source": []
    },
    {
      "cell_type": "code",
      "execution_count": null,
      "metadata": {
        "id": "FeWA8m7KzQzC"
      },
      "outputs": [],
      "source": []
    },
    {
      "cell_type": "code",
      "execution_count": 46,
      "metadata": {
        "id": "5CM5xGQzdIRG"
      },
      "outputs": [],
      "source": [
        "# Let's set a random seed for reproducibility\n",
        "# -------------------------------------------\n",
        "# If using a GPU choosing the same seed cannot be used to guarantee\n",
        "# that one gets the same result from run to run,\n",
        "# but may still be useful to ensure one is starting with different seeds.\n",
        "def set_seeds(seed):\n",
        "    np.random.seed(seed)\n",
        "    torch.manual_seed(seed)\n",
        "    torch.cuda.manual_seed(seed)\n",
        "    torch.cuda.manual_seed_all(seed)\n",
        "    random.seed(seed)\n",
        "    torch.backends.cudnn.deterministic = True\n",
        "    torch.backends.cudnn.benchmark = False"
      ]
    },
    {
      "cell_type": "code",
      "execution_count": 47,
      "metadata": {
        "id": "-6U_ZVeVdwOm"
      },
      "outputs": [],
      "source": [
        "device = 'cuda' if torch.cuda.is_available() else 'cpu'\n",
        "# set_seeds(args.random_seed)"
      ]
    },
    {
      "cell_type": "code",
      "execution_count": 48,
      "metadata": {
        "id": "df36O1r-d43X"
      },
      "outputs": [],
      "source": [
        "set_seeds(34)"
      ]
    },
    {
      "cell_type": "code",
      "execution_count": 106,
      "metadata": {
        "id": "rnoNG2K-eFue"
      },
      "outputs": [],
      "source": [
        "config = {\n",
        " 'device': 'cuda',\n",
        " 'dataset_id': 'ogbg-molhiv',\n",
        " 'num_layers': 2,\n",
        " 'hidden_dim': 64,\n",
        " 'dropout': 0.5,\n",
        " 'learning_rate': 0.001,\n",
        " 'epochs': 25,\n",
        " 'batch_size': 32,\n",
        " 'weight_decay': 1e-6\n",
        "}"
      ]
    },
    {
      "cell_type": "code",
      "execution_count": 49,
      "metadata": {
        "colab": {
          "base_uri": "https://localhost:8080/"
        },
        "id": "gAseLVoSebQ5",
        "outputId": "6760224a-0c3a-44c8-b3b9-8f76de930812"
      },
      "outputs": [
        {
          "name": "stderr",
          "output_type": "stream",
          "text": [
            "/usr/local/lib/python3.10/dist-packages/ogb/graphproppred/dataset_pyg.py:68: FutureWarning: You are using `torch.load` with `weights_only=False` (the current default value), which uses the default pickle module implicitly. It is possible to construct malicious pickle data which will execute arbitrary code during unpickling (See https://github.com/pytorch/pytorch/blob/main/SECURITY.md#untrusted-models for more details). In a future release, the default value for `weights_only` will be flipped to `True`. This limits the functions that could be executed during unpickling. Arbitrary objects will no longer be allowed to be loaded via this mode unless they are explicitly allowlisted by the user via `torch.serialization.add_safe_globals`. We recommend you start setting `weights_only=True` for any use case where you don't have full control of the loaded file. Please open an issue on GitHub for any issues related to this experimental feature.\n",
            "  self.data, self.slices = torch.load(self.processed_paths[0])\n"
          ]
        }
      ],
      "source": [
        "# dataset loading\n",
        "dataset = PygGraphPropPredDataset(name=config[\"dataset_id\"], transform=None)"
      ]
    },
    {
      "cell_type": "code",
      "execution_count": 50,
      "metadata": {
        "id": "2Qe4j_BMeyST"
      },
      "outputs": [],
      "source": [
        "evaluator = Evaluator(name=config[\"dataset_id\"])\n",
        "split_idx = dataset.get_idx_split()\n",
        "\n",
        "train_loader = DataLoader(dataset[split_idx[\"train\"]], batch_size=config[\"batch_size\"], shuffle=True)\n",
        "valid_loader = DataLoader(dataset[split_idx[\"valid\"]], batch_size=config[\"batch_size\"], shuffle=False)\n",
        "test_loader = None"
      ]
    },
    {
      "cell_type": "markdown",
      "metadata": {
        "id": "Alwn0JO3fuii"
      },
      "source": [
        "# Why use batching in here?\n",
        "\n",
        "Batching is common in neural network architecture. Why is that? cause it helps better memory allocation, you don't have to load all the data instead can load in batchs. It also smooths out the gradient calculation. There are other reasons too but I like to keep it short :)"
      ]
    },
    {
      "cell_type": "code",
      "execution_count": 51,
      "metadata": {
        "colab": {
          "base_uri": "https://localhost:8080/"
        },
        "id": "spurfreye_IC",
        "outputId": "f6d77692-46ff-44fd-daa2-464c39feb4e4"
      },
      "outputs": [
        {
          "name": "stdout",
          "output_type": "stream",
          "text": [
            " - Batch 0: DataBatch(edge_index=[2, 1744], edge_attr=[1744, 3], x=[814, 9], y=[32, 1], num_nodes=814, batch=[814], ptr=[33])\n",
            " - Batch 1: DataBatch(edge_index=[2, 1636], edge_attr=[1636, 3], x=[759, 9], y=[32, 1], num_nodes=759, batch=[759], ptr=[33])\n",
            " - Batch 2: DataBatch(edge_index=[2, 1594], edge_attr=[1594, 3], x=[749, 9], y=[32, 1], num_nodes=749, batch=[749], ptr=[33])\n",
            " - Batch 3: DataBatch(edge_index=[2, 1704], edge_attr=[1704, 3], x=[806, 9], y=[32, 1], num_nodes=806, batch=[806], ptr=[33])\n",
            " - Batch 4: DataBatch(edge_index=[2, 1576], edge_attr=[1576, 3], x=[747, 9], y=[32, 1], num_nodes=747, batch=[747], ptr=[33])\n",
            " - Batch 5: DataBatch(edge_index=[2, 1708], edge_attr=[1708, 3], x=[799, 9], y=[32, 1], num_nodes=799, batch=[799], ptr=[33])\n",
            " - Batch 6: DataBatch(edge_index=[2, 1860], edge_attr=[1860, 3], x=[865, 9], y=[32, 1], num_nodes=865, batch=[865], ptr=[33])\n",
            " - Batch 7: DataBatch(edge_index=[2, 1798], edge_attr=[1798, 3], x=[842, 9], y=[32, 1], num_nodes=842, batch=[842], ptr=[33])\n",
            " - Batch 8: DataBatch(edge_index=[2, 1578], edge_attr=[1578, 3], x=[736, 9], y=[32, 1], num_nodes=736, batch=[736], ptr=[33])\n",
            " - Batch 9: DataBatch(edge_index=[2, 1670], edge_attr=[1670, 3], x=[776, 9], y=[32, 1], num_nodes=776, batch=[776], ptr=[33])\n",
            " - Batch 10: DataBatch(edge_index=[2, 1558], edge_attr=[1558, 3], x=[731, 9], y=[32, 1], num_nodes=731, batch=[731], ptr=[33])\n",
            " - Batch 11: DataBatch(edge_index=[2, 1914], edge_attr=[1914, 3], x=[884, 9], y=[32, 1], num_nodes=884, batch=[884], ptr=[33])\n",
            " - Batch 12: DataBatch(edge_index=[2, 1826], edge_attr=[1826, 3], x=[838, 9], y=[32, 1], num_nodes=838, batch=[838], ptr=[33])\n",
            " - Batch 13: DataBatch(edge_index=[2, 1690], edge_attr=[1690, 3], x=[790, 9], y=[32, 1], num_nodes=790, batch=[790], ptr=[33])\n",
            " - Batch 14: DataBatch(edge_index=[2, 1712], edge_attr=[1712, 3], x=[791, 9], y=[32, 1], num_nodes=791, batch=[791], ptr=[33])\n",
            " - Batch 15: DataBatch(edge_index=[2, 1708], edge_attr=[1708, 3], x=[794, 9], y=[32, 1], num_nodes=794, batch=[794], ptr=[33])\n",
            " - Batch 16: DataBatch(edge_index=[2, 1788], edge_attr=[1788, 3], x=[831, 9], y=[32, 1], num_nodes=831, batch=[831], ptr=[33])\n",
            " - Batch 17: DataBatch(edge_index=[2, 1864], edge_attr=[1864, 3], x=[870, 9], y=[32, 1], num_nodes=870, batch=[870], ptr=[33])\n",
            " - Batch 18: DataBatch(edge_index=[2, 1628], edge_attr=[1628, 3], x=[760, 9], y=[32, 1], num_nodes=760, batch=[760], ptr=[33])\n",
            " - Batch 19: DataBatch(edge_index=[2, 1558], edge_attr=[1558, 3], x=[719, 9], y=[32, 1], num_nodes=719, batch=[719], ptr=[33])\n",
            " - Batch 20: DataBatch(edge_index=[2, 1896], edge_attr=[1896, 3], x=[885, 9], y=[32, 1], num_nodes=885, batch=[885], ptr=[33])\n",
            " - Batch 21: DataBatch(edge_index=[2, 1930], edge_attr=[1930, 3], x=[880, 9], y=[32, 1], num_nodes=880, batch=[880], ptr=[33])\n",
            " - Batch 22: DataBatch(edge_index=[2, 1816], edge_attr=[1816, 3], x=[846, 9], y=[32, 1], num_nodes=846, batch=[846], ptr=[33])\n",
            " - Batch 23: DataBatch(edge_index=[2, 1726], edge_attr=[1726, 3], x=[793, 9], y=[32, 1], num_nodes=793, batch=[793], ptr=[33])\n",
            " - Batch 24: DataBatch(edge_index=[2, 1910], edge_attr=[1910, 3], x=[890, 9], y=[32, 1], num_nodes=890, batch=[890], ptr=[33])\n",
            " - Batch 25: DataBatch(edge_index=[2, 1738], edge_attr=[1738, 3], x=[815, 9], y=[32, 1], num_nodes=815, batch=[815], ptr=[33])\n",
            " - Batch 26: DataBatch(edge_index=[2, 1644], edge_attr=[1644, 3], x=[774, 9], y=[32, 1], num_nodes=774, batch=[774], ptr=[33])\n",
            " - Batch 27: DataBatch(edge_index=[2, 1714], edge_attr=[1714, 3], x=[794, 9], y=[32, 1], num_nodes=794, batch=[794], ptr=[33])\n",
            " - Batch 28: DataBatch(edge_index=[2, 1666], edge_attr=[1666, 3], x=[792, 9], y=[32, 1], num_nodes=792, batch=[792], ptr=[33])\n",
            " - Batch 29: DataBatch(edge_index=[2, 1610], edge_attr=[1610, 3], x=[751, 9], y=[32, 1], num_nodes=751, batch=[751], ptr=[33])\n",
            " - Batch 30: DataBatch(edge_index=[2, 1458], edge_attr=[1458, 3], x=[683, 9], y=[32, 1], num_nodes=683, batch=[683], ptr=[33])\n",
            " - Batch 31: DataBatch(edge_index=[2, 1618], edge_attr=[1618, 3], x=[756, 9], y=[32, 1], num_nodes=756, batch=[756], ptr=[33])\n",
            " - Batch 32: DataBatch(edge_index=[2, 1462], edge_attr=[1462, 3], x=[683, 9], y=[32, 1], num_nodes=683, batch=[683], ptr=[33])\n",
            " - Batch 33: DataBatch(edge_index=[2, 1832], edge_attr=[1832, 3], x=[861, 9], y=[32, 1], num_nodes=861, batch=[861], ptr=[33])\n",
            " - Batch 34: DataBatch(edge_index=[2, 1688], edge_attr=[1688, 3], x=[782, 9], y=[32, 1], num_nodes=782, batch=[782], ptr=[33])\n",
            " - Batch 35: DataBatch(edge_index=[2, 1772], edge_attr=[1772, 3], x=[845, 9], y=[32, 1], num_nodes=845, batch=[845], ptr=[33])\n",
            " - Batch 36: DataBatch(edge_index=[2, 1704], edge_attr=[1704, 3], x=[787, 9], y=[32, 1], num_nodes=787, batch=[787], ptr=[33])\n",
            " - Batch 37: DataBatch(edge_index=[2, 1504], edge_attr=[1504, 3], x=[702, 9], y=[32, 1], num_nodes=702, batch=[702], ptr=[33])\n",
            " - Batch 38: DataBatch(edge_index=[2, 1608], edge_attr=[1608, 3], x=[745, 9], y=[32, 1], num_nodes=745, batch=[745], ptr=[33])\n",
            " - Batch 39: DataBatch(edge_index=[2, 2038], edge_attr=[2038, 3], x=[946, 9], y=[32, 1], num_nodes=946, batch=[946], ptr=[33])\n",
            " - Batch 40: DataBatch(edge_index=[2, 1790], edge_attr=[1790, 3], x=[841, 9], y=[32, 1], num_nodes=841, batch=[841], ptr=[33])\n",
            " - Batch 41: DataBatch(edge_index=[2, 1560], edge_attr=[1560, 3], x=[716, 9], y=[32, 1], num_nodes=716, batch=[716], ptr=[33])\n",
            " - Batch 42: DataBatch(edge_index=[2, 1610], edge_attr=[1610, 3], x=[753, 9], y=[32, 1], num_nodes=753, batch=[753], ptr=[33])\n",
            " - Batch 43: DataBatch(edge_index=[2, 1622], edge_attr=[1622, 3], x=[745, 9], y=[32, 1], num_nodes=745, batch=[745], ptr=[33])\n",
            " - Batch 44: DataBatch(edge_index=[2, 1966], edge_attr=[1966, 3], x=[914, 9], y=[32, 1], num_nodes=914, batch=[914], ptr=[33])\n",
            " - Batch 45: DataBatch(edge_index=[2, 1458], edge_attr=[1458, 3], x=[686, 9], y=[32, 1], num_nodes=686, batch=[686], ptr=[33])\n",
            " - Batch 46: DataBatch(edge_index=[2, 1780], edge_attr=[1780, 3], x=[839, 9], y=[32, 1], num_nodes=839, batch=[839], ptr=[33])\n",
            " - Batch 47: DataBatch(edge_index=[2, 1742], edge_attr=[1742, 3], x=[813, 9], y=[32, 1], num_nodes=813, batch=[813], ptr=[33])\n",
            " - Batch 48: DataBatch(edge_index=[2, 1556], edge_attr=[1556, 3], x=[726, 9], y=[32, 1], num_nodes=726, batch=[726], ptr=[33])\n",
            " - Batch 49: DataBatch(edge_index=[2, 1574], edge_attr=[1574, 3], x=[741, 9], y=[32, 1], num_nodes=741, batch=[741], ptr=[33])\n",
            " - Batch 50: DataBatch(edge_index=[2, 1520], edge_attr=[1520, 3], x=[706, 9], y=[32, 1], num_nodes=706, batch=[706], ptr=[33])\n",
            " - Batch 51: DataBatch(edge_index=[2, 1694], edge_attr=[1694, 3], x=[788, 9], y=[32, 1], num_nodes=788, batch=[788], ptr=[33])\n",
            " - Batch 52: DataBatch(edge_index=[2, 1512], edge_attr=[1512, 3], x=[711, 9], y=[32, 1], num_nodes=711, batch=[711], ptr=[33])\n",
            " - Batch 53: DataBatch(edge_index=[2, 1766], edge_attr=[1766, 3], x=[826, 9], y=[32, 1], num_nodes=826, batch=[826], ptr=[33])\n",
            " - Batch 54: DataBatch(edge_index=[2, 1826], edge_attr=[1826, 3], x=[858, 9], y=[32, 1], num_nodes=858, batch=[858], ptr=[33])\n",
            " - Batch 55: DataBatch(edge_index=[2, 1750], edge_attr=[1750, 3], x=[820, 9], y=[32, 1], num_nodes=820, batch=[820], ptr=[33])\n",
            " - Batch 56: DataBatch(edge_index=[2, 1454], edge_attr=[1454, 3], x=[676, 9], y=[32, 1], num_nodes=676, batch=[676], ptr=[33])\n",
            " - Batch 57: DataBatch(edge_index=[2, 1750], edge_attr=[1750, 3], x=[812, 9], y=[32, 1], num_nodes=812, batch=[812], ptr=[33])\n",
            " - Batch 58: DataBatch(edge_index=[2, 1780], edge_attr=[1780, 3], x=[829, 9], y=[32, 1], num_nodes=829, batch=[829], ptr=[33])\n",
            " - Batch 59: DataBatch(edge_index=[2, 1970], edge_attr=[1970, 3], x=[924, 9], y=[32, 1], num_nodes=924, batch=[924], ptr=[33])\n",
            " - Batch 60: DataBatch(edge_index=[2, 1510], edge_attr=[1510, 3], x=[705, 9], y=[32, 1], num_nodes=705, batch=[705], ptr=[33])\n",
            " - Batch 61: DataBatch(edge_index=[2, 2076], edge_attr=[2076, 3], x=[975, 9], y=[32, 1], num_nodes=975, batch=[975], ptr=[33])\n",
            " - Batch 62: DataBatch(edge_index=[2, 1826], edge_attr=[1826, 3], x=[845, 9], y=[32, 1], num_nodes=845, batch=[845], ptr=[33])\n",
            " - Batch 63: DataBatch(edge_index=[2, 1712], edge_attr=[1712, 3], x=[791, 9], y=[32, 1], num_nodes=791, batch=[791], ptr=[33])\n",
            " - Batch 64: DataBatch(edge_index=[2, 1722], edge_attr=[1722, 3], x=[808, 9], y=[32, 1], num_nodes=808, batch=[808], ptr=[33])\n",
            " - Batch 65: DataBatch(edge_index=[2, 1678], edge_attr=[1678, 3], x=[793, 9], y=[32, 1], num_nodes=793, batch=[793], ptr=[33])\n",
            " - Batch 66: DataBatch(edge_index=[2, 1518], edge_attr=[1518, 3], x=[704, 9], y=[32, 1], num_nodes=704, batch=[704], ptr=[33])\n",
            " - Batch 67: DataBatch(edge_index=[2, 1714], edge_attr=[1714, 3], x=[806, 9], y=[32, 1], num_nodes=806, batch=[806], ptr=[33])\n",
            " - Batch 68: DataBatch(edge_index=[2, 1748], edge_attr=[1748, 3], x=[806, 9], y=[32, 1], num_nodes=806, batch=[806], ptr=[33])\n",
            " - Batch 69: DataBatch(edge_index=[2, 1664], edge_attr=[1664, 3], x=[777, 9], y=[32, 1], num_nodes=777, batch=[777], ptr=[33])\n",
            " - Batch 70: DataBatch(edge_index=[2, 1724], edge_attr=[1724, 3], x=[820, 9], y=[32, 1], num_nodes=820, batch=[820], ptr=[33])\n",
            " - Batch 71: DataBatch(edge_index=[2, 1780], edge_attr=[1780, 3], x=[840, 9], y=[32, 1], num_nodes=840, batch=[840], ptr=[33])\n",
            " - Batch 72: DataBatch(edge_index=[2, 1892], edge_attr=[1892, 3], x=[892, 9], y=[32, 1], num_nodes=892, batch=[892], ptr=[33])\n",
            " - Batch 73: DataBatch(edge_index=[2, 1660], edge_attr=[1660, 3], x=[779, 9], y=[32, 1], num_nodes=779, batch=[779], ptr=[33])\n",
            " - Batch 74: DataBatch(edge_index=[2, 1598], edge_attr=[1598, 3], x=[739, 9], y=[32, 1], num_nodes=739, batch=[739], ptr=[33])\n",
            " - Batch 75: DataBatch(edge_index=[2, 2070], edge_attr=[2070, 3], x=[961, 9], y=[32, 1], num_nodes=961, batch=[961], ptr=[33])\n",
            " - Batch 76: DataBatch(edge_index=[2, 2004], edge_attr=[2004, 3], x=[936, 9], y=[32, 1], num_nodes=936, batch=[936], ptr=[33])\n",
            " - Batch 77: DataBatch(edge_index=[2, 1738], edge_attr=[1738, 3], x=[806, 9], y=[32, 1], num_nodes=806, batch=[806], ptr=[33])\n",
            " - Batch 78: DataBatch(edge_index=[2, 1656], edge_attr=[1656, 3], x=[785, 9], y=[32, 1], num_nodes=785, batch=[785], ptr=[33])\n",
            " - Batch 79: DataBatch(edge_index=[2, 1396], edge_attr=[1396, 3], x=[655, 9], y=[32, 1], num_nodes=655, batch=[655], ptr=[33])\n",
            " - Batch 80: DataBatch(edge_index=[2, 1724], edge_attr=[1724, 3], x=[805, 9], y=[32, 1], num_nodes=805, batch=[805], ptr=[33])\n",
            " - Batch 81: DataBatch(edge_index=[2, 1634], edge_attr=[1634, 3], x=[760, 9], y=[32, 1], num_nodes=760, batch=[760], ptr=[33])\n",
            " - Batch 82: DataBatch(edge_index=[2, 2002], edge_attr=[2002, 3], x=[938, 9], y=[32, 1], num_nodes=938, batch=[938], ptr=[33])\n",
            " - Batch 83: DataBatch(edge_index=[2, 1630], edge_attr=[1630, 3], x=[755, 9], y=[32, 1], num_nodes=755, batch=[755], ptr=[33])\n",
            " - Batch 84: DataBatch(edge_index=[2, 1932], edge_attr=[1932, 3], x=[899, 9], y=[32, 1], num_nodes=899, batch=[899], ptr=[33])\n",
            " - Batch 85: DataBatch(edge_index=[2, 1992], edge_attr=[1992, 3], x=[935, 9], y=[32, 1], num_nodes=935, batch=[935], ptr=[33])\n",
            " - Batch 86: DataBatch(edge_index=[2, 1676], edge_attr=[1676, 3], x=[781, 9], y=[32, 1], num_nodes=781, batch=[781], ptr=[33])\n",
            " - Batch 87: DataBatch(edge_index=[2, 1670], edge_attr=[1670, 3], x=[771, 9], y=[32, 1], num_nodes=771, batch=[771], ptr=[33])\n",
            " - Batch 88: DataBatch(edge_index=[2, 1798], edge_attr=[1798, 3], x=[829, 9], y=[32, 1], num_nodes=829, batch=[829], ptr=[33])\n",
            " - Batch 89: DataBatch(edge_index=[2, 1684], edge_attr=[1684, 3], x=[788, 9], y=[32, 1], num_nodes=788, batch=[788], ptr=[33])\n",
            " - Batch 90: DataBatch(edge_index=[2, 1696], edge_attr=[1696, 3], x=[785, 9], y=[32, 1], num_nodes=785, batch=[785], ptr=[33])\n",
            " - Batch 91: DataBatch(edge_index=[2, 1834], edge_attr=[1834, 3], x=[848, 9], y=[32, 1], num_nodes=848, batch=[848], ptr=[33])\n",
            " - Batch 92: DataBatch(edge_index=[2, 1648], edge_attr=[1648, 3], x=[786, 9], y=[32, 1], num_nodes=786, batch=[786], ptr=[33])\n",
            " - Batch 93: DataBatch(edge_index=[2, 1756], edge_attr=[1756, 3], x=[816, 9], y=[32, 1], num_nodes=816, batch=[816], ptr=[33])\n",
            " - Batch 94: DataBatch(edge_index=[2, 1692], edge_attr=[1692, 3], x=[785, 9], y=[32, 1], num_nodes=785, batch=[785], ptr=[33])\n",
            " - Batch 95: DataBatch(edge_index=[2, 1610], edge_attr=[1610, 3], x=[756, 9], y=[32, 1], num_nodes=756, batch=[756], ptr=[33])\n",
            " - Batch 96: DataBatch(edge_index=[2, 1808], edge_attr=[1808, 3], x=[851, 9], y=[32, 1], num_nodes=851, batch=[851], ptr=[33])\n",
            " - Batch 97: DataBatch(edge_index=[2, 1760], edge_attr=[1760, 3], x=[827, 9], y=[32, 1], num_nodes=827, batch=[827], ptr=[33])\n",
            " - Batch 98: DataBatch(edge_index=[2, 1736], edge_attr=[1736, 3], x=[806, 9], y=[32, 1], num_nodes=806, batch=[806], ptr=[33])\n",
            " - Batch 99: DataBatch(edge_index=[2, 1782], edge_attr=[1782, 3], x=[822, 9], y=[32, 1], num_nodes=822, batch=[822], ptr=[33])\n",
            " - Batch 100: DataBatch(edge_index=[2, 1542], edge_attr=[1542, 3], x=[720, 9], y=[32, 1], num_nodes=720, batch=[720], ptr=[33])\n",
            " - Batch 101: DataBatch(edge_index=[2, 1806], edge_attr=[1806, 3], x=[842, 9], y=[32, 1], num_nodes=842, batch=[842], ptr=[33])\n",
            " - Batch 102: DataBatch(edge_index=[2, 1674], edge_attr=[1674, 3], x=[790, 9], y=[32, 1], num_nodes=790, batch=[790], ptr=[33])\n",
            " - Batch 103: DataBatch(edge_index=[2, 1462], edge_attr=[1462, 3], x=[683, 9], y=[32, 1], num_nodes=683, batch=[683], ptr=[33])\n",
            " - Batch 104: DataBatch(edge_index=[2, 1674], edge_attr=[1674, 3], x=[793, 9], y=[32, 1], num_nodes=793, batch=[793], ptr=[33])\n",
            " - Batch 105: DataBatch(edge_index=[2, 1812], edge_attr=[1812, 3], x=[847, 9], y=[32, 1], num_nodes=847, batch=[847], ptr=[33])\n",
            " - Batch 106: DataBatch(edge_index=[2, 1708], edge_attr=[1708, 3], x=[804, 9], y=[32, 1], num_nodes=804, batch=[804], ptr=[33])\n",
            " - Batch 107: DataBatch(edge_index=[2, 1510], edge_attr=[1510, 3], x=[705, 9], y=[32, 1], num_nodes=705, batch=[705], ptr=[33])\n",
            " - Batch 108: DataBatch(edge_index=[2, 1644], edge_attr=[1644, 3], x=[773, 9], y=[32, 1], num_nodes=773, batch=[773], ptr=[33])\n",
            " - Batch 109: DataBatch(edge_index=[2, 1812], edge_attr=[1812, 3], x=[841, 9], y=[32, 1], num_nodes=841, batch=[841], ptr=[33])\n",
            " - Batch 110: DataBatch(edge_index=[2, 1728], edge_attr=[1728, 3], x=[800, 9], y=[32, 1], num_nodes=800, batch=[800], ptr=[33])\n",
            " - Batch 111: DataBatch(edge_index=[2, 2038], edge_attr=[2038, 3], x=[956, 9], y=[32, 1], num_nodes=956, batch=[956], ptr=[33])\n",
            " - Batch 112: DataBatch(edge_index=[2, 1476], edge_attr=[1476, 3], x=[688, 9], y=[32, 1], num_nodes=688, batch=[688], ptr=[33])\n",
            " - Batch 113: DataBatch(edge_index=[2, 1578], edge_attr=[1578, 3], x=[738, 9], y=[32, 1], num_nodes=738, batch=[738], ptr=[33])\n",
            " - Batch 114: DataBatch(edge_index=[2, 1664], edge_attr=[1664, 3], x=[775, 9], y=[32, 1], num_nodes=775, batch=[775], ptr=[33])\n",
            " - Batch 115: DataBatch(edge_index=[2, 1778], edge_attr=[1778, 3], x=[835, 9], y=[32, 1], num_nodes=835, batch=[835], ptr=[33])\n",
            " - Batch 116: DataBatch(edge_index=[2, 1810], edge_attr=[1810, 3], x=[830, 9], y=[32, 1], num_nodes=830, batch=[830], ptr=[33])\n",
            " - Batch 117: DataBatch(edge_index=[2, 1696], edge_attr=[1696, 3], x=[791, 9], y=[32, 1], num_nodes=791, batch=[791], ptr=[33])\n",
            " - Batch 118: DataBatch(edge_index=[2, 1742], edge_attr=[1742, 3], x=[809, 9], y=[32, 1], num_nodes=809, batch=[809], ptr=[33])\n",
            " - Batch 119: DataBatch(edge_index=[2, 1744], edge_attr=[1744, 3], x=[829, 9], y=[32, 1], num_nodes=829, batch=[829], ptr=[33])\n",
            " - Batch 120: DataBatch(edge_index=[2, 1714], edge_attr=[1714, 3], x=[791, 9], y=[32, 1], num_nodes=791, batch=[791], ptr=[33])\n",
            " - Batch 121: DataBatch(edge_index=[2, 1800], edge_attr=[1800, 3], x=[840, 9], y=[32, 1], num_nodes=840, batch=[840], ptr=[33])\n",
            " - Batch 122: DataBatch(edge_index=[2, 1852], edge_attr=[1852, 3], x=[857, 9], y=[32, 1], num_nodes=857, batch=[857], ptr=[33])\n",
            " - Batch 123: DataBatch(edge_index=[2, 1978], edge_attr=[1978, 3], x=[915, 9], y=[32, 1], num_nodes=915, batch=[915], ptr=[33])\n",
            " - Batch 124: DataBatch(edge_index=[2, 1672], edge_attr=[1672, 3], x=[784, 9], y=[32, 1], num_nodes=784, batch=[784], ptr=[33])\n",
            " - Batch 125: DataBatch(edge_index=[2, 1838], edge_attr=[1838, 3], x=[855, 9], y=[32, 1], num_nodes=855, batch=[855], ptr=[33])\n",
            " - Batch 126: DataBatch(edge_index=[2, 1896], edge_attr=[1896, 3], x=[876, 9], y=[32, 1], num_nodes=876, batch=[876], ptr=[33])\n",
            " - Batch 127: DataBatch(edge_index=[2, 1706], edge_attr=[1706, 3], x=[800, 9], y=[32, 1], num_nodes=800, batch=[800], ptr=[33])\n",
            " - Batch 128: DataBatch(edge_index=[2, 1846], edge_attr=[1846, 3], x=[859, 9], y=[32, 1], num_nodes=859, batch=[859], ptr=[33])\n",
            " - Batch 129: DataBatch(edge_index=[2, 1584], edge_attr=[1584, 3], x=[738, 9], y=[32, 1], num_nodes=738, batch=[738], ptr=[33])\n",
            " - Batch 130: DataBatch(edge_index=[2, 1716], edge_attr=[1716, 3], x=[794, 9], y=[32, 1], num_nodes=794, batch=[794], ptr=[33])\n",
            " - Batch 131: DataBatch(edge_index=[2, 1722], edge_attr=[1722, 3], x=[802, 9], y=[32, 1], num_nodes=802, batch=[802], ptr=[33])\n",
            " - Batch 132: DataBatch(edge_index=[2, 1806], edge_attr=[1806, 3], x=[860, 9], y=[32, 1], num_nodes=860, batch=[860], ptr=[33])\n",
            " - Batch 133: DataBatch(edge_index=[2, 1746], edge_attr=[1746, 3], x=[809, 9], y=[32, 1], num_nodes=809, batch=[809], ptr=[33])\n",
            " - Batch 134: DataBatch(edge_index=[2, 1722], edge_attr=[1722, 3], x=[803, 9], y=[32, 1], num_nodes=803, batch=[803], ptr=[33])\n",
            " - Batch 135: DataBatch(edge_index=[2, 1756], edge_attr=[1756, 3], x=[820, 9], y=[32, 1], num_nodes=820, batch=[820], ptr=[33])\n",
            " - Batch 136: DataBatch(edge_index=[2, 1640], edge_attr=[1640, 3], x=[758, 9], y=[32, 1], num_nodes=758, batch=[758], ptr=[33])\n",
            " - Batch 137: DataBatch(edge_index=[2, 1570], edge_attr=[1570, 3], x=[726, 9], y=[32, 1], num_nodes=726, batch=[726], ptr=[33])\n",
            " - Batch 138: DataBatch(edge_index=[2, 1652], edge_attr=[1652, 3], x=[769, 9], y=[32, 1], num_nodes=769, batch=[769], ptr=[33])\n",
            " - Batch 139: DataBatch(edge_index=[2, 1658], edge_attr=[1658, 3], x=[778, 9], y=[32, 1], num_nodes=778, batch=[778], ptr=[33])\n",
            " - Batch 140: DataBatch(edge_index=[2, 1632], edge_attr=[1632, 3], x=[757, 9], y=[32, 1], num_nodes=757, batch=[757], ptr=[33])\n",
            " - Batch 141: DataBatch(edge_index=[2, 1586], edge_attr=[1586, 3], x=[750, 9], y=[32, 1], num_nodes=750, batch=[750], ptr=[33])\n",
            " - Batch 142: DataBatch(edge_index=[2, 1828], edge_attr=[1828, 3], x=[856, 9], y=[32, 1], num_nodes=856, batch=[856], ptr=[33])\n",
            " - Batch 143: DataBatch(edge_index=[2, 1578], edge_attr=[1578, 3], x=[734, 9], y=[32, 1], num_nodes=734, batch=[734], ptr=[33])\n",
            " - Batch 144: DataBatch(edge_index=[2, 1878], edge_attr=[1878, 3], x=[874, 9], y=[32, 1], num_nodes=874, batch=[874], ptr=[33])\n",
            " - Batch 145: DataBatch(edge_index=[2, 2172], edge_attr=[2172, 3], x=[1003, 9], y=[32, 1], num_nodes=1003, batch=[1003], ptr=[33])\n",
            " - Batch 146: DataBatch(edge_index=[2, 1492], edge_attr=[1492, 3], x=[699, 9], y=[32, 1], num_nodes=699, batch=[699], ptr=[33])\n",
            " - Batch 147: DataBatch(edge_index=[2, 1776], edge_attr=[1776, 3], x=[829, 9], y=[32, 1], num_nodes=829, batch=[829], ptr=[33])\n",
            " - Batch 148: DataBatch(edge_index=[2, 1808], edge_attr=[1808, 3], x=[842, 9], y=[32, 1], num_nodes=842, batch=[842], ptr=[33])\n",
            " - Batch 149: DataBatch(edge_index=[2, 1668], edge_attr=[1668, 3], x=[765, 9], y=[32, 1], num_nodes=765, batch=[765], ptr=[33])\n",
            " - Batch 150: DataBatch(edge_index=[2, 1654], edge_attr=[1654, 3], x=[788, 9], y=[32, 1], num_nodes=788, batch=[788], ptr=[33])\n",
            " - Batch 151: DataBatch(edge_index=[2, 1630], edge_attr=[1630, 3], x=[760, 9], y=[32, 1], num_nodes=760, batch=[760], ptr=[33])\n",
            " - Batch 152: DataBatch(edge_index=[2, 2052], edge_attr=[2052, 3], x=[953, 9], y=[32, 1], num_nodes=953, batch=[953], ptr=[33])\n",
            " - Batch 153: DataBatch(edge_index=[2, 1776], edge_attr=[1776, 3], x=[811, 9], y=[32, 1], num_nodes=811, batch=[811], ptr=[33])\n",
            " - Batch 154: DataBatch(edge_index=[2, 1860], edge_attr=[1860, 3], x=[874, 9], y=[32, 1], num_nodes=874, batch=[874], ptr=[33])\n",
            " - Batch 155: DataBatch(edge_index=[2, 1756], edge_attr=[1756, 3], x=[821, 9], y=[32, 1], num_nodes=821, batch=[821], ptr=[33])\n",
            " - Batch 156: DataBatch(edge_index=[2, 1568], edge_attr=[1568, 3], x=[742, 9], y=[32, 1], num_nodes=742, batch=[742], ptr=[33])\n",
            " - Batch 157: DataBatch(edge_index=[2, 1826], edge_attr=[1826, 3], x=[848, 9], y=[32, 1], num_nodes=848, batch=[848], ptr=[33])\n",
            " - Batch 158: DataBatch(edge_index=[2, 1664], edge_attr=[1664, 3], x=[786, 9], y=[32, 1], num_nodes=786, batch=[786], ptr=[33])\n",
            " - Batch 159: DataBatch(edge_index=[2, 1844], edge_attr=[1844, 3], x=[860, 9], y=[32, 1], num_nodes=860, batch=[860], ptr=[33])\n",
            " - Batch 160: DataBatch(edge_index=[2, 1540], edge_attr=[1540, 3], x=[722, 9], y=[32, 1], num_nodes=722, batch=[722], ptr=[33])\n",
            " - Batch 161: DataBatch(edge_index=[2, 1648], edge_attr=[1648, 3], x=[762, 9], y=[32, 1], num_nodes=762, batch=[762], ptr=[33])\n",
            " - Batch 162: DataBatch(edge_index=[2, 1792], edge_attr=[1792, 3], x=[829, 9], y=[32, 1], num_nodes=829, batch=[829], ptr=[33])\n",
            " - Batch 163: DataBatch(edge_index=[2, 1778], edge_attr=[1778, 3], x=[824, 9], y=[32, 1], num_nodes=824, batch=[824], ptr=[33])\n",
            " - Batch 164: DataBatch(edge_index=[2, 1876], edge_attr=[1876, 3], x=[891, 9], y=[32, 1], num_nodes=891, batch=[891], ptr=[33])\n",
            " - Batch 165: DataBatch(edge_index=[2, 1880], edge_attr=[1880, 3], x=[871, 9], y=[32, 1], num_nodes=871, batch=[871], ptr=[33])\n",
            " - Batch 166: DataBatch(edge_index=[2, 1594], edge_attr=[1594, 3], x=[738, 9], y=[32, 1], num_nodes=738, batch=[738], ptr=[33])\n",
            " - Batch 167: DataBatch(edge_index=[2, 1636], edge_attr=[1636, 3], x=[765, 9], y=[32, 1], num_nodes=765, batch=[765], ptr=[33])\n",
            " - Batch 168: DataBatch(edge_index=[2, 1596], edge_attr=[1596, 3], x=[745, 9], y=[32, 1], num_nodes=745, batch=[745], ptr=[33])\n",
            " - Batch 169: DataBatch(edge_index=[2, 1690], edge_attr=[1690, 3], x=[792, 9], y=[32, 1], num_nodes=792, batch=[792], ptr=[33])\n",
            " - Batch 170: DataBatch(edge_index=[2, 1710], edge_attr=[1710, 3], x=[793, 9], y=[32, 1], num_nodes=793, batch=[793], ptr=[33])\n",
            " - Batch 171: DataBatch(edge_index=[2, 1904], edge_attr=[1904, 3], x=[892, 9], y=[32, 1], num_nodes=892, batch=[892], ptr=[33])\n",
            " - Batch 172: DataBatch(edge_index=[2, 1592], edge_attr=[1592, 3], x=[736, 9], y=[32, 1], num_nodes=736, batch=[736], ptr=[33])\n",
            " - Batch 173: DataBatch(edge_index=[2, 1454], edge_attr=[1454, 3], x=[678, 9], y=[32, 1], num_nodes=678, batch=[678], ptr=[33])\n",
            " - Batch 174: DataBatch(edge_index=[2, 1522], edge_attr=[1522, 3], x=[708, 9], y=[32, 1], num_nodes=708, batch=[708], ptr=[33])\n",
            " - Batch 175: DataBatch(edge_index=[2, 2106], edge_attr=[2106, 3], x=[975, 9], y=[32, 1], num_nodes=975, batch=[975], ptr=[33])\n",
            " - Batch 176: DataBatch(edge_index=[2, 1778], edge_attr=[1778, 3], x=[826, 9], y=[32, 1], num_nodes=826, batch=[826], ptr=[33])\n",
            " - Batch 177: DataBatch(edge_index=[2, 1754], edge_attr=[1754, 3], x=[821, 9], y=[32, 1], num_nodes=821, batch=[821], ptr=[33])\n",
            " - Batch 178: DataBatch(edge_index=[2, 1546], edge_attr=[1546, 3], x=[725, 9], y=[32, 1], num_nodes=725, batch=[725], ptr=[33])\n",
            " - Batch 179: DataBatch(edge_index=[2, 1628], edge_attr=[1628, 3], x=[757, 9], y=[32, 1], num_nodes=757, batch=[757], ptr=[33])\n",
            " - Batch 180: DataBatch(edge_index=[2, 1716], edge_attr=[1716, 3], x=[799, 9], y=[32, 1], num_nodes=799, batch=[799], ptr=[33])\n",
            " - Batch 181: DataBatch(edge_index=[2, 1466], edge_attr=[1466, 3], x=[689, 9], y=[32, 1], num_nodes=689, batch=[689], ptr=[33])\n",
            " - Batch 182: DataBatch(edge_index=[2, 1762], edge_attr=[1762, 3], x=[814, 9], y=[32, 1], num_nodes=814, batch=[814], ptr=[33])\n",
            " - Batch 183: DataBatch(edge_index=[2, 1786], edge_attr=[1786, 3], x=[835, 9], y=[32, 1], num_nodes=835, batch=[835], ptr=[33])\n",
            " - Batch 184: DataBatch(edge_index=[2, 1868], edge_attr=[1868, 3], x=[859, 9], y=[32, 1], num_nodes=859, batch=[859], ptr=[33])\n",
            " - Batch 185: DataBatch(edge_index=[2, 1784], edge_attr=[1784, 3], x=[850, 9], y=[32, 1], num_nodes=850, batch=[850], ptr=[33])\n",
            " - Batch 186: DataBatch(edge_index=[2, 1808], edge_attr=[1808, 3], x=[849, 9], y=[32, 1], num_nodes=849, batch=[849], ptr=[33])\n",
            " - Batch 187: DataBatch(edge_index=[2, 1948], edge_attr=[1948, 3], x=[906, 9], y=[32, 1], num_nodes=906, batch=[906], ptr=[33])\n",
            " - Batch 188: DataBatch(edge_index=[2, 1880], edge_attr=[1880, 3], x=[868, 9], y=[32, 1], num_nodes=868, batch=[868], ptr=[33])\n",
            " - Batch 189: DataBatch(edge_index=[2, 1866], edge_attr=[1866, 3], x=[849, 9], y=[32, 1], num_nodes=849, batch=[849], ptr=[33])\n",
            " - Batch 190: DataBatch(edge_index=[2, 1564], edge_attr=[1564, 3], x=[728, 9], y=[32, 1], num_nodes=728, batch=[728], ptr=[33])\n",
            " - Batch 191: DataBatch(edge_index=[2, 1518], edge_attr=[1518, 3], x=[715, 9], y=[32, 1], num_nodes=715, batch=[715], ptr=[33])\n",
            " - Batch 192: DataBatch(edge_index=[2, 1626], edge_attr=[1626, 3], x=[768, 9], y=[32, 1], num_nodes=768, batch=[768], ptr=[33])\n",
            " - Batch 193: DataBatch(edge_index=[2, 1736], edge_attr=[1736, 3], x=[817, 9], y=[32, 1], num_nodes=817, batch=[817], ptr=[33])\n",
            " - Batch 194: DataBatch(edge_index=[2, 1756], edge_attr=[1756, 3], x=[814, 9], y=[32, 1], num_nodes=814, batch=[814], ptr=[33])\n",
            " - Batch 195: DataBatch(edge_index=[2, 2076], edge_attr=[2076, 3], x=[972, 9], y=[32, 1], num_nodes=972, batch=[972], ptr=[33])\n",
            " - Batch 196: DataBatch(edge_index=[2, 1770], edge_attr=[1770, 3], x=[839, 9], y=[32, 1], num_nodes=839, batch=[839], ptr=[33])\n",
            " - Batch 197: DataBatch(edge_index=[2, 1590], edge_attr=[1590, 3], x=[745, 9], y=[32, 1], num_nodes=745, batch=[745], ptr=[33])\n",
            " - Batch 198: DataBatch(edge_index=[2, 1808], edge_attr=[1808, 3], x=[846, 9], y=[32, 1], num_nodes=846, batch=[846], ptr=[33])\n",
            " - Batch 199: DataBatch(edge_index=[2, 1972], edge_attr=[1972, 3], x=[922, 9], y=[32, 1], num_nodes=922, batch=[922], ptr=[33])\n",
            " - Batch 200: DataBatch(edge_index=[2, 1856], edge_attr=[1856, 3], x=[874, 9], y=[32, 1], num_nodes=874, batch=[874], ptr=[33])\n",
            " - Batch 201: DataBatch(edge_index=[2, 1976], edge_attr=[1976, 3], x=[911, 9], y=[32, 1], num_nodes=911, batch=[911], ptr=[33])\n",
            " - Batch 202: DataBatch(edge_index=[2, 1686], edge_attr=[1686, 3], x=[788, 9], y=[32, 1], num_nodes=788, batch=[788], ptr=[33])\n",
            " - Batch 203: DataBatch(edge_index=[2, 1598], edge_attr=[1598, 3], x=[748, 9], y=[32, 1], num_nodes=748, batch=[748], ptr=[33])\n",
            " - Batch 204: DataBatch(edge_index=[2, 1796], edge_attr=[1796, 3], x=[840, 9], y=[32, 1], num_nodes=840, batch=[840], ptr=[33])\n",
            " - Batch 205: DataBatch(edge_index=[2, 1886], edge_attr=[1886, 3], x=[872, 9], y=[32, 1], num_nodes=872, batch=[872], ptr=[33])\n",
            " - Batch 206: DataBatch(edge_index=[2, 1700], edge_attr=[1700, 3], x=[799, 9], y=[32, 1], num_nodes=799, batch=[799], ptr=[33])\n",
            " - Batch 207: DataBatch(edge_index=[2, 1776], edge_attr=[1776, 3], x=[843, 9], y=[32, 1], num_nodes=843, batch=[843], ptr=[33])\n",
            " - Batch 208: DataBatch(edge_index=[2, 1688], edge_attr=[1688, 3], x=[783, 9], y=[32, 1], num_nodes=783, batch=[783], ptr=[33])\n",
            " - Batch 209: DataBatch(edge_index=[2, 1688], edge_attr=[1688, 3], x=[775, 9], y=[32, 1], num_nodes=775, batch=[775], ptr=[33])\n",
            " - Batch 210: DataBatch(edge_index=[2, 1598], edge_attr=[1598, 3], x=[755, 9], y=[32, 1], num_nodes=755, batch=[755], ptr=[33])\n",
            " - Batch 211: DataBatch(edge_index=[2, 1666], edge_attr=[1666, 3], x=[779, 9], y=[32, 1], num_nodes=779, batch=[779], ptr=[33])\n",
            " - Batch 212: DataBatch(edge_index=[2, 1572], edge_attr=[1572, 3], x=[738, 9], y=[32, 1], num_nodes=738, batch=[738], ptr=[33])\n",
            " - Batch 213: DataBatch(edge_index=[2, 1678], edge_attr=[1678, 3], x=[780, 9], y=[32, 1], num_nodes=780, batch=[780], ptr=[33])\n",
            " - Batch 214: DataBatch(edge_index=[2, 1656], edge_attr=[1656, 3], x=[766, 9], y=[32, 1], num_nodes=766, batch=[766], ptr=[33])\n",
            " - Batch 215: DataBatch(edge_index=[2, 1616], edge_attr=[1616, 3], x=[758, 9], y=[32, 1], num_nodes=758, batch=[758], ptr=[33])\n",
            " - Batch 216: DataBatch(edge_index=[2, 1738], edge_attr=[1738, 3], x=[815, 9], y=[32, 1], num_nodes=815, batch=[815], ptr=[33])\n",
            " - Batch 217: DataBatch(edge_index=[2, 1610], edge_attr=[1610, 3], x=[750, 9], y=[32, 1], num_nodes=750, batch=[750], ptr=[33])\n",
            " - Batch 218: DataBatch(edge_index=[2, 1758], edge_attr=[1758, 3], x=[813, 9], y=[32, 1], num_nodes=813, batch=[813], ptr=[33])\n",
            " - Batch 219: DataBatch(edge_index=[2, 1780], edge_attr=[1780, 3], x=[834, 9], y=[32, 1], num_nodes=834, batch=[834], ptr=[33])\n",
            " - Batch 220: DataBatch(edge_index=[2, 1748], edge_attr=[1748, 3], x=[811, 9], y=[32, 1], num_nodes=811, batch=[811], ptr=[33])\n",
            " - Batch 221: DataBatch(edge_index=[2, 1798], edge_attr=[1798, 3], x=[852, 9], y=[32, 1], num_nodes=852, batch=[852], ptr=[33])\n",
            " - Batch 222: DataBatch(edge_index=[2, 1686], edge_attr=[1686, 3], x=[786, 9], y=[32, 1], num_nodes=786, batch=[786], ptr=[33])\n",
            " - Batch 223: DataBatch(edge_index=[2, 1776], edge_attr=[1776, 3], x=[838, 9], y=[32, 1], num_nodes=838, batch=[838], ptr=[33])\n",
            " - Batch 224: DataBatch(edge_index=[2, 1590], edge_attr=[1590, 3], x=[727, 9], y=[32, 1], num_nodes=727, batch=[727], ptr=[33])\n",
            " - Batch 225: DataBatch(edge_index=[2, 1708], edge_attr=[1708, 3], x=[790, 9], y=[32, 1], num_nodes=790, batch=[790], ptr=[33])\n",
            " - Batch 226: DataBatch(edge_index=[2, 1490], edge_attr=[1490, 3], x=[700, 9], y=[32, 1], num_nodes=700, batch=[700], ptr=[33])\n",
            " - Batch 227: DataBatch(edge_index=[2, 2080], edge_attr=[2080, 3], x=[968, 9], y=[32, 1], num_nodes=968, batch=[968], ptr=[33])\n",
            " - Batch 228: DataBatch(edge_index=[2, 1668], edge_attr=[1668, 3], x=[786, 9], y=[32, 1], num_nodes=786, batch=[786], ptr=[33])\n",
            " - Batch 229: DataBatch(edge_index=[2, 1706], edge_attr=[1706, 3], x=[792, 9], y=[32, 1], num_nodes=792, batch=[792], ptr=[33])\n",
            " - Batch 230: DataBatch(edge_index=[2, 1820], edge_attr=[1820, 3], x=[842, 9], y=[32, 1], num_nodes=842, batch=[842], ptr=[33])\n",
            " - Batch 231: DataBatch(edge_index=[2, 1642], edge_attr=[1642, 3], x=[760, 9], y=[32, 1], num_nodes=760, batch=[760], ptr=[33])\n",
            " - Batch 232: DataBatch(edge_index=[2, 1832], edge_attr=[1832, 3], x=[846, 9], y=[32, 1], num_nodes=846, batch=[846], ptr=[33])\n",
            " - Batch 233: DataBatch(edge_index=[2, 1722], edge_attr=[1722, 3], x=[812, 9], y=[32, 1], num_nodes=812, batch=[812], ptr=[33])\n",
            " - Batch 234: DataBatch(edge_index=[2, 1580], edge_attr=[1580, 3], x=[734, 9], y=[32, 1], num_nodes=734, batch=[734], ptr=[33])\n",
            " - Batch 235: DataBatch(edge_index=[2, 1834], edge_attr=[1834, 3], x=[853, 9], y=[32, 1], num_nodes=853, batch=[853], ptr=[33])\n",
            " - Batch 236: DataBatch(edge_index=[2, 1802], edge_attr=[1802, 3], x=[838, 9], y=[32, 1], num_nodes=838, batch=[838], ptr=[33])\n",
            " - Batch 237: DataBatch(edge_index=[2, 1508], edge_attr=[1508, 3], x=[718, 9], y=[32, 1], num_nodes=718, batch=[718], ptr=[33])\n",
            " - Batch 238: DataBatch(edge_index=[2, 1614], edge_attr=[1614, 3], x=[758, 9], y=[32, 1], num_nodes=758, batch=[758], ptr=[33])\n",
            " - Batch 239: DataBatch(edge_index=[2, 1532], edge_attr=[1532, 3], x=[721, 9], y=[32, 1], num_nodes=721, batch=[721], ptr=[33])\n",
            " - Batch 240: DataBatch(edge_index=[2, 1690], edge_attr=[1690, 3], x=[783, 9], y=[32, 1], num_nodes=783, batch=[783], ptr=[33])\n",
            " - Batch 241: DataBatch(edge_index=[2, 1566], edge_attr=[1566, 3], x=[736, 9], y=[32, 1], num_nodes=736, batch=[736], ptr=[33])\n",
            " - Batch 242: DataBatch(edge_index=[2, 1922], edge_attr=[1922, 3], x=[883, 9], y=[32, 1], num_nodes=883, batch=[883], ptr=[33])\n",
            " - Batch 243: DataBatch(edge_index=[2, 2044], edge_attr=[2044, 3], x=[965, 9], y=[32, 1], num_nodes=965, batch=[965], ptr=[33])\n",
            " - Batch 244: DataBatch(edge_index=[2, 1756], edge_attr=[1756, 3], x=[825, 9], y=[32, 1], num_nodes=825, batch=[825], ptr=[33])\n",
            " - Batch 245: DataBatch(edge_index=[2, 1604], edge_attr=[1604, 3], x=[756, 9], y=[32, 1], num_nodes=756, batch=[756], ptr=[33])\n",
            " - Batch 246: DataBatch(edge_index=[2, 1666], edge_attr=[1666, 3], x=[777, 9], y=[32, 1], num_nodes=777, batch=[777], ptr=[33])\n",
            " - Batch 247: DataBatch(edge_index=[2, 1844], edge_attr=[1844, 3], x=[851, 9], y=[32, 1], num_nodes=851, batch=[851], ptr=[33])\n",
            " - Batch 248: DataBatch(edge_index=[2, 1740], edge_attr=[1740, 3], x=[808, 9], y=[32, 1], num_nodes=808, batch=[808], ptr=[33])\n",
            " - Batch 249: DataBatch(edge_index=[2, 1816], edge_attr=[1816, 3], x=[844, 9], y=[32, 1], num_nodes=844, batch=[844], ptr=[33])\n",
            " - Batch 250: DataBatch(edge_index=[2, 1940], edge_attr=[1940, 3], x=[901, 9], y=[32, 1], num_nodes=901, batch=[901], ptr=[33])\n",
            " - Batch 251: DataBatch(edge_index=[2, 1666], edge_attr=[1666, 3], x=[781, 9], y=[32, 1], num_nodes=781, batch=[781], ptr=[33])\n",
            " - Batch 252: DataBatch(edge_index=[2, 2044], edge_attr=[2044, 3], x=[952, 9], y=[32, 1], num_nodes=952, batch=[952], ptr=[33])\n",
            " - Batch 253: DataBatch(edge_index=[2, 1578], edge_attr=[1578, 3], x=[736, 9], y=[32, 1], num_nodes=736, batch=[736], ptr=[33])\n",
            " - Batch 254: DataBatch(edge_index=[2, 1556], edge_attr=[1556, 3], x=[737, 9], y=[32, 1], num_nodes=737, batch=[737], ptr=[33])\n",
            " - Batch 255: DataBatch(edge_index=[2, 1688], edge_attr=[1688, 3], x=[776, 9], y=[32, 1], num_nodes=776, batch=[776], ptr=[33])\n",
            " - Batch 256: DataBatch(edge_index=[2, 1582], edge_attr=[1582, 3], x=[739, 9], y=[32, 1], num_nodes=739, batch=[739], ptr=[33])\n",
            " - Batch 257: DataBatch(edge_index=[2, 1648], edge_attr=[1648, 3], x=[759, 9], y=[32, 1], num_nodes=759, batch=[759], ptr=[33])\n",
            " - Batch 258: DataBatch(edge_index=[2, 1632], edge_attr=[1632, 3], x=[752, 9], y=[32, 1], num_nodes=752, batch=[752], ptr=[33])\n",
            " - Batch 259: DataBatch(edge_index=[2, 1646], edge_attr=[1646, 3], x=[780, 9], y=[32, 1], num_nodes=780, batch=[780], ptr=[33])\n",
            " - Batch 260: DataBatch(edge_index=[2, 1580], edge_attr=[1580, 3], x=[742, 9], y=[32, 1], num_nodes=742, batch=[742], ptr=[33])\n",
            " - Batch 261: DataBatch(edge_index=[2, 1550], edge_attr=[1550, 3], x=[725, 9], y=[32, 1], num_nodes=725, batch=[725], ptr=[33])\n",
            " - Batch 262: DataBatch(edge_index=[2, 1728], edge_attr=[1728, 3], x=[806, 9], y=[32, 1], num_nodes=806, batch=[806], ptr=[33])\n",
            " - Batch 263: DataBatch(edge_index=[2, 1696], edge_attr=[1696, 3], x=[791, 9], y=[32, 1], num_nodes=791, batch=[791], ptr=[33])\n",
            " - Batch 264: DataBatch(edge_index=[2, 1700], edge_attr=[1700, 3], x=[781, 9], y=[32, 1], num_nodes=781, batch=[781], ptr=[33])\n",
            " - Batch 265: DataBatch(edge_index=[2, 1664], edge_attr=[1664, 3], x=[777, 9], y=[32, 1], num_nodes=777, batch=[777], ptr=[33])\n",
            " - Batch 266: DataBatch(edge_index=[2, 1818], edge_attr=[1818, 3], x=[846, 9], y=[32, 1], num_nodes=846, batch=[846], ptr=[33])\n",
            " - Batch 267: DataBatch(edge_index=[2, 1658], edge_attr=[1658, 3], x=[772, 9], y=[32, 1], num_nodes=772, batch=[772], ptr=[33])\n",
            " - Batch 268: DataBatch(edge_index=[2, 1772], edge_attr=[1772, 3], x=[828, 9], y=[32, 1], num_nodes=828, batch=[828], ptr=[33])\n",
            " - Batch 269: DataBatch(edge_index=[2, 1708], edge_attr=[1708, 3], x=[794, 9], y=[32, 1], num_nodes=794, batch=[794], ptr=[33])\n",
            " - Batch 270: DataBatch(edge_index=[2, 1660], edge_attr=[1660, 3], x=[778, 9], y=[32, 1], num_nodes=778, batch=[778], ptr=[33])\n",
            " - Batch 271: DataBatch(edge_index=[2, 1878], edge_attr=[1878, 3], x=[885, 9], y=[32, 1], num_nodes=885, batch=[885], ptr=[33])\n",
            " - Batch 272: DataBatch(edge_index=[2, 1720], edge_attr=[1720, 3], x=[806, 9], y=[32, 1], num_nodes=806, batch=[806], ptr=[33])\n",
            " - Batch 273: DataBatch(edge_index=[2, 1692], edge_attr=[1692, 3], x=[783, 9], y=[32, 1], num_nodes=783, batch=[783], ptr=[33])\n",
            " - Batch 274: DataBatch(edge_index=[2, 1656], edge_attr=[1656, 3], x=[777, 9], y=[32, 1], num_nodes=777, batch=[777], ptr=[33])\n",
            " - Batch 275: DataBatch(edge_index=[2, 1682], edge_attr=[1682, 3], x=[792, 9], y=[32, 1], num_nodes=792, batch=[792], ptr=[33])\n",
            " - Batch 276: DataBatch(edge_index=[2, 1922], edge_attr=[1922, 3], x=[879, 9], y=[32, 1], num_nodes=879, batch=[879], ptr=[33])\n",
            " - Batch 277: DataBatch(edge_index=[2, 1694], edge_attr=[1694, 3], x=[783, 9], y=[32, 1], num_nodes=783, batch=[783], ptr=[33])\n",
            " - Batch 278: DataBatch(edge_index=[2, 1824], edge_attr=[1824, 3], x=[844, 9], y=[32, 1], num_nodes=844, batch=[844], ptr=[33])\n",
            " - Batch 279: DataBatch(edge_index=[2, 1698], edge_attr=[1698, 3], x=[797, 9], y=[32, 1], num_nodes=797, batch=[797], ptr=[33])\n",
            " - Batch 280: DataBatch(edge_index=[2, 1732], edge_attr=[1732, 3], x=[808, 9], y=[32, 1], num_nodes=808, batch=[808], ptr=[33])\n",
            " - Batch 281: DataBatch(edge_index=[2, 1790], edge_attr=[1790, 3], x=[838, 9], y=[32, 1], num_nodes=838, batch=[838], ptr=[33])\n",
            " - Batch 282: DataBatch(edge_index=[2, 1566], edge_attr=[1566, 3], x=[735, 9], y=[32, 1], num_nodes=735, batch=[735], ptr=[33])\n",
            " - Batch 283: DataBatch(edge_index=[2, 1708], edge_attr=[1708, 3], x=[816, 9], y=[32, 1], num_nodes=816, batch=[816], ptr=[33])\n",
            " - Batch 284: DataBatch(edge_index=[2, 1662], edge_attr=[1662, 3], x=[774, 9], y=[32, 1], num_nodes=774, batch=[774], ptr=[33])\n",
            " - Batch 285: DataBatch(edge_index=[2, 1666], edge_attr=[1666, 3], x=[776, 9], y=[32, 1], num_nodes=776, batch=[776], ptr=[33])\n",
            " - Batch 286: DataBatch(edge_index=[2, 2068], edge_attr=[2068, 3], x=[956, 9], y=[32, 1], num_nodes=956, batch=[956], ptr=[33])\n",
            " - Batch 287: DataBatch(edge_index=[2, 1686], edge_attr=[1686, 3], x=[780, 9], y=[32, 1], num_nodes=780, batch=[780], ptr=[33])\n",
            " - Batch 288: DataBatch(edge_index=[2, 1636], edge_attr=[1636, 3], x=[757, 9], y=[32, 1], num_nodes=757, batch=[757], ptr=[33])\n",
            " - Batch 289: DataBatch(edge_index=[2, 1766], edge_attr=[1766, 3], x=[822, 9], y=[32, 1], num_nodes=822, batch=[822], ptr=[33])\n",
            " - Batch 290: DataBatch(edge_index=[2, 1696], edge_attr=[1696, 3], x=[803, 9], y=[32, 1], num_nodes=803, batch=[803], ptr=[33])\n",
            " - Batch 291: DataBatch(edge_index=[2, 1640], edge_attr=[1640, 3], x=[765, 9], y=[32, 1], num_nodes=765, batch=[765], ptr=[33])\n",
            " - Batch 292: DataBatch(edge_index=[2, 1652], edge_attr=[1652, 3], x=[777, 9], y=[32, 1], num_nodes=777, batch=[777], ptr=[33])\n",
            " - Batch 293: DataBatch(edge_index=[2, 1876], edge_attr=[1876, 3], x=[880, 9], y=[32, 1], num_nodes=880, batch=[880], ptr=[33])\n",
            " - Batch 294: DataBatch(edge_index=[2, 1570], edge_attr=[1570, 3], x=[742, 9], y=[32, 1], num_nodes=742, batch=[742], ptr=[33])\n",
            " - Batch 295: DataBatch(edge_index=[2, 1764], edge_attr=[1764, 3], x=[824, 9], y=[32, 1], num_nodes=824, batch=[824], ptr=[33])\n",
            " - Batch 296: DataBatch(edge_index=[2, 1702], edge_attr=[1702, 3], x=[799, 9], y=[32, 1], num_nodes=799, batch=[799], ptr=[33])\n",
            " - Batch 297: DataBatch(edge_index=[2, 1770], edge_attr=[1770, 3], x=[823, 9], y=[32, 1], num_nodes=823, batch=[823], ptr=[33])\n",
            " - Batch 298: DataBatch(edge_index=[2, 1820], edge_attr=[1820, 3], x=[855, 9], y=[32, 1], num_nodes=855, batch=[855], ptr=[33])\n",
            " - Batch 299: DataBatch(edge_index=[2, 2116], edge_attr=[2116, 3], x=[979, 9], y=[32, 1], num_nodes=979, batch=[979], ptr=[33])\n",
            " - Batch 300: DataBatch(edge_index=[2, 1562], edge_attr=[1562, 3], x=[729, 9], y=[32, 1], num_nodes=729, batch=[729], ptr=[33])\n",
            " - Batch 301: DataBatch(edge_index=[2, 1614], edge_attr=[1614, 3], x=[760, 9], y=[32, 1], num_nodes=760, batch=[760], ptr=[33])\n",
            " - Batch 302: DataBatch(edge_index=[2, 1960], edge_attr=[1960, 3], x=[919, 9], y=[32, 1], num_nodes=919, batch=[919], ptr=[33])\n",
            " - Batch 303: DataBatch(edge_index=[2, 1742], edge_attr=[1742, 3], x=[810, 9], y=[32, 1], num_nodes=810, batch=[810], ptr=[33])\n",
            " - Batch 304: DataBatch(edge_index=[2, 1774], edge_attr=[1774, 3], x=[815, 9], y=[32, 1], num_nodes=815, batch=[815], ptr=[33])\n",
            " - Batch 305: DataBatch(edge_index=[2, 1704], edge_attr=[1704, 3], x=[798, 9], y=[32, 1], num_nodes=798, batch=[798], ptr=[33])\n",
            " - Batch 306: DataBatch(edge_index=[2, 1520], edge_attr=[1520, 3], x=[711, 9], y=[32, 1], num_nodes=711, batch=[711], ptr=[33])\n",
            " - Batch 307: DataBatch(edge_index=[2, 1636], edge_attr=[1636, 3], x=[762, 9], y=[32, 1], num_nodes=762, batch=[762], ptr=[33])\n",
            " - Batch 308: DataBatch(edge_index=[2, 1688], edge_attr=[1688, 3], x=[784, 9], y=[32, 1], num_nodes=784, batch=[784], ptr=[33])\n",
            " - Batch 309: DataBatch(edge_index=[2, 1632], edge_attr=[1632, 3], x=[763, 9], y=[32, 1], num_nodes=763, batch=[763], ptr=[33])\n",
            " - Batch 310: DataBatch(edge_index=[2, 1858], edge_attr=[1858, 3], x=[860, 9], y=[32, 1], num_nodes=860, batch=[860], ptr=[33])\n",
            " - Batch 311: DataBatch(edge_index=[2, 1808], edge_attr=[1808, 3], x=[846, 9], y=[32, 1], num_nodes=846, batch=[846], ptr=[33])\n",
            " - Batch 312: DataBatch(edge_index=[2, 1710], edge_attr=[1710, 3], x=[802, 9], y=[32, 1], num_nodes=802, batch=[802], ptr=[33])\n",
            " - Batch 313: DataBatch(edge_index=[2, 1510], edge_attr=[1510, 3], x=[717, 9], y=[32, 1], num_nodes=717, batch=[717], ptr=[33])\n",
            " - Batch 314: DataBatch(edge_index=[2, 1810], edge_attr=[1810, 3], x=[848, 9], y=[32, 1], num_nodes=848, batch=[848], ptr=[33])\n",
            " - Batch 315: DataBatch(edge_index=[2, 1508], edge_attr=[1508, 3], x=[697, 9], y=[32, 1], num_nodes=697, batch=[697], ptr=[33])\n",
            " - Batch 316: DataBatch(edge_index=[2, 1804], edge_attr=[1804, 3], x=[833, 9], y=[32, 1], num_nodes=833, batch=[833], ptr=[33])\n",
            " - Batch 317: DataBatch(edge_index=[2, 1674], edge_attr=[1674, 3], x=[778, 9], y=[32, 1], num_nodes=778, batch=[778], ptr=[33])\n",
            " - Batch 318: DataBatch(edge_index=[2, 1922], edge_attr=[1922, 3], x=[894, 9], y=[32, 1], num_nodes=894, batch=[894], ptr=[33])\n",
            " - Batch 319: DataBatch(edge_index=[2, 2048], edge_attr=[2048, 3], x=[950, 9], y=[32, 1], num_nodes=950, batch=[950], ptr=[33])\n",
            " - Batch 320: DataBatch(edge_index=[2, 1840], edge_attr=[1840, 3], x=[870, 9], y=[32, 1], num_nodes=870, batch=[870], ptr=[33])\n",
            " - Batch 321: DataBatch(edge_index=[2, 1764], edge_attr=[1764, 3], x=[824, 9], y=[32, 1], num_nodes=824, batch=[824], ptr=[33])\n",
            " - Batch 322: DataBatch(edge_index=[2, 1928], edge_attr=[1928, 3], x=[880, 9], y=[32, 1], num_nodes=880, batch=[880], ptr=[33])\n",
            " - Batch 323: DataBatch(edge_index=[2, 1586], edge_attr=[1586, 3], x=[747, 9], y=[32, 1], num_nodes=747, batch=[747], ptr=[33])\n",
            " - Batch 324: DataBatch(edge_index=[2, 1700], edge_attr=[1700, 3], x=[794, 9], y=[32, 1], num_nodes=794, batch=[794], ptr=[33])\n",
            " - Batch 325: DataBatch(edge_index=[2, 1712], edge_attr=[1712, 3], x=[809, 9], y=[32, 1], num_nodes=809, batch=[809], ptr=[33])\n",
            " - Batch 326: DataBatch(edge_index=[2, 1812], edge_attr=[1812, 3], x=[839, 9], y=[32, 1], num_nodes=839, batch=[839], ptr=[33])\n",
            " - Batch 327: DataBatch(edge_index=[2, 1840], edge_attr=[1840, 3], x=[854, 9], y=[32, 1], num_nodes=854, batch=[854], ptr=[33])\n",
            " - Batch 328: DataBatch(edge_index=[2, 1528], edge_attr=[1528, 3], x=[726, 9], y=[32, 1], num_nodes=726, batch=[726], ptr=[33])\n",
            " - Batch 329: DataBatch(edge_index=[2, 1706], edge_attr=[1706, 3], x=[789, 9], y=[32, 1], num_nodes=789, batch=[789], ptr=[33])\n",
            " - Batch 330: DataBatch(edge_index=[2, 1752], edge_attr=[1752, 3], x=[828, 9], y=[32, 1], num_nodes=828, batch=[828], ptr=[33])\n",
            " - Batch 331: DataBatch(edge_index=[2, 1624], edge_attr=[1624, 3], x=[751, 9], y=[32, 1], num_nodes=751, batch=[751], ptr=[33])\n",
            " - Batch 332: DataBatch(edge_index=[2, 1690], edge_attr=[1690, 3], x=[786, 9], y=[32, 1], num_nodes=786, batch=[786], ptr=[33])\n",
            " - Batch 333: DataBatch(edge_index=[2, 1744], edge_attr=[1744, 3], x=[812, 9], y=[32, 1], num_nodes=812, batch=[812], ptr=[33])\n",
            " - Batch 334: DataBatch(edge_index=[2, 1612], edge_attr=[1612, 3], x=[755, 9], y=[32, 1], num_nodes=755, batch=[755], ptr=[33])\n",
            " - Batch 335: DataBatch(edge_index=[2, 1780], edge_attr=[1780, 3], x=[834, 9], y=[32, 1], num_nodes=834, batch=[834], ptr=[33])\n",
            " - Batch 336: DataBatch(edge_index=[2, 1726], edge_attr=[1726, 3], x=[795, 9], y=[32, 1], num_nodes=795, batch=[795], ptr=[33])\n",
            " - Batch 337: DataBatch(edge_index=[2, 1810], edge_attr=[1810, 3], x=[845, 9], y=[32, 1], num_nodes=845, batch=[845], ptr=[33])\n",
            " - Batch 338: DataBatch(edge_index=[2, 1660], edge_attr=[1660, 3], x=[781, 9], y=[32, 1], num_nodes=781, batch=[781], ptr=[33])\n",
            " - Batch 339: DataBatch(edge_index=[2, 1990], edge_attr=[1990, 3], x=[927, 9], y=[32, 1], num_nodes=927, batch=[927], ptr=[33])\n",
            " - Batch 340: DataBatch(edge_index=[2, 1778], edge_attr=[1778, 3], x=[832, 9], y=[32, 1], num_nodes=832, batch=[832], ptr=[33])\n",
            " - Batch 341: DataBatch(edge_index=[2, 1606], edge_attr=[1606, 3], x=[756, 9], y=[32, 1], num_nodes=756, batch=[756], ptr=[33])\n",
            " - Batch 342: DataBatch(edge_index=[2, 1960], edge_attr=[1960, 3], x=[909, 9], y=[32, 1], num_nodes=909, batch=[909], ptr=[33])\n",
            " - Batch 343: DataBatch(edge_index=[2, 1670], edge_attr=[1670, 3], x=[783, 9], y=[32, 1], num_nodes=783, batch=[783], ptr=[33])\n",
            " - Batch 344: DataBatch(edge_index=[2, 1528], edge_attr=[1528, 3], x=[711, 9], y=[32, 1], num_nodes=711, batch=[711], ptr=[33])\n",
            " - Batch 345: DataBatch(edge_index=[2, 1746], edge_attr=[1746, 3], x=[814, 9], y=[32, 1], num_nodes=814, batch=[814], ptr=[33])\n",
            " - Batch 346: DataBatch(edge_index=[2, 1716], edge_attr=[1716, 3], x=[803, 9], y=[32, 1], num_nodes=803, batch=[803], ptr=[33])\n",
            " - Batch 347: DataBatch(edge_index=[2, 1754], edge_attr=[1754, 3], x=[820, 9], y=[32, 1], num_nodes=820, batch=[820], ptr=[33])\n",
            " - Batch 348: DataBatch(edge_index=[2, 1810], edge_attr=[1810, 3], x=[835, 9], y=[32, 1], num_nodes=835, batch=[835], ptr=[33])\n",
            " - Batch 349: DataBatch(edge_index=[2, 1838], edge_attr=[1838, 3], x=[868, 9], y=[32, 1], num_nodes=868, batch=[868], ptr=[33])\n",
            " - Batch 350: DataBatch(edge_index=[2, 1814], edge_attr=[1814, 3], x=[847, 9], y=[32, 1], num_nodes=847, batch=[847], ptr=[33])\n",
            " - Batch 351: DataBatch(edge_index=[2, 1506], edge_attr=[1506, 3], x=[711, 9], y=[32, 1], num_nodes=711, batch=[711], ptr=[33])\n",
            " - Batch 352: DataBatch(edge_index=[2, 1592], edge_attr=[1592, 3], x=[735, 9], y=[32, 1], num_nodes=735, batch=[735], ptr=[33])\n",
            " - Batch 353: DataBatch(edge_index=[2, 1894], edge_attr=[1894, 3], x=[872, 9], y=[32, 1], num_nodes=872, batch=[872], ptr=[33])\n",
            " - Batch 354: DataBatch(edge_index=[2, 1674], edge_attr=[1674, 3], x=[783, 9], y=[32, 1], num_nodes=783, batch=[783], ptr=[33])\n",
            " - Batch 355: DataBatch(edge_index=[2, 1712], edge_attr=[1712, 3], x=[794, 9], y=[32, 1], num_nodes=794, batch=[794], ptr=[33])\n",
            " - Batch 356: DataBatch(edge_index=[2, 1572], edge_attr=[1572, 3], x=[737, 9], y=[32, 1], num_nodes=737, batch=[737], ptr=[33])\n",
            " - Batch 357: DataBatch(edge_index=[2, 1768], edge_attr=[1768, 3], x=[816, 9], y=[32, 1], num_nodes=816, batch=[816], ptr=[33])\n",
            " - Batch 358: DataBatch(edge_index=[2, 1526], edge_attr=[1526, 3], x=[725, 9], y=[32, 1], num_nodes=725, batch=[725], ptr=[33])\n",
            " - Batch 359: DataBatch(edge_index=[2, 1698], edge_attr=[1698, 3], x=[798, 9], y=[32, 1], num_nodes=798, batch=[798], ptr=[33])\n",
            " - Batch 360: DataBatch(edge_index=[2, 1618], edge_attr=[1618, 3], x=[767, 9], y=[32, 1], num_nodes=767, batch=[767], ptr=[33])\n",
            " - Batch 361: DataBatch(edge_index=[2, 1846], edge_attr=[1846, 3], x=[858, 9], y=[32, 1], num_nodes=858, batch=[858], ptr=[33])\n",
            " - Batch 362: DataBatch(edge_index=[2, 1664], edge_attr=[1664, 3], x=[772, 9], y=[32, 1], num_nodes=772, batch=[772], ptr=[33])\n",
            " - Batch 363: DataBatch(edge_index=[2, 1644], edge_attr=[1644, 3], x=[771, 9], y=[32, 1], num_nodes=771, batch=[771], ptr=[33])\n",
            " - Batch 364: DataBatch(edge_index=[2, 1712], edge_attr=[1712, 3], x=[805, 9], y=[32, 1], num_nodes=805, batch=[805], ptr=[33])\n",
            " - Batch 365: DataBatch(edge_index=[2, 1922], edge_attr=[1922, 3], x=[901, 9], y=[32, 1], num_nodes=901, batch=[901], ptr=[33])\n",
            " - Batch 366: DataBatch(edge_index=[2, 1580], edge_attr=[1580, 3], x=[733, 9], y=[32, 1], num_nodes=733, batch=[733], ptr=[33])\n",
            " - Batch 367: DataBatch(edge_index=[2, 1734], edge_attr=[1734, 3], x=[799, 9], y=[32, 1], num_nodes=799, batch=[799], ptr=[33])\n",
            " - Batch 368: DataBatch(edge_index=[2, 2032], edge_attr=[2032, 3], x=[951, 9], y=[32, 1], num_nodes=951, batch=[951], ptr=[33])\n",
            " - Batch 369: DataBatch(edge_index=[2, 1696], edge_attr=[1696, 3], x=[768, 9], y=[32, 1], num_nodes=768, batch=[768], ptr=[33])\n",
            " - Batch 370: DataBatch(edge_index=[2, 1744], edge_attr=[1744, 3], x=[815, 9], y=[32, 1], num_nodes=815, batch=[815], ptr=[33])\n",
            " - Batch 371: DataBatch(edge_index=[2, 1892], edge_attr=[1892, 3], x=[874, 9], y=[32, 1], num_nodes=874, batch=[874], ptr=[33])\n",
            " - Batch 372: DataBatch(edge_index=[2, 1664], edge_attr=[1664, 3], x=[781, 9], y=[32, 1], num_nodes=781, batch=[781], ptr=[33])\n",
            " - Batch 373: DataBatch(edge_index=[2, 1728], edge_attr=[1728, 3], x=[811, 9], y=[32, 1], num_nodes=811, batch=[811], ptr=[33])\n",
            " - Batch 374: DataBatch(edge_index=[2, 1600], edge_attr=[1600, 3], x=[751, 9], y=[32, 1], num_nodes=751, batch=[751], ptr=[33])\n",
            " - Batch 375: DataBatch(edge_index=[2, 1412], edge_attr=[1412, 3], x=[677, 9], y=[32, 1], num_nodes=677, batch=[677], ptr=[33])\n",
            " - Batch 376: DataBatch(edge_index=[2, 1784], edge_attr=[1784, 3], x=[845, 9], y=[32, 1], num_nodes=845, batch=[845], ptr=[33])\n",
            " - Batch 377: DataBatch(edge_index=[2, 2088], edge_attr=[2088, 3], x=[977, 9], y=[32, 1], num_nodes=977, batch=[977], ptr=[33])\n",
            " - Batch 378: DataBatch(edge_index=[2, 1582], edge_attr=[1582, 3], x=[745, 9], y=[32, 1], num_nodes=745, batch=[745], ptr=[33])\n",
            " - Batch 379: DataBatch(edge_index=[2, 1720], edge_attr=[1720, 3], x=[805, 9], y=[32, 1], num_nodes=805, batch=[805], ptr=[33])\n",
            " - Batch 380: DataBatch(edge_index=[2, 1698], edge_attr=[1698, 3], x=[793, 9], y=[32, 1], num_nodes=793, batch=[793], ptr=[33])\n",
            " - Batch 381: DataBatch(edge_index=[2, 1412], edge_attr=[1412, 3], x=[664, 9], y=[32, 1], num_nodes=664, batch=[664], ptr=[33])\n",
            " - Batch 382: DataBatch(edge_index=[2, 1732], edge_attr=[1732, 3], x=[808, 9], y=[32, 1], num_nodes=808, batch=[808], ptr=[33])\n",
            " - Batch 383: DataBatch(edge_index=[2, 1560], edge_attr=[1560, 3], x=[718, 9], y=[32, 1], num_nodes=718, batch=[718], ptr=[33])\n",
            " - Batch 384: DataBatch(edge_index=[2, 1836], edge_attr=[1836, 3], x=[846, 9], y=[32, 1], num_nodes=846, batch=[846], ptr=[33])\n",
            " - Batch 385: DataBatch(edge_index=[2, 1858], edge_attr=[1858, 3], x=[856, 9], y=[32, 1], num_nodes=856, batch=[856], ptr=[33])\n",
            " - Batch 386: DataBatch(edge_index=[2, 1860], edge_attr=[1860, 3], x=[869, 9], y=[32, 1], num_nodes=869, batch=[869], ptr=[33])\n",
            " - Batch 387: DataBatch(edge_index=[2, 1630], edge_attr=[1630, 3], x=[756, 9], y=[32, 1], num_nodes=756, batch=[756], ptr=[33])\n",
            " - Batch 388: DataBatch(edge_index=[2, 1708], edge_attr=[1708, 3], x=[804, 9], y=[32, 1], num_nodes=804, batch=[804], ptr=[33])\n",
            " - Batch 389: DataBatch(edge_index=[2, 1672], edge_attr=[1672, 3], x=[780, 9], y=[32, 1], num_nodes=780, batch=[780], ptr=[33])\n",
            " - Batch 390: DataBatch(edge_index=[2, 1838], edge_attr=[1838, 3], x=[853, 9], y=[32, 1], num_nodes=853, batch=[853], ptr=[33])\n",
            " - Batch 391: DataBatch(edge_index=[2, 1652], edge_attr=[1652, 3], x=[762, 9], y=[32, 1], num_nodes=762, batch=[762], ptr=[33])\n",
            " - Batch 392: DataBatch(edge_index=[2, 1608], edge_attr=[1608, 3], x=[757, 9], y=[32, 1], num_nodes=757, batch=[757], ptr=[33])\n",
            " - Batch 393: DataBatch(edge_index=[2, 1814], edge_attr=[1814, 3], x=[848, 9], y=[32, 1], num_nodes=848, batch=[848], ptr=[33])\n",
            " - Batch 394: DataBatch(edge_index=[2, 1730], edge_attr=[1730, 3], x=[810, 9], y=[32, 1], num_nodes=810, batch=[810], ptr=[33])\n",
            " - Batch 395: DataBatch(edge_index=[2, 1578], edge_attr=[1578, 3], x=[731, 9], y=[32, 1], num_nodes=731, batch=[731], ptr=[33])\n",
            " - Batch 396: DataBatch(edge_index=[2, 1514], edge_attr=[1514, 3], x=[708, 9], y=[32, 1], num_nodes=708, batch=[708], ptr=[33])\n",
            " - Batch 397: DataBatch(edge_index=[2, 1598], edge_attr=[1598, 3], x=[739, 9], y=[32, 1], num_nodes=739, batch=[739], ptr=[33])\n",
            " - Batch 398: DataBatch(edge_index=[2, 2128], edge_attr=[2128, 3], x=[991, 9], y=[32, 1], num_nodes=991, batch=[991], ptr=[33])\n",
            " - Batch 399: DataBatch(edge_index=[2, 1962], edge_attr=[1962, 3], x=[904, 9], y=[32, 1], num_nodes=904, batch=[904], ptr=[33])\n",
            " - Batch 400: DataBatch(edge_index=[2, 1684], edge_attr=[1684, 3], x=[792, 9], y=[32, 1], num_nodes=792, batch=[792], ptr=[33])\n",
            " - Batch 401: DataBatch(edge_index=[2, 1674], edge_attr=[1674, 3], x=[784, 9], y=[32, 1], num_nodes=784, batch=[784], ptr=[33])\n",
            " - Batch 402: DataBatch(edge_index=[2, 1574], edge_attr=[1574, 3], x=[736, 9], y=[32, 1], num_nodes=736, batch=[736], ptr=[33])\n",
            " - Batch 403: DataBatch(edge_index=[2, 1652], edge_attr=[1652, 3], x=[769, 9], y=[32, 1], num_nodes=769, batch=[769], ptr=[33])\n",
            " - Batch 404: DataBatch(edge_index=[2, 1686], edge_attr=[1686, 3], x=[800, 9], y=[32, 1], num_nodes=800, batch=[800], ptr=[33])\n",
            " - Batch 405: DataBatch(edge_index=[2, 1770], edge_attr=[1770, 3], x=[838, 9], y=[32, 1], num_nodes=838, batch=[838], ptr=[33])\n",
            " - Batch 406: DataBatch(edge_index=[2, 1618], edge_attr=[1618, 3], x=[767, 9], y=[32, 1], num_nodes=767, batch=[767], ptr=[33])\n",
            " - Batch 407: DataBatch(edge_index=[2, 1570], edge_attr=[1570, 3], x=[733, 9], y=[32, 1], num_nodes=733, batch=[733], ptr=[33])\n",
            " - Batch 408: DataBatch(edge_index=[2, 1740], edge_attr=[1740, 3], x=[818, 9], y=[32, 1], num_nodes=818, batch=[818], ptr=[33])\n",
            " - Batch 409: DataBatch(edge_index=[2, 1672], edge_attr=[1672, 3], x=[780, 9], y=[32, 1], num_nodes=780, batch=[780], ptr=[33])\n",
            " - Batch 410: DataBatch(edge_index=[2, 1788], edge_attr=[1788, 3], x=[835, 9], y=[32, 1], num_nodes=835, batch=[835], ptr=[33])\n",
            " - Batch 411: DataBatch(edge_index=[2, 1532], edge_attr=[1532, 3], x=[712, 9], y=[32, 1], num_nodes=712, batch=[712], ptr=[33])\n",
            " - Batch 412: DataBatch(edge_index=[2, 1644], edge_attr=[1644, 3], x=[771, 9], y=[32, 1], num_nodes=771, batch=[771], ptr=[33])\n",
            " - Batch 413: DataBatch(edge_index=[2, 1606], edge_attr=[1606, 3], x=[739, 9], y=[32, 1], num_nodes=739, batch=[739], ptr=[33])\n",
            " - Batch 414: DataBatch(edge_index=[2, 1748], edge_attr=[1748, 3], x=[823, 9], y=[32, 1], num_nodes=823, batch=[823], ptr=[33])\n",
            " - Batch 415: DataBatch(edge_index=[2, 1818], edge_attr=[1818, 3], x=[838, 9], y=[32, 1], num_nodes=838, batch=[838], ptr=[33])\n",
            " - Batch 416: DataBatch(edge_index=[2, 1760], edge_attr=[1760, 3], x=[807, 9], y=[32, 1], num_nodes=807, batch=[807], ptr=[33])\n",
            " - Batch 417: DataBatch(edge_index=[2, 1684], edge_attr=[1684, 3], x=[791, 9], y=[32, 1], num_nodes=791, batch=[791], ptr=[33])\n",
            " - Batch 418: DataBatch(edge_index=[2, 1856], edge_attr=[1856, 3], x=[870, 9], y=[32, 1], num_nodes=870, batch=[870], ptr=[33])\n",
            " - Batch 419: DataBatch(edge_index=[2, 1506], edge_attr=[1506, 3], x=[700, 9], y=[32, 1], num_nodes=700, batch=[700], ptr=[33])\n",
            " - Batch 420: DataBatch(edge_index=[2, 1690], edge_attr=[1690, 3], x=[794, 9], y=[32, 1], num_nodes=794, batch=[794], ptr=[33])\n",
            " - Batch 421: DataBatch(edge_index=[2, 1594], edge_attr=[1594, 3], x=[744, 9], y=[32, 1], num_nodes=744, batch=[744], ptr=[33])\n",
            " - Batch 422: DataBatch(edge_index=[2, 1696], edge_attr=[1696, 3], x=[790, 9], y=[32, 1], num_nodes=790, batch=[790], ptr=[33])\n",
            " - Batch 423: DataBatch(edge_index=[2, 1732], edge_attr=[1732, 3], x=[821, 9], y=[32, 1], num_nodes=821, batch=[821], ptr=[33])\n",
            " - Batch 424: DataBatch(edge_index=[2, 1706], edge_attr=[1706, 3], x=[791, 9], y=[32, 1], num_nodes=791, batch=[791], ptr=[33])\n",
            " - Batch 425: DataBatch(edge_index=[2, 1618], edge_attr=[1618, 3], x=[762, 9], y=[32, 1], num_nodes=762, batch=[762], ptr=[33])\n",
            " - Batch 426: DataBatch(edge_index=[2, 1602], edge_attr=[1602, 3], x=[750, 9], y=[32, 1], num_nodes=750, batch=[750], ptr=[33])\n",
            " - Batch 427: DataBatch(edge_index=[2, 1962], edge_attr=[1962, 3], x=[909, 9], y=[32, 1], num_nodes=909, batch=[909], ptr=[33])\n",
            " - Batch 428: DataBatch(edge_index=[2, 1700], edge_attr=[1700, 3], x=[792, 9], y=[32, 1], num_nodes=792, batch=[792], ptr=[33])\n",
            " - Batch 429: DataBatch(edge_index=[2, 1558], edge_attr=[1558, 3], x=[728, 9], y=[32, 1], num_nodes=728, batch=[728], ptr=[33])\n",
            " - Batch 430: DataBatch(edge_index=[2, 1740], edge_attr=[1740, 3], x=[814, 9], y=[32, 1], num_nodes=814, batch=[814], ptr=[33])\n",
            " - Batch 431: DataBatch(edge_index=[2, 1686], edge_attr=[1686, 3], x=[783, 9], y=[32, 1], num_nodes=783, batch=[783], ptr=[33])\n",
            " - Batch 432: DataBatch(edge_index=[2, 1802], edge_attr=[1802, 3], x=[838, 9], y=[32, 1], num_nodes=838, batch=[838], ptr=[33])\n",
            " - Batch 433: DataBatch(edge_index=[2, 1848], edge_attr=[1848, 3], x=[865, 9], y=[32, 1], num_nodes=865, batch=[865], ptr=[33])\n",
            " - Batch 434: DataBatch(edge_index=[2, 1626], edge_attr=[1626, 3], x=[762, 9], y=[32, 1], num_nodes=762, batch=[762], ptr=[33])\n",
            " - Batch 435: DataBatch(edge_index=[2, 1794], edge_attr=[1794, 3], x=[837, 9], y=[32, 1], num_nodes=837, batch=[837], ptr=[33])\n",
            " - Batch 436: DataBatch(edge_index=[2, 1622], edge_attr=[1622, 3], x=[755, 9], y=[32, 1], num_nodes=755, batch=[755], ptr=[33])\n",
            " - Batch 437: DataBatch(edge_index=[2, 1758], edge_attr=[1758, 3], x=[836, 9], y=[32, 1], num_nodes=836, batch=[836], ptr=[33])\n",
            " - Batch 438: DataBatch(edge_index=[2, 1868], edge_attr=[1868, 3], x=[872, 9], y=[32, 1], num_nodes=872, batch=[872], ptr=[33])\n",
            " - Batch 439: DataBatch(edge_index=[2, 1624], edge_attr=[1624, 3], x=[752, 9], y=[32, 1], num_nodes=752, batch=[752], ptr=[33])\n",
            " - Batch 440: DataBatch(edge_index=[2, 1638], edge_attr=[1638, 3], x=[765, 9], y=[32, 1], num_nodes=765, batch=[765], ptr=[33])\n",
            " - Batch 441: DataBatch(edge_index=[2, 1660], edge_attr=[1660, 3], x=[783, 9], y=[32, 1], num_nodes=783, batch=[783], ptr=[33])\n",
            " - Batch 442: DataBatch(edge_index=[2, 1640], edge_attr=[1640, 3], x=[767, 9], y=[32, 1], num_nodes=767, batch=[767], ptr=[33])\n",
            " - Batch 443: DataBatch(edge_index=[2, 1972], edge_attr=[1972, 3], x=[904, 9], y=[32, 1], num_nodes=904, batch=[904], ptr=[33])\n",
            " - Batch 444: DataBatch(edge_index=[2, 1810], edge_attr=[1810, 3], x=[846, 9], y=[32, 1], num_nodes=846, batch=[846], ptr=[33])\n",
            " - Batch 445: DataBatch(edge_index=[2, 1816], edge_attr=[1816, 3], x=[846, 9], y=[32, 1], num_nodes=846, batch=[846], ptr=[33])\n",
            " - Batch 446: DataBatch(edge_index=[2, 2006], edge_attr=[2006, 3], x=[954, 9], y=[32, 1], num_nodes=954, batch=[954], ptr=[33])\n",
            " - Batch 447: DataBatch(edge_index=[2, 1946], edge_attr=[1946, 3], x=[905, 9], y=[32, 1], num_nodes=905, batch=[905], ptr=[33])\n",
            " - Batch 448: DataBatch(edge_index=[2, 1820], edge_attr=[1820, 3], x=[850, 9], y=[32, 1], num_nodes=850, batch=[850], ptr=[33])\n",
            " - Batch 449: DataBatch(edge_index=[2, 1666], edge_attr=[1666, 3], x=[772, 9], y=[32, 1], num_nodes=772, batch=[772], ptr=[33])\n",
            " - Batch 450: DataBatch(edge_index=[2, 1812], edge_attr=[1812, 3], x=[840, 9], y=[32, 1], num_nodes=840, batch=[840], ptr=[33])\n",
            " - Batch 451: DataBatch(edge_index=[2, 1574], edge_attr=[1574, 3], x=[743, 9], y=[32, 1], num_nodes=743, batch=[743], ptr=[33])\n",
            " - Batch 452: DataBatch(edge_index=[2, 1706], edge_attr=[1706, 3], x=[779, 9], y=[32, 1], num_nodes=779, batch=[779], ptr=[33])\n",
            " - Batch 453: DataBatch(edge_index=[2, 1542], edge_attr=[1542, 3], x=[727, 9], y=[32, 1], num_nodes=727, batch=[727], ptr=[33])\n",
            " - Batch 454: DataBatch(edge_index=[2, 1582], edge_attr=[1582, 3], x=[755, 9], y=[32, 1], num_nodes=755, batch=[755], ptr=[33])\n",
            " - Batch 455: DataBatch(edge_index=[2, 1704], edge_attr=[1704, 3], x=[797, 9], y=[32, 1], num_nodes=797, batch=[797], ptr=[33])\n",
            " - Batch 456: DataBatch(edge_index=[2, 1658], edge_attr=[1658, 3], x=[768, 9], y=[32, 1], num_nodes=768, batch=[768], ptr=[33])\n",
            " - Batch 457: DataBatch(edge_index=[2, 1800], edge_attr=[1800, 3], x=[841, 9], y=[32, 1], num_nodes=841, batch=[841], ptr=[33])\n",
            " - Batch 458: DataBatch(edge_index=[2, 1608], edge_attr=[1608, 3], x=[753, 9], y=[32, 1], num_nodes=753, batch=[753], ptr=[33])\n",
            " - Batch 459: DataBatch(edge_index=[2, 1608], edge_attr=[1608, 3], x=[761, 9], y=[32, 1], num_nodes=761, batch=[761], ptr=[33])\n",
            " - Batch 460: DataBatch(edge_index=[2, 1644], edge_attr=[1644, 3], x=[773, 9], y=[32, 1], num_nodes=773, batch=[773], ptr=[33])\n",
            " - Batch 461: DataBatch(edge_index=[2, 1688], edge_attr=[1688, 3], x=[797, 9], y=[32, 1], num_nodes=797, batch=[797], ptr=[33])\n",
            " - Batch 462: DataBatch(edge_index=[2, 1932], edge_attr=[1932, 3], x=[907, 9], y=[32, 1], num_nodes=907, batch=[907], ptr=[33])\n",
            " - Batch 463: DataBatch(edge_index=[2, 1752], edge_attr=[1752, 3], x=[816, 9], y=[32, 1], num_nodes=816, batch=[816], ptr=[33])\n",
            " - Batch 464: DataBatch(edge_index=[2, 2110], edge_attr=[2110, 3], x=[993, 9], y=[32, 1], num_nodes=993, batch=[993], ptr=[33])\n",
            " - Batch 465: DataBatch(edge_index=[2, 1722], edge_attr=[1722, 3], x=[812, 9], y=[32, 1], num_nodes=812, batch=[812], ptr=[33])\n",
            " - Batch 466: DataBatch(edge_index=[2, 1692], edge_attr=[1692, 3], x=[782, 9], y=[32, 1], num_nodes=782, batch=[782], ptr=[33])\n",
            " - Batch 467: DataBatch(edge_index=[2, 1728], edge_attr=[1728, 3], x=[802, 9], y=[32, 1], num_nodes=802, batch=[802], ptr=[33])\n",
            " - Batch 468: DataBatch(edge_index=[2, 1718], edge_attr=[1718, 3], x=[815, 9], y=[32, 1], num_nodes=815, batch=[815], ptr=[33])\n",
            " - Batch 469: DataBatch(edge_index=[2, 1804], edge_attr=[1804, 3], x=[833, 9], y=[32, 1], num_nodes=833, batch=[833], ptr=[33])\n",
            " - Batch 470: DataBatch(edge_index=[2, 1690], edge_attr=[1690, 3], x=[776, 9], y=[32, 1], num_nodes=776, batch=[776], ptr=[33])\n",
            " - Batch 471: DataBatch(edge_index=[2, 1614], edge_attr=[1614, 3], x=[756, 9], y=[32, 1], num_nodes=756, batch=[756], ptr=[33])\n",
            " - Batch 472: DataBatch(edge_index=[2, 1730], edge_attr=[1730, 3], x=[800, 9], y=[32, 1], num_nodes=800, batch=[800], ptr=[33])\n",
            " - Batch 473: DataBatch(edge_index=[2, 1786], edge_attr=[1786, 3], x=[834, 9], y=[32, 1], num_nodes=834, batch=[834], ptr=[33])\n",
            " - Batch 474: DataBatch(edge_index=[2, 1670], edge_attr=[1670, 3], x=[776, 9], y=[32, 1], num_nodes=776, batch=[776], ptr=[33])\n",
            " - Batch 475: DataBatch(edge_index=[2, 1620], edge_attr=[1620, 3], x=[765, 9], y=[32, 1], num_nodes=765, batch=[765], ptr=[33])\n",
            " - Batch 476: DataBatch(edge_index=[2, 1788], edge_attr=[1788, 3], x=[834, 9], y=[32, 1], num_nodes=834, batch=[834], ptr=[33])\n",
            " - Batch 477: DataBatch(edge_index=[2, 1416], edge_attr=[1416, 3], x=[668, 9], y=[32, 1], num_nodes=668, batch=[668], ptr=[33])\n",
            " - Batch 478: DataBatch(edge_index=[2, 1862], edge_attr=[1862, 3], x=[878, 9], y=[32, 1], num_nodes=878, batch=[878], ptr=[33])\n",
            " - Batch 479: DataBatch(edge_index=[2, 1834], edge_attr=[1834, 3], x=[847, 9], y=[32, 1], num_nodes=847, batch=[847], ptr=[33])\n",
            " - Batch 480: DataBatch(edge_index=[2, 1624], edge_attr=[1624, 3], x=[760, 9], y=[32, 1], num_nodes=760, batch=[760], ptr=[33])\n",
            " - Batch 481: DataBatch(edge_index=[2, 1924], edge_attr=[1924, 3], x=[905, 9], y=[32, 1], num_nodes=905, batch=[905], ptr=[33])\n",
            " - Batch 482: DataBatch(edge_index=[2, 1634], edge_attr=[1634, 3], x=[755, 9], y=[32, 1], num_nodes=755, batch=[755], ptr=[33])\n",
            " - Batch 483: DataBatch(edge_index=[2, 1606], edge_attr=[1606, 3], x=[751, 9], y=[32, 1], num_nodes=751, batch=[751], ptr=[33])\n",
            " - Batch 484: DataBatch(edge_index=[2, 1696], edge_attr=[1696, 3], x=[786, 9], y=[32, 1], num_nodes=786, batch=[786], ptr=[33])\n",
            " - Batch 485: DataBatch(edge_index=[2, 1738], edge_attr=[1738, 3], x=[807, 9], y=[32, 1], num_nodes=807, batch=[807], ptr=[33])\n",
            " - Batch 486: DataBatch(edge_index=[2, 1726], edge_attr=[1726, 3], x=[801, 9], y=[32, 1], num_nodes=801, batch=[801], ptr=[33])\n",
            " - Batch 487: DataBatch(edge_index=[2, 1690], edge_attr=[1690, 3], x=[789, 9], y=[32, 1], num_nodes=789, batch=[789], ptr=[33])\n",
            " - Batch 488: DataBatch(edge_index=[2, 1632], edge_attr=[1632, 3], x=[769, 9], y=[32, 1], num_nodes=769, batch=[769], ptr=[33])\n",
            " - Batch 489: DataBatch(edge_index=[2, 1734], edge_attr=[1734, 3], x=[814, 9], y=[32, 1], num_nodes=814, batch=[814], ptr=[33])\n",
            " - Batch 490: DataBatch(edge_index=[2, 2112], edge_attr=[2112, 3], x=[988, 9], y=[32, 1], num_nodes=988, batch=[988], ptr=[33])\n",
            " - Batch 491: DataBatch(edge_index=[2, 1548], edge_attr=[1548, 3], x=[727, 9], y=[32, 1], num_nodes=727, batch=[727], ptr=[33])\n",
            " - Batch 492: DataBatch(edge_index=[2, 1642], edge_attr=[1642, 3], x=[769, 9], y=[32, 1], num_nodes=769, batch=[769], ptr=[33])\n",
            " - Batch 493: DataBatch(edge_index=[2, 1682], edge_attr=[1682, 3], x=[799, 9], y=[32, 1], num_nodes=799, batch=[799], ptr=[33])\n",
            " - Batch 494: DataBatch(edge_index=[2, 1966], edge_attr=[1966, 3], x=[913, 9], y=[32, 1], num_nodes=913, batch=[913], ptr=[33])\n",
            " - Batch 495: DataBatch(edge_index=[2, 1520], edge_attr=[1520, 3], x=[708, 9], y=[32, 1], num_nodes=708, batch=[708], ptr=[33])\n",
            " - Batch 496: DataBatch(edge_index=[2, 1804], edge_attr=[1804, 3], x=[846, 9], y=[32, 1], num_nodes=846, batch=[846], ptr=[33])\n",
            " - Batch 497: DataBatch(edge_index=[2, 1684], edge_attr=[1684, 3], x=[778, 9], y=[32, 1], num_nodes=778, batch=[778], ptr=[33])\n",
            " - Batch 498: DataBatch(edge_index=[2, 1498], edge_attr=[1498, 3], x=[704, 9], y=[32, 1], num_nodes=704, batch=[704], ptr=[33])\n",
            " - Batch 499: DataBatch(edge_index=[2, 1720], edge_attr=[1720, 3], x=[803, 9], y=[32, 1], num_nodes=803, batch=[803], ptr=[33])\n",
            " - Batch 500: DataBatch(edge_index=[2, 1910], edge_attr=[1910, 3], x=[891, 9], y=[32, 1], num_nodes=891, batch=[891], ptr=[33])\n",
            " - Batch 501: DataBatch(edge_index=[2, 1760], edge_attr=[1760, 3], x=[843, 9], y=[32, 1], num_nodes=843, batch=[843], ptr=[33])\n",
            " - Batch 502: DataBatch(edge_index=[2, 1650], edge_attr=[1650, 3], x=[766, 9], y=[32, 1], num_nodes=766, batch=[766], ptr=[33])\n",
            " - Batch 503: DataBatch(edge_index=[2, 1724], edge_attr=[1724, 3], x=[807, 9], y=[32, 1], num_nodes=807, batch=[807], ptr=[33])\n",
            " - Batch 504: DataBatch(edge_index=[2, 1736], edge_attr=[1736, 3], x=[810, 9], y=[32, 1], num_nodes=810, batch=[810], ptr=[33])\n",
            " - Batch 505: DataBatch(edge_index=[2, 1734], edge_attr=[1734, 3], x=[816, 9], y=[32, 1], num_nodes=816, batch=[816], ptr=[33])\n",
            " - Batch 506: DataBatch(edge_index=[2, 1904], edge_attr=[1904, 3], x=[892, 9], y=[32, 1], num_nodes=892, batch=[892], ptr=[33])\n",
            " - Batch 507: DataBatch(edge_index=[2, 1744], edge_attr=[1744, 3], x=[821, 9], y=[32, 1], num_nodes=821, batch=[821], ptr=[33])\n",
            " - Batch 508: DataBatch(edge_index=[2, 1712], edge_attr=[1712, 3], x=[798, 9], y=[32, 1], num_nodes=798, batch=[798], ptr=[33])\n",
            " - Batch 509: DataBatch(edge_index=[2, 1780], edge_attr=[1780, 3], x=[833, 9], y=[32, 1], num_nodes=833, batch=[833], ptr=[33])\n",
            " - Batch 510: DataBatch(edge_index=[2, 1552], edge_attr=[1552, 3], x=[732, 9], y=[32, 1], num_nodes=732, batch=[732], ptr=[33])\n",
            " - Batch 511: DataBatch(edge_index=[2, 1976], edge_attr=[1976, 3], x=[923, 9], y=[32, 1], num_nodes=923, batch=[923], ptr=[33])\n",
            " - Batch 512: DataBatch(edge_index=[2, 1888], edge_attr=[1888, 3], x=[870, 9], y=[32, 1], num_nodes=870, batch=[870], ptr=[33])\n",
            " - Batch 513: DataBatch(edge_index=[2, 2060], edge_attr=[2060, 3], x=[951, 9], y=[32, 1], num_nodes=951, batch=[951], ptr=[33])\n",
            " - Batch 514: DataBatch(edge_index=[2, 1816], edge_attr=[1816, 3], x=[854, 9], y=[32, 1], num_nodes=854, batch=[854], ptr=[33])\n",
            " - Batch 515: DataBatch(edge_index=[2, 1592], edge_attr=[1592, 3], x=[751, 9], y=[32, 1], num_nodes=751, batch=[751], ptr=[33])\n",
            " - Batch 516: DataBatch(edge_index=[2, 1904], edge_attr=[1904, 3], x=[897, 9], y=[32, 1], num_nodes=897, batch=[897], ptr=[33])\n",
            " - Batch 517: DataBatch(edge_index=[2, 1772], edge_attr=[1772, 3], x=[824, 9], y=[32, 1], num_nodes=824, batch=[824], ptr=[33])\n",
            " - Batch 518: DataBatch(edge_index=[2, 1792], edge_attr=[1792, 3], x=[826, 9], y=[32, 1], num_nodes=826, batch=[826], ptr=[33])\n",
            " - Batch 519: DataBatch(edge_index=[2, 1726], edge_attr=[1726, 3], x=[802, 9], y=[32, 1], num_nodes=802, batch=[802], ptr=[33])\n",
            " - Batch 520: DataBatch(edge_index=[2, 1654], edge_attr=[1654, 3], x=[775, 9], y=[32, 1], num_nodes=775, batch=[775], ptr=[33])\n",
            " - Batch 521: DataBatch(edge_index=[2, 1762], edge_attr=[1762, 3], x=[827, 9], y=[32, 1], num_nodes=827, batch=[827], ptr=[33])\n",
            " - Batch 522: DataBatch(edge_index=[2, 1696], edge_attr=[1696, 3], x=[791, 9], y=[32, 1], num_nodes=791, batch=[791], ptr=[33])\n",
            " - Batch 523: DataBatch(edge_index=[2, 2034], edge_attr=[2034, 3], x=[950, 9], y=[32, 1], num_nodes=950, batch=[950], ptr=[33])\n",
            " - Batch 524: DataBatch(edge_index=[2, 1538], edge_attr=[1538, 3], x=[720, 9], y=[32, 1], num_nodes=720, batch=[720], ptr=[33])\n",
            " - Batch 525: DataBatch(edge_index=[2, 1750], edge_attr=[1750, 3], x=[820, 9], y=[32, 1], num_nodes=820, batch=[820], ptr=[33])\n",
            " - Batch 526: DataBatch(edge_index=[2, 1662], edge_attr=[1662, 3], x=[779, 9], y=[32, 1], num_nodes=779, batch=[779], ptr=[33])\n",
            " - Batch 527: DataBatch(edge_index=[2, 1968], edge_attr=[1968, 3], x=[907, 9], y=[32, 1], num_nodes=907, batch=[907], ptr=[33])\n",
            " - Batch 528: DataBatch(edge_index=[2, 1588], edge_attr=[1588, 3], x=[742, 9], y=[32, 1], num_nodes=742, batch=[742], ptr=[33])\n",
            " - Batch 529: DataBatch(edge_index=[2, 1770], edge_attr=[1770, 3], x=[834, 9], y=[32, 1], num_nodes=834, batch=[834], ptr=[33])\n",
            " - Batch 530: DataBatch(edge_index=[2, 1792], edge_attr=[1792, 3], x=[840, 9], y=[32, 1], num_nodes=840, batch=[840], ptr=[33])\n",
            " - Batch 531: DataBatch(edge_index=[2, 1676], edge_attr=[1676, 3], x=[772, 9], y=[32, 1], num_nodes=772, batch=[772], ptr=[33])\n",
            " - Batch 532: DataBatch(edge_index=[2, 1580], edge_attr=[1580, 3], x=[732, 9], y=[32, 1], num_nodes=732, batch=[732], ptr=[33])\n",
            " - Batch 533: DataBatch(edge_index=[2, 1638], edge_attr=[1638, 3], x=[762, 9], y=[32, 1], num_nodes=762, batch=[762], ptr=[33])\n",
            " - Batch 534: DataBatch(edge_index=[2, 1992], edge_attr=[1992, 3], x=[929, 9], y=[32, 1], num_nodes=929, batch=[929], ptr=[33])\n",
            " - Batch 535: DataBatch(edge_index=[2, 1470], edge_attr=[1470, 3], x=[684, 9], y=[32, 1], num_nodes=684, batch=[684], ptr=[33])\n",
            " - Batch 536: DataBatch(edge_index=[2, 1776], edge_attr=[1776, 3], x=[841, 9], y=[32, 1], num_nodes=841, batch=[841], ptr=[33])\n",
            " - Batch 537: DataBatch(edge_index=[2, 1640], edge_attr=[1640, 3], x=[766, 9], y=[32, 1], num_nodes=766, batch=[766], ptr=[33])\n",
            " - Batch 538: DataBatch(edge_index=[2, 1840], edge_attr=[1840, 3], x=[869, 9], y=[32, 1], num_nodes=869, batch=[869], ptr=[33])\n",
            " - Batch 539: DataBatch(edge_index=[2, 1756], edge_attr=[1756, 3], x=[823, 9], y=[32, 1], num_nodes=823, batch=[823], ptr=[33])\n",
            " - Batch 540: DataBatch(edge_index=[2, 1874], edge_attr=[1874, 3], x=[875, 9], y=[32, 1], num_nodes=875, batch=[875], ptr=[33])\n",
            " - Batch 541: DataBatch(edge_index=[2, 1694], edge_attr=[1694, 3], x=[784, 9], y=[32, 1], num_nodes=784, batch=[784], ptr=[33])\n",
            " - Batch 542: DataBatch(edge_index=[2, 1952], edge_attr=[1952, 3], x=[904, 9], y=[32, 1], num_nodes=904, batch=[904], ptr=[33])\n",
            " - Batch 543: DataBatch(edge_index=[2, 1638], edge_attr=[1638, 3], x=[769, 9], y=[32, 1], num_nodes=769, batch=[769], ptr=[33])\n",
            " - Batch 544: DataBatch(edge_index=[2, 1856], edge_attr=[1856, 3], x=[864, 9], y=[32, 1], num_nodes=864, batch=[864], ptr=[33])\n",
            " - Batch 545: DataBatch(edge_index=[2, 1692], edge_attr=[1692, 3], x=[791, 9], y=[32, 1], num_nodes=791, batch=[791], ptr=[33])\n",
            " - Batch 546: DataBatch(edge_index=[2, 1942], edge_attr=[1942, 3], x=[903, 9], y=[32, 1], num_nodes=903, batch=[903], ptr=[33])\n",
            " - Batch 547: DataBatch(edge_index=[2, 1844], edge_attr=[1844, 3], x=[860, 9], y=[32, 1], num_nodes=860, batch=[860], ptr=[33])\n",
            " - Batch 548: DataBatch(edge_index=[2, 1828], edge_attr=[1828, 3], x=[848, 9], y=[32, 1], num_nodes=848, batch=[848], ptr=[33])\n",
            " - Batch 549: DataBatch(edge_index=[2, 1630], edge_attr=[1630, 3], x=[762, 9], y=[32, 1], num_nodes=762, batch=[762], ptr=[33])\n",
            " - Batch 550: DataBatch(edge_index=[2, 1756], edge_attr=[1756, 3], x=[831, 9], y=[32, 1], num_nodes=831, batch=[831], ptr=[33])\n",
            " - Batch 551: DataBatch(edge_index=[2, 1712], edge_attr=[1712, 3], x=[800, 9], y=[32, 1], num_nodes=800, batch=[800], ptr=[33])\n",
            " - Batch 552: DataBatch(edge_index=[2, 1624], edge_attr=[1624, 3], x=[761, 9], y=[32, 1], num_nodes=761, batch=[761], ptr=[33])\n",
            " - Batch 553: DataBatch(edge_index=[2, 1842], edge_attr=[1842, 3], x=[850, 9], y=[32, 1], num_nodes=850, batch=[850], ptr=[33])\n",
            " - Batch 554: DataBatch(edge_index=[2, 1540], edge_attr=[1540, 3], x=[715, 9], y=[32, 1], num_nodes=715, batch=[715], ptr=[33])\n",
            " - Batch 555: DataBatch(edge_index=[2, 1720], edge_attr=[1720, 3], x=[791, 9], y=[32, 1], num_nodes=791, batch=[791], ptr=[33])\n",
            " - Batch 556: DataBatch(edge_index=[2, 2110], edge_attr=[2110, 3], x=[996, 9], y=[32, 1], num_nodes=996, batch=[996], ptr=[33])\n",
            " - Batch 557: DataBatch(edge_index=[2, 1588], edge_attr=[1588, 3], x=[744, 9], y=[32, 1], num_nodes=744, batch=[744], ptr=[33])\n",
            " - Batch 558: DataBatch(edge_index=[2, 1742], edge_attr=[1742, 3], x=[819, 9], y=[32, 1], num_nodes=819, batch=[819], ptr=[33])\n",
            " - Batch 559: DataBatch(edge_index=[2, 2176], edge_attr=[2176, 3], x=[1018, 9], y=[32, 1], num_nodes=1018, batch=[1018], ptr=[33])\n",
            " - Batch 560: DataBatch(edge_index=[2, 1664], edge_attr=[1664, 3], x=[772, 9], y=[32, 1], num_nodes=772, batch=[772], ptr=[33])\n",
            " - Batch 561: DataBatch(edge_index=[2, 1844], edge_attr=[1844, 3], x=[858, 9], y=[32, 1], num_nodes=858, batch=[858], ptr=[33])\n",
            " - Batch 562: DataBatch(edge_index=[2, 1512], edge_attr=[1512, 3], x=[716, 9], y=[32, 1], num_nodes=716, batch=[716], ptr=[33])\n",
            " - Batch 563: DataBatch(edge_index=[2, 1666], edge_attr=[1666, 3], x=[780, 9], y=[32, 1], num_nodes=780, batch=[780], ptr=[33])\n",
            " - Batch 564: DataBatch(edge_index=[2, 1816], edge_attr=[1816, 3], x=[856, 9], y=[32, 1], num_nodes=856, batch=[856], ptr=[33])\n",
            " - Batch 565: DataBatch(edge_index=[2, 1858], edge_attr=[1858, 3], x=[884, 9], y=[32, 1], num_nodes=884, batch=[884], ptr=[33])\n",
            " - Batch 566: DataBatch(edge_index=[2, 1588], edge_attr=[1588, 3], x=[745, 9], y=[32, 1], num_nodes=745, batch=[745], ptr=[33])\n",
            " - Batch 567: DataBatch(edge_index=[2, 1762], edge_attr=[1762, 3], x=[814, 9], y=[32, 1], num_nodes=814, batch=[814], ptr=[33])\n",
            " - Batch 568: DataBatch(edge_index=[2, 1766], edge_attr=[1766, 3], x=[836, 9], y=[32, 1], num_nodes=836, batch=[836], ptr=[33])\n",
            " - Batch 569: DataBatch(edge_index=[2, 1766], edge_attr=[1766, 3], x=[818, 9], y=[32, 1], num_nodes=818, batch=[818], ptr=[33])\n",
            " - Batch 570: DataBatch(edge_index=[2, 1750], edge_attr=[1750, 3], x=[815, 9], y=[32, 1], num_nodes=815, batch=[815], ptr=[33])\n",
            " - Batch 571: DataBatch(edge_index=[2, 2062], edge_attr=[2062, 3], x=[953, 9], y=[32, 1], num_nodes=953, batch=[953], ptr=[33])\n",
            " - Batch 572: DataBatch(edge_index=[2, 1768], edge_attr=[1768, 3], x=[825, 9], y=[32, 1], num_nodes=825, batch=[825], ptr=[33])\n",
            " - Batch 573: DataBatch(edge_index=[2, 1698], edge_attr=[1698, 3], x=[800, 9], y=[32, 1], num_nodes=800, batch=[800], ptr=[33])\n",
            " - Batch 574: DataBatch(edge_index=[2, 1564], edge_attr=[1564, 3], x=[731, 9], y=[32, 1], num_nodes=731, batch=[731], ptr=[33])\n",
            " - Batch 575: DataBatch(edge_index=[2, 1618], edge_attr=[1618, 3], x=[776, 9], y=[32, 1], num_nodes=776, batch=[776], ptr=[33])\n",
            " - Batch 576: DataBatch(edge_index=[2, 2174], edge_attr=[2174, 3], x=[1012, 9], y=[32, 1], num_nodes=1012, batch=[1012], ptr=[33])\n",
            " - Batch 577: DataBatch(edge_index=[2, 1818], edge_attr=[1818, 3], x=[854, 9], y=[32, 1], num_nodes=854, batch=[854], ptr=[33])\n",
            " - Batch 578: DataBatch(edge_index=[2, 1496], edge_attr=[1496, 3], x=[703, 9], y=[32, 1], num_nodes=703, batch=[703], ptr=[33])\n",
            " - Batch 579: DataBatch(edge_index=[2, 1860], edge_attr=[1860, 3], x=[858, 9], y=[32, 1], num_nodes=858, batch=[858], ptr=[33])\n",
            " - Batch 580: DataBatch(edge_index=[2, 1696], edge_attr=[1696, 3], x=[794, 9], y=[32, 1], num_nodes=794, batch=[794], ptr=[33])\n",
            " - Batch 581: DataBatch(edge_index=[2, 1610], edge_attr=[1610, 3], x=[743, 9], y=[32, 1], num_nodes=743, batch=[743], ptr=[33])\n",
            " - Batch 582: DataBatch(edge_index=[2, 1968], edge_attr=[1968, 3], x=[901, 9], y=[32, 1], num_nodes=901, batch=[901], ptr=[33])\n",
            " - Batch 583: DataBatch(edge_index=[2, 1560], edge_attr=[1560, 3], x=[730, 9], y=[32, 1], num_nodes=730, batch=[730], ptr=[33])\n",
            " - Batch 584: DataBatch(edge_index=[2, 1738], edge_attr=[1738, 3], x=[810, 9], y=[32, 1], num_nodes=810, batch=[810], ptr=[33])\n",
            " - Batch 585: DataBatch(edge_index=[2, 1598], edge_attr=[1598, 3], x=[754, 9], y=[32, 1], num_nodes=754, batch=[754], ptr=[33])\n",
            " - Batch 586: DataBatch(edge_index=[2, 1726], edge_attr=[1726, 3], x=[799, 9], y=[32, 1], num_nodes=799, batch=[799], ptr=[33])\n",
            " - Batch 587: DataBatch(edge_index=[2, 1626], edge_attr=[1626, 3], x=[763, 9], y=[32, 1], num_nodes=763, batch=[763], ptr=[33])\n",
            " - Batch 588: DataBatch(edge_index=[2, 1700], edge_attr=[1700, 3], x=[790, 9], y=[32, 1], num_nodes=790, batch=[790], ptr=[33])\n",
            " - Batch 589: DataBatch(edge_index=[2, 1844], edge_attr=[1844, 3], x=[852, 9], y=[32, 1], num_nodes=852, batch=[852], ptr=[33])\n",
            " - Batch 590: DataBatch(edge_index=[2, 1648], edge_attr=[1648, 3], x=[763, 9], y=[32, 1], num_nodes=763, batch=[763], ptr=[33])\n",
            " - Batch 591: DataBatch(edge_index=[2, 1706], edge_attr=[1706, 3], x=[806, 9], y=[32, 1], num_nodes=806, batch=[806], ptr=[33])\n",
            " - Batch 592: DataBatch(edge_index=[2, 1678], edge_attr=[1678, 3], x=[784, 9], y=[32, 1], num_nodes=784, batch=[784], ptr=[33])\n",
            " - Batch 593: DataBatch(edge_index=[2, 1514], edge_attr=[1514, 3], x=[706, 9], y=[32, 1], num_nodes=706, batch=[706], ptr=[33])\n",
            " - Batch 594: DataBatch(edge_index=[2, 1832], edge_attr=[1832, 3], x=[864, 9], y=[32, 1], num_nodes=864, batch=[864], ptr=[33])\n",
            " - Batch 595: DataBatch(edge_index=[2, 1926], edge_attr=[1926, 3], x=[896, 9], y=[32, 1], num_nodes=896, batch=[896], ptr=[33])\n",
            " - Batch 596: DataBatch(edge_index=[2, 1778], edge_attr=[1778, 3], x=[820, 9], y=[32, 1], num_nodes=820, batch=[820], ptr=[33])\n",
            " - Batch 597: DataBatch(edge_index=[2, 1712], edge_attr=[1712, 3], x=[803, 9], y=[32, 1], num_nodes=803, batch=[803], ptr=[33])\n",
            " - Batch 598: DataBatch(edge_index=[2, 1634], edge_attr=[1634, 3], x=[765, 9], y=[32, 1], num_nodes=765, batch=[765], ptr=[33])\n",
            " - Batch 599: DataBatch(edge_index=[2, 1490], edge_attr=[1490, 3], x=[699, 9], y=[32, 1], num_nodes=699, batch=[699], ptr=[33])\n",
            " - Batch 600: DataBatch(edge_index=[2, 1634], edge_attr=[1634, 3], x=[762, 9], y=[32, 1], num_nodes=762, batch=[762], ptr=[33])\n",
            " - Batch 601: DataBatch(edge_index=[2, 1752], edge_attr=[1752, 3], x=[816, 9], y=[32, 1], num_nodes=816, batch=[816], ptr=[33])\n",
            " - Batch 602: DataBatch(edge_index=[2, 1670], edge_attr=[1670, 3], x=[783, 9], y=[32, 1], num_nodes=783, batch=[783], ptr=[33])\n",
            " - Batch 603: DataBatch(edge_index=[2, 1754], edge_attr=[1754, 3], x=[823, 9], y=[32, 1], num_nodes=823, batch=[823], ptr=[33])\n",
            " - Batch 604: DataBatch(edge_index=[2, 1836], edge_attr=[1836, 3], x=[856, 9], y=[32, 1], num_nodes=856, batch=[856], ptr=[33])\n",
            " - Batch 605: DataBatch(edge_index=[2, 2120], edge_attr=[2120, 3], x=[996, 9], y=[32, 1], num_nodes=996, batch=[996], ptr=[33])\n",
            " - Batch 606: DataBatch(edge_index=[2, 2090], edge_attr=[2090, 3], x=[971, 9], y=[32, 1], num_nodes=971, batch=[971], ptr=[33])\n",
            " - Batch 607: DataBatch(edge_index=[2, 1706], edge_attr=[1706, 3], x=[804, 9], y=[32, 1], num_nodes=804, batch=[804], ptr=[33])\n",
            " - Batch 608: DataBatch(edge_index=[2, 1638], edge_attr=[1638, 3], x=[772, 9], y=[32, 1], num_nodes=772, batch=[772], ptr=[33])\n",
            " - Batch 609: DataBatch(edge_index=[2, 1578], edge_attr=[1578, 3], x=[728, 9], y=[32, 1], num_nodes=728, batch=[728], ptr=[33])\n",
            " - Batch 610: DataBatch(edge_index=[2, 1598], edge_attr=[1598, 3], x=[750, 9], y=[32, 1], num_nodes=750, batch=[750], ptr=[33])\n",
            " - Batch 611: DataBatch(edge_index=[2, 1708], edge_attr=[1708, 3], x=[801, 9], y=[32, 1], num_nodes=801, batch=[801], ptr=[33])\n",
            " - Batch 612: DataBatch(edge_index=[2, 2098], edge_attr=[2098, 3], x=[981, 9], y=[32, 1], num_nodes=981, batch=[981], ptr=[33])\n",
            " - Batch 613: DataBatch(edge_index=[2, 1576], edge_attr=[1576, 3], x=[740, 9], y=[32, 1], num_nodes=740, batch=[740], ptr=[33])\n",
            " - Batch 614: DataBatch(edge_index=[2, 1690], edge_attr=[1690, 3], x=[789, 9], y=[32, 1], num_nodes=789, batch=[789], ptr=[33])\n",
            " - Batch 615: DataBatch(edge_index=[2, 1752], edge_attr=[1752, 3], x=[813, 9], y=[32, 1], num_nodes=813, batch=[813], ptr=[33])\n",
            " - Batch 616: DataBatch(edge_index=[2, 1700], edge_attr=[1700, 3], x=[795, 9], y=[32, 1], num_nodes=795, batch=[795], ptr=[33])\n",
            " - Batch 617: DataBatch(edge_index=[2, 1642], edge_attr=[1642, 3], x=[776, 9], y=[32, 1], num_nodes=776, batch=[776], ptr=[33])\n",
            " - Batch 618: DataBatch(edge_index=[2, 1742], edge_attr=[1742, 3], x=[818, 9], y=[32, 1], num_nodes=818, batch=[818], ptr=[33])\n",
            " - Batch 619: DataBatch(edge_index=[2, 1616], edge_attr=[1616, 3], x=[756, 9], y=[32, 1], num_nodes=756, batch=[756], ptr=[33])\n",
            " - Batch 620: DataBatch(edge_index=[2, 1806], edge_attr=[1806, 3], x=[843, 9], y=[32, 1], num_nodes=843, batch=[843], ptr=[33])\n",
            " - Batch 621: DataBatch(edge_index=[2, 1654], edge_attr=[1654, 3], x=[770, 9], y=[32, 1], num_nodes=770, batch=[770], ptr=[33])\n",
            " - Batch 622: DataBatch(edge_index=[2, 1794], edge_attr=[1794, 3], x=[836, 9], y=[32, 1], num_nodes=836, batch=[836], ptr=[33])\n",
            " - Batch 623: DataBatch(edge_index=[2, 1664], edge_attr=[1664, 3], x=[773, 9], y=[32, 1], num_nodes=773, batch=[773], ptr=[33])\n",
            " - Batch 624: DataBatch(edge_index=[2, 1494], edge_attr=[1494, 3], x=[694, 9], y=[32, 1], num_nodes=694, batch=[694], ptr=[33])\n",
            " - Batch 625: DataBatch(edge_index=[2, 1702], edge_attr=[1702, 3], x=[801, 9], y=[32, 1], num_nodes=801, batch=[801], ptr=[33])\n",
            " - Batch 626: DataBatch(edge_index=[2, 1638], edge_attr=[1638, 3], x=[755, 9], y=[32, 1], num_nodes=755, batch=[755], ptr=[33])\n",
            " - Batch 627: DataBatch(edge_index=[2, 1770], edge_attr=[1770, 3], x=[833, 9], y=[32, 1], num_nodes=833, batch=[833], ptr=[33])\n",
            " - Batch 628: DataBatch(edge_index=[2, 1508], edge_attr=[1508, 3], x=[711, 9], y=[32, 1], num_nodes=711, batch=[711], ptr=[33])\n",
            " - Batch 629: DataBatch(edge_index=[2, 1808], edge_attr=[1808, 3], x=[833, 9], y=[32, 1], num_nodes=833, batch=[833], ptr=[33])\n",
            " - Batch 630: DataBatch(edge_index=[2, 2278], edge_attr=[2278, 3], x=[1065, 9], y=[32, 1], num_nodes=1065, batch=[1065], ptr=[33])\n",
            " - Batch 631: DataBatch(edge_index=[2, 1844], edge_attr=[1844, 3], x=[862, 9], y=[32, 1], num_nodes=862, batch=[862], ptr=[33])\n",
            " - Batch 632: DataBatch(edge_index=[2, 1624], edge_attr=[1624, 3], x=[766, 9], y=[32, 1], num_nodes=766, batch=[766], ptr=[33])\n",
            " - Batch 633: DataBatch(edge_index=[2, 1828], edge_attr=[1828, 3], x=[858, 9], y=[32, 1], num_nodes=858, batch=[858], ptr=[33])\n",
            " - Batch 634: DataBatch(edge_index=[2, 1640], edge_attr=[1640, 3], x=[768, 9], y=[32, 1], num_nodes=768, batch=[768], ptr=[33])\n",
            " - Batch 635: DataBatch(edge_index=[2, 1644], edge_attr=[1644, 3], x=[771, 9], y=[32, 1], num_nodes=771, batch=[771], ptr=[33])\n",
            " - Batch 636: DataBatch(edge_index=[2, 1950], edge_attr=[1950, 3], x=[906, 9], y=[32, 1], num_nodes=906, batch=[906], ptr=[33])\n",
            " - Batch 637: DataBatch(edge_index=[2, 1666], edge_attr=[1666, 3], x=[772, 9], y=[32, 1], num_nodes=772, batch=[772], ptr=[33])\n",
            " - Batch 638: DataBatch(edge_index=[2, 1756], edge_attr=[1756, 3], x=[825, 9], y=[32, 1], num_nodes=825, batch=[825], ptr=[33])\n",
            " - Batch 639: DataBatch(edge_index=[2, 1612], edge_attr=[1612, 3], x=[761, 9], y=[32, 1], num_nodes=761, batch=[761], ptr=[33])\n",
            " - Batch 640: DataBatch(edge_index=[2, 1822], edge_attr=[1822, 3], x=[846, 9], y=[32, 1], num_nodes=846, batch=[846], ptr=[33])\n",
            " - Batch 641: DataBatch(edge_index=[2, 1798], edge_attr=[1798, 3], x=[823, 9], y=[32, 1], num_nodes=823, batch=[823], ptr=[33])\n",
            " - Batch 642: DataBatch(edge_index=[2, 1722], edge_attr=[1722, 3], x=[803, 9], y=[32, 1], num_nodes=803, batch=[803], ptr=[33])\n",
            " - Batch 643: DataBatch(edge_index=[2, 1794], edge_attr=[1794, 3], x=[834, 9], y=[32, 1], num_nodes=834, batch=[834], ptr=[33])\n",
            " - Batch 644: DataBatch(edge_index=[2, 2138], edge_attr=[2138, 3], x=[964, 9], y=[32, 1], num_nodes=964, batch=[964], ptr=[33])\n",
            " - Batch 645: DataBatch(edge_index=[2, 1620], edge_attr=[1620, 3], x=[763, 9], y=[32, 1], num_nodes=763, batch=[763], ptr=[33])\n",
            " - Batch 646: DataBatch(edge_index=[2, 1734], edge_attr=[1734, 3], x=[813, 9], y=[32, 1], num_nodes=813, batch=[813], ptr=[33])\n",
            " - Batch 647: DataBatch(edge_index=[2, 1688], edge_attr=[1688, 3], x=[794, 9], y=[32, 1], num_nodes=794, batch=[794], ptr=[33])\n",
            " - Batch 648: DataBatch(edge_index=[2, 1888], edge_attr=[1888, 3], x=[876, 9], y=[32, 1], num_nodes=876, batch=[876], ptr=[33])\n",
            " - Batch 649: DataBatch(edge_index=[2, 1634], edge_attr=[1634, 3], x=[770, 9], y=[32, 1], num_nodes=770, batch=[770], ptr=[33])\n",
            " - Batch 650: DataBatch(edge_index=[2, 1604], edge_attr=[1604, 3], x=[746, 9], y=[32, 1], num_nodes=746, batch=[746], ptr=[33])\n",
            " - Batch 651: DataBatch(edge_index=[2, 1776], edge_attr=[1776, 3], x=[827, 9], y=[32, 1], num_nodes=827, batch=[827], ptr=[33])\n",
            " - Batch 652: DataBatch(edge_index=[2, 1638], edge_attr=[1638, 3], x=[760, 9], y=[32, 1], num_nodes=760, batch=[760], ptr=[33])\n",
            " - Batch 653: DataBatch(edge_index=[2, 1748], edge_attr=[1748, 3], x=[813, 9], y=[32, 1], num_nodes=813, batch=[813], ptr=[33])\n",
            " - Batch 654: DataBatch(edge_index=[2, 1834], edge_attr=[1834, 3], x=[857, 9], y=[32, 1], num_nodes=857, batch=[857], ptr=[33])\n",
            " - Batch 655: DataBatch(edge_index=[2, 1766], edge_attr=[1766, 3], x=[822, 9], y=[32, 1], num_nodes=822, batch=[822], ptr=[33])\n",
            " - Batch 656: DataBatch(edge_index=[2, 1708], edge_attr=[1708, 3], x=[795, 9], y=[32, 1], num_nodes=795, batch=[795], ptr=[33])\n",
            " - Batch 657: DataBatch(edge_index=[2, 1724], edge_attr=[1724, 3], x=[811, 9], y=[32, 1], num_nodes=811, batch=[811], ptr=[33])\n",
            " - Batch 658: DataBatch(edge_index=[2, 1890], edge_attr=[1890, 3], x=[885, 9], y=[32, 1], num_nodes=885, batch=[885], ptr=[33])\n",
            " - Batch 659: DataBatch(edge_index=[2, 1828], edge_attr=[1828, 3], x=[844, 9], y=[32, 1], num_nodes=844, batch=[844], ptr=[33])\n",
            " - Batch 660: DataBatch(edge_index=[2, 1604], edge_attr=[1604, 3], x=[754, 9], y=[32, 1], num_nodes=754, batch=[754], ptr=[33])\n",
            " - Batch 661: DataBatch(edge_index=[2, 2124], edge_attr=[2124, 3], x=[972, 9], y=[32, 1], num_nodes=972, batch=[972], ptr=[33])\n",
            " - Batch 662: DataBatch(edge_index=[2, 1722], edge_attr=[1722, 3], x=[807, 9], y=[32, 1], num_nodes=807, batch=[807], ptr=[33])\n",
            " - Batch 663: DataBatch(edge_index=[2, 1894], edge_attr=[1894, 3], x=[886, 9], y=[32, 1], num_nodes=886, batch=[886], ptr=[33])\n",
            " - Batch 664: DataBatch(edge_index=[2, 1990], edge_attr=[1990, 3], x=[914, 9], y=[32, 1], num_nodes=914, batch=[914], ptr=[33])\n",
            " - Batch 665: DataBatch(edge_index=[2, 1874], edge_attr=[1874, 3], x=[874, 9], y=[32, 1], num_nodes=874, batch=[874], ptr=[33])\n",
            " - Batch 666: DataBatch(edge_index=[2, 1674], edge_attr=[1674, 3], x=[793, 9], y=[32, 1], num_nodes=793, batch=[793], ptr=[33])\n",
            " - Batch 667: DataBatch(edge_index=[2, 1678], edge_attr=[1678, 3], x=[787, 9], y=[32, 1], num_nodes=787, batch=[787], ptr=[33])\n",
            " - Batch 668: DataBatch(edge_index=[2, 1768], edge_attr=[1768, 3], x=[822, 9], y=[32, 1], num_nodes=822, batch=[822], ptr=[33])\n",
            " - Batch 669: DataBatch(edge_index=[2, 1680], edge_attr=[1680, 3], x=[783, 9], y=[32, 1], num_nodes=783, batch=[783], ptr=[33])\n",
            " - Batch 670: DataBatch(edge_index=[2, 1616], edge_attr=[1616, 3], x=[762, 9], y=[32, 1], num_nodes=762, batch=[762], ptr=[33])\n",
            " - Batch 671: DataBatch(edge_index=[2, 1674], edge_attr=[1674, 3], x=[774, 9], y=[32, 1], num_nodes=774, batch=[774], ptr=[33])\n",
            " - Batch 672: DataBatch(edge_index=[2, 1824], edge_attr=[1824, 3], x=[853, 9], y=[32, 1], num_nodes=853, batch=[853], ptr=[33])\n",
            " - Batch 673: DataBatch(edge_index=[2, 1930], edge_attr=[1930, 3], x=[905, 9], y=[32, 1], num_nodes=905, batch=[905], ptr=[33])\n",
            " - Batch 674: DataBatch(edge_index=[2, 1766], edge_attr=[1766, 3], x=[818, 9], y=[32, 1], num_nodes=818, batch=[818], ptr=[33])\n",
            " - Batch 675: DataBatch(edge_index=[2, 1524], edge_attr=[1524, 3], x=[717, 9], y=[32, 1], num_nodes=717, batch=[717], ptr=[33])\n",
            " - Batch 676: DataBatch(edge_index=[2, 1480], edge_attr=[1480, 3], x=[694, 9], y=[32, 1], num_nodes=694, batch=[694], ptr=[33])\n",
            " - Batch 677: DataBatch(edge_index=[2, 1924], edge_attr=[1924, 3], x=[888, 9], y=[32, 1], num_nodes=888, batch=[888], ptr=[33])\n",
            " - Batch 678: DataBatch(edge_index=[2, 1666], edge_attr=[1666, 3], x=[779, 9], y=[32, 1], num_nodes=779, batch=[779], ptr=[33])\n",
            " - Batch 679: DataBatch(edge_index=[2, 1626], edge_attr=[1626, 3], x=[759, 9], y=[32, 1], num_nodes=759, batch=[759], ptr=[33])\n",
            " - Batch 680: DataBatch(edge_index=[2, 1674], edge_attr=[1674, 3], x=[778, 9], y=[32, 1], num_nodes=778, batch=[778], ptr=[33])\n",
            " - Batch 681: DataBatch(edge_index=[2, 1586], edge_attr=[1586, 3], x=[740, 9], y=[32, 1], num_nodes=740, batch=[740], ptr=[33])\n",
            " - Batch 682: DataBatch(edge_index=[2, 1748], edge_attr=[1748, 3], x=[810, 9], y=[32, 1], num_nodes=810, batch=[810], ptr=[33])\n",
            " - Batch 683: DataBatch(edge_index=[2, 1698], edge_attr=[1698, 3], x=[790, 9], y=[32, 1], num_nodes=790, batch=[790], ptr=[33])\n",
            " - Batch 684: DataBatch(edge_index=[2, 1790], edge_attr=[1790, 3], x=[828, 9], y=[32, 1], num_nodes=828, batch=[828], ptr=[33])\n",
            " - Batch 685: DataBatch(edge_index=[2, 1706], edge_attr=[1706, 3], x=[788, 9], y=[32, 1], num_nodes=788, batch=[788], ptr=[33])\n",
            " - Batch 686: DataBatch(edge_index=[2, 1872], edge_attr=[1872, 3], x=[874, 9], y=[32, 1], num_nodes=874, batch=[874], ptr=[33])\n",
            " - Batch 687: DataBatch(edge_index=[2, 1610], edge_attr=[1610, 3], x=[755, 9], y=[32, 1], num_nodes=755, batch=[755], ptr=[33])\n",
            " - Batch 688: DataBatch(edge_index=[2, 1830], edge_attr=[1830, 3], x=[851, 9], y=[32, 1], num_nodes=851, batch=[851], ptr=[33])\n",
            " - Batch 689: DataBatch(edge_index=[2, 1810], edge_attr=[1810, 3], x=[844, 9], y=[32, 1], num_nodes=844, batch=[844], ptr=[33])\n",
            " - Batch 690: DataBatch(edge_index=[2, 1732], edge_attr=[1732, 3], x=[816, 9], y=[32, 1], num_nodes=816, batch=[816], ptr=[33])\n",
            " - Batch 691: DataBatch(edge_index=[2, 1732], edge_attr=[1732, 3], x=[806, 9], y=[32, 1], num_nodes=806, batch=[806], ptr=[33])\n",
            " - Batch 692: DataBatch(edge_index=[2, 1796], edge_attr=[1796, 3], x=[835, 9], y=[32, 1], num_nodes=835, batch=[835], ptr=[33])\n",
            " - Batch 693: DataBatch(edge_index=[2, 1614], edge_attr=[1614, 3], x=[752, 9], y=[32, 1], num_nodes=752, batch=[752], ptr=[33])\n",
            " - Batch 694: DataBatch(edge_index=[2, 1514], edge_attr=[1514, 3], x=[712, 9], y=[32, 1], num_nodes=712, batch=[712], ptr=[33])\n",
            " - Batch 695: DataBatch(edge_index=[2, 2106], edge_attr=[2106, 3], x=[997, 9], y=[32, 1], num_nodes=997, batch=[997], ptr=[33])\n",
            " - Batch 696: DataBatch(edge_index=[2, 1694], edge_attr=[1694, 3], x=[791, 9], y=[32, 1], num_nodes=791, batch=[791], ptr=[33])\n",
            " - Batch 697: DataBatch(edge_index=[2, 1840], edge_attr=[1840, 3], x=[862, 9], y=[32, 1], num_nodes=862, batch=[862], ptr=[33])\n",
            " - Batch 698: DataBatch(edge_index=[2, 1666], edge_attr=[1666, 3], x=[788, 9], y=[32, 1], num_nodes=788, batch=[788], ptr=[33])\n",
            " - Batch 699: DataBatch(edge_index=[2, 1576], edge_attr=[1576, 3], x=[744, 9], y=[32, 1], num_nodes=744, batch=[744], ptr=[33])\n",
            " - Batch 700: DataBatch(edge_index=[2, 1686], edge_attr=[1686, 3], x=[785, 9], y=[32, 1], num_nodes=785, batch=[785], ptr=[33])\n",
            " - Batch 701: DataBatch(edge_index=[2, 1712], edge_attr=[1712, 3], x=[796, 9], y=[32, 1], num_nodes=796, batch=[796], ptr=[33])\n",
            " - Batch 702: DataBatch(edge_index=[2, 1426], edge_attr=[1426, 3], x=[672, 9], y=[32, 1], num_nodes=672, batch=[672], ptr=[33])\n",
            " - Batch 703: DataBatch(edge_index=[2, 1646], edge_attr=[1646, 3], x=[769, 9], y=[32, 1], num_nodes=769, batch=[769], ptr=[33])\n",
            " - Batch 704: DataBatch(edge_index=[2, 1752], edge_attr=[1752, 3], x=[824, 9], y=[32, 1], num_nodes=824, batch=[824], ptr=[33])\n",
            " - Batch 705: DataBatch(edge_index=[2, 1900], edge_attr=[1900, 3], x=[878, 9], y=[32, 1], num_nodes=878, batch=[878], ptr=[33])\n",
            " - Batch 706: DataBatch(edge_index=[2, 1636], edge_attr=[1636, 3], x=[763, 9], y=[32, 1], num_nodes=763, batch=[763], ptr=[33])\n",
            " - Batch 707: DataBatch(edge_index=[2, 1796], edge_attr=[1796, 3], x=[831, 9], y=[32, 1], num_nodes=831, batch=[831], ptr=[33])\n",
            " - Batch 708: DataBatch(edge_index=[2, 1674], edge_attr=[1674, 3], x=[776, 9], y=[32, 1], num_nodes=776, batch=[776], ptr=[33])\n",
            " - Batch 709: DataBatch(edge_index=[2, 1598], edge_attr=[1598, 3], x=[751, 9], y=[32, 1], num_nodes=751, batch=[751], ptr=[33])\n",
            " - Batch 710: DataBatch(edge_index=[2, 1948], edge_attr=[1948, 3], x=[908, 9], y=[32, 1], num_nodes=908, batch=[908], ptr=[33])\n",
            " - Batch 711: DataBatch(edge_index=[2, 1678], edge_attr=[1678, 3], x=[790, 9], y=[32, 1], num_nodes=790, batch=[790], ptr=[33])\n",
            " - Batch 712: DataBatch(edge_index=[2, 1620], edge_attr=[1620, 3], x=[754, 9], y=[32, 1], num_nodes=754, batch=[754], ptr=[33])\n",
            " - Batch 713: DataBatch(edge_index=[2, 1924], edge_attr=[1924, 3], x=[904, 9], y=[32, 1], num_nodes=904, batch=[904], ptr=[33])\n",
            " - Batch 714: DataBatch(edge_index=[2, 1712], edge_attr=[1712, 3], x=[802, 9], y=[32, 1], num_nodes=802, batch=[802], ptr=[33])\n",
            " - Batch 715: DataBatch(edge_index=[2, 1716], edge_attr=[1716, 3], x=[802, 9], y=[32, 1], num_nodes=802, batch=[802], ptr=[33])\n",
            " - Batch 716: DataBatch(edge_index=[2, 1780], edge_attr=[1780, 3], x=[831, 9], y=[32, 1], num_nodes=831, batch=[831], ptr=[33])\n",
            " - Batch 717: DataBatch(edge_index=[2, 1918], edge_attr=[1918, 3], x=[891, 9], y=[32, 1], num_nodes=891, batch=[891], ptr=[33])\n",
            " - Batch 718: DataBatch(edge_index=[2, 1718], edge_attr=[1718, 3], x=[802, 9], y=[32, 1], num_nodes=802, batch=[802], ptr=[33])\n",
            " - Batch 719: DataBatch(edge_index=[2, 1796], edge_attr=[1796, 3], x=[840, 9], y=[32, 1], num_nodes=840, batch=[840], ptr=[33])\n",
            " - Batch 720: DataBatch(edge_index=[2, 1630], edge_attr=[1630, 3], x=[783, 9], y=[32, 1], num_nodes=783, batch=[783], ptr=[33])\n",
            " - Batch 721: DataBatch(edge_index=[2, 1740], edge_attr=[1740, 3], x=[813, 9], y=[32, 1], num_nodes=813, batch=[813], ptr=[33])\n",
            " - Batch 722: DataBatch(edge_index=[2, 1664], edge_attr=[1664, 3], x=[767, 9], y=[32, 1], num_nodes=767, batch=[767], ptr=[33])\n",
            " - Batch 723: DataBatch(edge_index=[2, 1766], edge_attr=[1766, 3], x=[826, 9], y=[32, 1], num_nodes=826, batch=[826], ptr=[33])\n",
            " - Batch 724: DataBatch(edge_index=[2, 1464], edge_attr=[1464, 3], x=[690, 9], y=[32, 1], num_nodes=690, batch=[690], ptr=[33])\n",
            " - Batch 725: DataBatch(edge_index=[2, 2234], edge_attr=[2234, 3], x=[1055, 9], y=[32, 1], num_nodes=1055, batch=[1055], ptr=[33])\n",
            " - Batch 726: DataBatch(edge_index=[2, 1656], edge_attr=[1656, 3], x=[770, 9], y=[32, 1], num_nodes=770, batch=[770], ptr=[33])\n",
            " - Batch 727: DataBatch(edge_index=[2, 1724], edge_attr=[1724, 3], x=[809, 9], y=[32, 1], num_nodes=809, batch=[809], ptr=[33])\n",
            " - Batch 728: DataBatch(edge_index=[2, 1628], edge_attr=[1628, 3], x=[762, 9], y=[32, 1], num_nodes=762, batch=[762], ptr=[33])\n",
            " - Batch 729: DataBatch(edge_index=[2, 1824], edge_attr=[1824, 3], x=[856, 9], y=[32, 1], num_nodes=856, batch=[856], ptr=[33])\n",
            " - Batch 730: DataBatch(edge_index=[2, 1780], edge_attr=[1780, 3], x=[832, 9], y=[32, 1], num_nodes=832, batch=[832], ptr=[33])\n",
            " - Batch 731: DataBatch(edge_index=[2, 1892], edge_attr=[1892, 3], x=[891, 9], y=[32, 1], num_nodes=891, batch=[891], ptr=[33])\n",
            " - Batch 732: DataBatch(edge_index=[2, 1652], edge_attr=[1652, 3], x=[767, 9], y=[32, 1], num_nodes=767, batch=[767], ptr=[33])\n",
            " - Batch 733: DataBatch(edge_index=[2, 1510], edge_attr=[1510, 3], x=[704, 9], y=[32, 1], num_nodes=704, batch=[704], ptr=[33])\n",
            " - Batch 734: DataBatch(edge_index=[2, 1730], edge_attr=[1730, 3], x=[802, 9], y=[32, 1], num_nodes=802, batch=[802], ptr=[33])\n",
            " - Batch 735: DataBatch(edge_index=[2, 1666], edge_attr=[1666, 3], x=[773, 9], y=[32, 1], num_nodes=773, batch=[773], ptr=[33])\n",
            " - Batch 736: DataBatch(edge_index=[2, 1572], edge_attr=[1572, 3], x=[741, 9], y=[32, 1], num_nodes=741, batch=[741], ptr=[33])\n",
            " - Batch 737: DataBatch(edge_index=[2, 1416], edge_attr=[1416, 3], x=[662, 9], y=[32, 1], num_nodes=662, batch=[662], ptr=[33])\n",
            " - Batch 738: DataBatch(edge_index=[2, 2558], edge_attr=[2558, 3], x=[1203, 9], y=[32, 1], num_nodes=1203, batch=[1203], ptr=[33])\n",
            " - Batch 739: DataBatch(edge_index=[2, 1548], edge_attr=[1548, 3], x=[722, 9], y=[32, 1], num_nodes=722, batch=[722], ptr=[33])\n",
            " - Batch 740: DataBatch(edge_index=[2, 1752], edge_attr=[1752, 3], x=[822, 9], y=[32, 1], num_nodes=822, batch=[822], ptr=[33])\n",
            " - Batch 741: DataBatch(edge_index=[2, 1702], edge_attr=[1702, 3], x=[807, 9], y=[32, 1], num_nodes=807, batch=[807], ptr=[33])\n",
            " - Batch 742: DataBatch(edge_index=[2, 1754], edge_attr=[1754, 3], x=[811, 9], y=[32, 1], num_nodes=811, batch=[811], ptr=[33])\n",
            " - Batch 743: DataBatch(edge_index=[2, 1946], edge_attr=[1946, 3], x=[903, 9], y=[32, 1], num_nodes=903, batch=[903], ptr=[33])\n",
            " - Batch 744: DataBatch(edge_index=[2, 1922], edge_attr=[1922, 3], x=[896, 9], y=[32, 1], num_nodes=896, batch=[896], ptr=[33])\n",
            " - Batch 745: DataBatch(edge_index=[2, 1590], edge_attr=[1590, 3], x=[732, 9], y=[32, 1], num_nodes=732, batch=[732], ptr=[33])\n",
            " - Batch 746: DataBatch(edge_index=[2, 1454], edge_attr=[1454, 3], x=[686, 9], y=[32, 1], num_nodes=686, batch=[686], ptr=[33])\n",
            " - Batch 747: DataBatch(edge_index=[2, 1950], edge_attr=[1950, 3], x=[914, 9], y=[32, 1], num_nodes=914, batch=[914], ptr=[33])\n",
            " - Batch 748: DataBatch(edge_index=[2, 1682], edge_attr=[1682, 3], x=[777, 9], y=[32, 1], num_nodes=777, batch=[777], ptr=[33])\n",
            " - Batch 749: DataBatch(edge_index=[2, 1504], edge_attr=[1504, 3], x=[705, 9], y=[32, 1], num_nodes=705, batch=[705], ptr=[33])\n",
            " - Batch 750: DataBatch(edge_index=[2, 1794], edge_attr=[1794, 3], x=[834, 9], y=[32, 1], num_nodes=834, batch=[834], ptr=[33])\n",
            " - Batch 751: DataBatch(edge_index=[2, 1814], edge_attr=[1814, 3], x=[854, 9], y=[32, 1], num_nodes=854, batch=[854], ptr=[33])\n",
            " - Batch 752: DataBatch(edge_index=[2, 1872], edge_attr=[1872, 3], x=[868, 9], y=[32, 1], num_nodes=868, batch=[868], ptr=[33])\n",
            " - Batch 753: DataBatch(edge_index=[2, 1634], edge_attr=[1634, 3], x=[768, 9], y=[32, 1], num_nodes=768, batch=[768], ptr=[33])\n",
            " - Batch 754: DataBatch(edge_index=[2, 1522], edge_attr=[1522, 3], x=[713, 9], y=[32, 1], num_nodes=713, batch=[713], ptr=[33])\n",
            " - Batch 755: DataBatch(edge_index=[2, 1704], edge_attr=[1704, 3], x=[787, 9], y=[32, 1], num_nodes=787, batch=[787], ptr=[33])\n",
            " - Batch 756: DataBatch(edge_index=[2, 1476], edge_attr=[1476, 3], x=[710, 9], y=[32, 1], num_nodes=710, batch=[710], ptr=[33])\n",
            " - Batch 757: DataBatch(edge_index=[2, 1602], edge_attr=[1602, 3], x=[737, 9], y=[32, 1], num_nodes=737, batch=[737], ptr=[33])\n",
            " - Batch 758: DataBatch(edge_index=[2, 1850], edge_attr=[1850, 3], x=[875, 9], y=[32, 1], num_nodes=875, batch=[875], ptr=[33])\n",
            " - Batch 759: DataBatch(edge_index=[2, 1550], edge_attr=[1550, 3], x=[731, 9], y=[32, 1], num_nodes=731, batch=[731], ptr=[33])\n",
            " - Batch 760: DataBatch(edge_index=[2, 1868], edge_attr=[1868, 3], x=[865, 9], y=[32, 1], num_nodes=865, batch=[865], ptr=[33])\n",
            " - Batch 761: DataBatch(edge_index=[2, 1732], edge_attr=[1732, 3], x=[806, 9], y=[32, 1], num_nodes=806, batch=[806], ptr=[33])\n",
            " - Batch 762: DataBatch(edge_index=[2, 1478], edge_attr=[1478, 3], x=[695, 9], y=[32, 1], num_nodes=695, batch=[695], ptr=[33])\n",
            " - Batch 763: DataBatch(edge_index=[2, 2062], edge_attr=[2062, 3], x=[949, 9], y=[32, 1], num_nodes=949, batch=[949], ptr=[33])\n",
            " - Batch 764: DataBatch(edge_index=[2, 1734], edge_attr=[1734, 3], x=[812, 9], y=[32, 1], num_nodes=812, batch=[812], ptr=[33])\n",
            " - Batch 765: DataBatch(edge_index=[2, 2030], edge_attr=[2030, 3], x=[949, 9], y=[32, 1], num_nodes=949, batch=[949], ptr=[33])\n",
            " - Batch 766: DataBatch(edge_index=[2, 1608], edge_attr=[1608, 3], x=[755, 9], y=[32, 1], num_nodes=755, batch=[755], ptr=[33])\n",
            " - Batch 767: DataBatch(edge_index=[2, 1822], edge_attr=[1822, 3], x=[850, 9], y=[32, 1], num_nodes=850, batch=[850], ptr=[33])\n",
            " - Batch 768: DataBatch(edge_index=[2, 1518], edge_attr=[1518, 3], x=[713, 9], y=[32, 1], num_nodes=713, batch=[713], ptr=[33])\n",
            " - Batch 769: DataBatch(edge_index=[2, 1762], edge_attr=[1762, 3], x=[824, 9], y=[32, 1], num_nodes=824, batch=[824], ptr=[33])\n",
            " - Batch 770: DataBatch(edge_index=[2, 1684], edge_attr=[1684, 3], x=[791, 9], y=[32, 1], num_nodes=791, batch=[791], ptr=[33])\n",
            " - Batch 771: DataBatch(edge_index=[2, 1832], edge_attr=[1832, 3], x=[868, 9], y=[32, 1], num_nodes=868, batch=[868], ptr=[33])\n",
            " - Batch 772: DataBatch(edge_index=[2, 1868], edge_attr=[1868, 3], x=[867, 9], y=[32, 1], num_nodes=867, batch=[867], ptr=[33])\n",
            " - Batch 773: DataBatch(edge_index=[2, 1768], edge_attr=[1768, 3], x=[816, 9], y=[32, 1], num_nodes=816, batch=[816], ptr=[33])\n",
            " - Batch 774: DataBatch(edge_index=[2, 1690], edge_attr=[1690, 3], x=[784, 9], y=[32, 1], num_nodes=784, batch=[784], ptr=[33])\n",
            " - Batch 775: DataBatch(edge_index=[2, 1866], edge_attr=[1866, 3], x=[872, 9], y=[32, 1], num_nodes=872, batch=[872], ptr=[33])\n",
            " - Batch 776: DataBatch(edge_index=[2, 1902], edge_attr=[1902, 3], x=[893, 9], y=[32, 1], num_nodes=893, batch=[893], ptr=[33])\n",
            " - Batch 777: DataBatch(edge_index=[2, 1652], edge_attr=[1652, 3], x=[762, 9], y=[32, 1], num_nodes=762, batch=[762], ptr=[33])\n",
            " - Batch 778: DataBatch(edge_index=[2, 1754], edge_attr=[1754, 3], x=[822, 9], y=[32, 1], num_nodes=822, batch=[822], ptr=[33])\n",
            " - Batch 779: DataBatch(edge_index=[2, 1840], edge_attr=[1840, 3], x=[860, 9], y=[32, 1], num_nodes=860, batch=[860], ptr=[33])\n",
            " - Batch 780: DataBatch(edge_index=[2, 1654], edge_attr=[1654, 3], x=[767, 9], y=[32, 1], num_nodes=767, batch=[767], ptr=[33])\n",
            " - Batch 781: DataBatch(edge_index=[2, 1708], edge_attr=[1708, 3], x=[794, 9], y=[32, 1], num_nodes=794, batch=[794], ptr=[33])\n",
            " - Batch 782: DataBatch(edge_index=[2, 1738], edge_attr=[1738, 3], x=[815, 9], y=[32, 1], num_nodes=815, batch=[815], ptr=[33])\n",
            " - Batch 783: DataBatch(edge_index=[2, 1848], edge_attr=[1848, 3], x=[858, 9], y=[32, 1], num_nodes=858, batch=[858], ptr=[33])\n",
            " - Batch 784: DataBatch(edge_index=[2, 1646], edge_attr=[1646, 3], x=[771, 9], y=[32, 1], num_nodes=771, batch=[771], ptr=[33])\n",
            " - Batch 785: DataBatch(edge_index=[2, 1718], edge_attr=[1718, 3], x=[807, 9], y=[32, 1], num_nodes=807, batch=[807], ptr=[33])\n",
            " - Batch 786: DataBatch(edge_index=[2, 1556], edge_attr=[1556, 3], x=[731, 9], y=[32, 1], num_nodes=731, batch=[731], ptr=[33])\n",
            " - Batch 787: DataBatch(edge_index=[2, 1740], edge_attr=[1740, 3], x=[816, 9], y=[32, 1], num_nodes=816, batch=[816], ptr=[33])\n",
            " - Batch 788: DataBatch(edge_index=[2, 1954], edge_attr=[1954, 3], x=[919, 9], y=[32, 1], num_nodes=919, batch=[919], ptr=[33])\n",
            " - Batch 789: DataBatch(edge_index=[2, 1620], edge_attr=[1620, 3], x=[754, 9], y=[32, 1], num_nodes=754, batch=[754], ptr=[33])\n",
            " - Batch 790: DataBatch(edge_index=[2, 1886], edge_attr=[1886, 3], x=[879, 9], y=[32, 1], num_nodes=879, batch=[879], ptr=[33])\n",
            " - Batch 791: DataBatch(edge_index=[2, 1796], edge_attr=[1796, 3], x=[839, 9], y=[32, 1], num_nodes=839, batch=[839], ptr=[33])\n",
            " - Batch 792: DataBatch(edge_index=[2, 2128], edge_attr=[2128, 3], x=[987, 9], y=[32, 1], num_nodes=987, batch=[987], ptr=[33])\n",
            " - Batch 793: DataBatch(edge_index=[2, 1860], edge_attr=[1860, 3], x=[860, 9], y=[32, 1], num_nodes=860, batch=[860], ptr=[33])\n",
            " - Batch 794: DataBatch(edge_index=[2, 1468], edge_attr=[1468, 3], x=[681, 9], y=[32, 1], num_nodes=681, batch=[681], ptr=[33])\n",
            " - Batch 795: DataBatch(edge_index=[2, 1894], edge_attr=[1894, 3], x=[889, 9], y=[32, 1], num_nodes=889, batch=[889], ptr=[33])\n",
            " - Batch 796: DataBatch(edge_index=[2, 1634], edge_attr=[1634, 3], x=[756, 9], y=[32, 1], num_nodes=756, batch=[756], ptr=[33])\n",
            " - Batch 797: DataBatch(edge_index=[2, 1474], edge_attr=[1474, 3], x=[691, 9], y=[32, 1], num_nodes=691, batch=[691], ptr=[33])\n",
            " - Batch 798: DataBatch(edge_index=[2, 2060], edge_attr=[2060, 3], x=[968, 9], y=[32, 1], num_nodes=968, batch=[968], ptr=[33])\n",
            " - Batch 799: DataBatch(edge_index=[2, 1532], edge_attr=[1532, 3], x=[704, 9], y=[32, 1], num_nodes=704, batch=[704], ptr=[33])\n",
            " - Batch 800: DataBatch(edge_index=[2, 1660], edge_attr=[1660, 3], x=[777, 9], y=[32, 1], num_nodes=777, batch=[777], ptr=[33])\n",
            " - Batch 801: DataBatch(edge_index=[2, 1796], edge_attr=[1796, 3], x=[830, 9], y=[32, 1], num_nodes=830, batch=[830], ptr=[33])\n",
            " - Batch 802: DataBatch(edge_index=[2, 1770], edge_attr=[1770, 3], x=[826, 9], y=[32, 1], num_nodes=826, batch=[826], ptr=[33])\n",
            " - Batch 803: DataBatch(edge_index=[2, 1522], edge_attr=[1522, 3], x=[712, 9], y=[32, 1], num_nodes=712, batch=[712], ptr=[33])\n",
            " - Batch 804: DataBatch(edge_index=[2, 1710], edge_attr=[1710, 3], x=[793, 9], y=[32, 1], num_nodes=793, batch=[793], ptr=[33])\n",
            " - Batch 805: DataBatch(edge_index=[2, 1652], edge_attr=[1652, 3], x=[777, 9], y=[32, 1], num_nodes=777, batch=[777], ptr=[33])\n",
            " - Batch 806: DataBatch(edge_index=[2, 1706], edge_attr=[1706, 3], x=[799, 9], y=[32, 1], num_nodes=799, batch=[799], ptr=[33])\n",
            " - Batch 807: DataBatch(edge_index=[2, 2036], edge_attr=[2036, 3], x=[952, 9], y=[32, 1], num_nodes=952, batch=[952], ptr=[33])\n",
            " - Batch 808: DataBatch(edge_index=[2, 1868], edge_attr=[1868, 3], x=[873, 9], y=[32, 1], num_nodes=873, batch=[873], ptr=[33])\n",
            " - Batch 809: DataBatch(edge_index=[2, 1578], edge_attr=[1578, 3], x=[737, 9], y=[32, 1], num_nodes=737, batch=[737], ptr=[33])\n",
            " - Batch 810: DataBatch(edge_index=[2, 1862], edge_attr=[1862, 3], x=[858, 9], y=[32, 1], num_nodes=858, batch=[858], ptr=[33])\n",
            " - Batch 811: DataBatch(edge_index=[2, 1790], edge_attr=[1790, 3], x=[829, 9], y=[32, 1], num_nodes=829, batch=[829], ptr=[33])\n",
            " - Batch 812: DataBatch(edge_index=[2, 1790], edge_attr=[1790, 3], x=[820, 9], y=[32, 1], num_nodes=820, batch=[820], ptr=[33])\n",
            " - Batch 813: DataBatch(edge_index=[2, 1744], edge_attr=[1744, 3], x=[808, 9], y=[32, 1], num_nodes=808, batch=[808], ptr=[33])\n",
            " - Batch 814: DataBatch(edge_index=[2, 1744], edge_attr=[1744, 3], x=[821, 9], y=[32, 1], num_nodes=821, batch=[821], ptr=[33])\n",
            " - Batch 815: DataBatch(edge_index=[2, 1788], edge_attr=[1788, 3], x=[832, 9], y=[32, 1], num_nodes=832, batch=[832], ptr=[33])\n",
            " - Batch 816: DataBatch(edge_index=[2, 1748], edge_attr=[1748, 3], x=[819, 9], y=[32, 1], num_nodes=819, batch=[819], ptr=[33])\n",
            " - Batch 817: DataBatch(edge_index=[2, 1690], edge_attr=[1690, 3], x=[790, 9], y=[32, 1], num_nodes=790, batch=[790], ptr=[33])\n",
            " - Batch 818: DataBatch(edge_index=[2, 1746], edge_attr=[1746, 3], x=[820, 9], y=[32, 1], num_nodes=820, batch=[820], ptr=[33])\n",
            " - Batch 819: DataBatch(edge_index=[2, 1772], edge_attr=[1772, 3], x=[827, 9], y=[32, 1], num_nodes=827, batch=[827], ptr=[33])\n",
            " - Batch 820: DataBatch(edge_index=[2, 1644], edge_attr=[1644, 3], x=[767, 9], y=[32, 1], num_nodes=767, batch=[767], ptr=[33])\n",
            " - Batch 821: DataBatch(edge_index=[2, 1714], edge_attr=[1714, 3], x=[795, 9], y=[32, 1], num_nodes=795, batch=[795], ptr=[33])\n",
            " - Batch 822: DataBatch(edge_index=[2, 1590], edge_attr=[1590, 3], x=[746, 9], y=[32, 1], num_nodes=746, batch=[746], ptr=[33])\n",
            " - Batch 823: DataBatch(edge_index=[2, 1784], edge_attr=[1784, 3], x=[840, 9], y=[32, 1], num_nodes=840, batch=[840], ptr=[33])\n",
            " - Batch 824: DataBatch(edge_index=[2, 1770], edge_attr=[1770, 3], x=[821, 9], y=[32, 1], num_nodes=821, batch=[821], ptr=[33])\n",
            " - Batch 825: DataBatch(edge_index=[2, 1616], edge_attr=[1616, 3], x=[752, 9], y=[32, 1], num_nodes=752, batch=[752], ptr=[33])\n",
            " - Batch 826: DataBatch(edge_index=[2, 1744], edge_attr=[1744, 3], x=[820, 9], y=[32, 1], num_nodes=820, batch=[820], ptr=[33])\n",
            " - Batch 827: DataBatch(edge_index=[2, 1834], edge_attr=[1834, 3], x=[853, 9], y=[32, 1], num_nodes=853, batch=[853], ptr=[33])\n",
            " - Batch 828: DataBatch(edge_index=[2, 1802], edge_attr=[1802, 3], x=[840, 9], y=[32, 1], num_nodes=840, batch=[840], ptr=[33])\n",
            " - Batch 829: DataBatch(edge_index=[2, 1790], edge_attr=[1790, 3], x=[852, 9], y=[32, 1], num_nodes=852, batch=[852], ptr=[33])\n",
            " - Batch 830: DataBatch(edge_index=[2, 1682], edge_attr=[1682, 3], x=[788, 9], y=[32, 1], num_nodes=788, batch=[788], ptr=[33])\n",
            " - Batch 831: DataBatch(edge_index=[2, 1770], edge_attr=[1770, 3], x=[822, 9], y=[32, 1], num_nodes=822, batch=[822], ptr=[33])\n",
            " - Batch 832: DataBatch(edge_index=[2, 1776], edge_attr=[1776, 3], x=[844, 9], y=[32, 1], num_nodes=844, batch=[844], ptr=[33])\n",
            " - Batch 833: DataBatch(edge_index=[2, 1706], edge_attr=[1706, 3], x=[804, 9], y=[32, 1], num_nodes=804, batch=[804], ptr=[33])\n",
            " - Batch 834: DataBatch(edge_index=[2, 1700], edge_attr=[1700, 3], x=[797, 9], y=[32, 1], num_nodes=797, batch=[797], ptr=[33])\n",
            " - Batch 835: DataBatch(edge_index=[2, 1690], edge_attr=[1690, 3], x=[785, 9], y=[32, 1], num_nodes=785, batch=[785], ptr=[33])\n",
            " - Batch 836: DataBatch(edge_index=[2, 1542], edge_attr=[1542, 3], x=[721, 9], y=[32, 1], num_nodes=721, batch=[721], ptr=[33])\n",
            " - Batch 837: DataBatch(edge_index=[2, 1626], edge_attr=[1626, 3], x=[744, 9], y=[32, 1], num_nodes=744, batch=[744], ptr=[33])\n",
            " - Batch 838: DataBatch(edge_index=[2, 1734], edge_attr=[1734, 3], x=[804, 9], y=[32, 1], num_nodes=804, batch=[804], ptr=[33])\n",
            " - Batch 839: DataBatch(edge_index=[2, 1742], edge_attr=[1742, 3], x=[814, 9], y=[32, 1], num_nodes=814, batch=[814], ptr=[33])\n",
            " - Batch 840: DataBatch(edge_index=[2, 1506], edge_attr=[1506, 3], x=[712, 9], y=[32, 1], num_nodes=712, batch=[712], ptr=[33])\n",
            " - Batch 841: DataBatch(edge_index=[2, 1588], edge_attr=[1588, 3], x=[749, 9], y=[32, 1], num_nodes=749, batch=[749], ptr=[33])\n",
            " - Batch 842: DataBatch(edge_index=[2, 1904], edge_attr=[1904, 3], x=[889, 9], y=[32, 1], num_nodes=889, batch=[889], ptr=[33])\n",
            " - Batch 843: DataBatch(edge_index=[2, 1578], edge_attr=[1578, 3], x=[743, 9], y=[32, 1], num_nodes=743, batch=[743], ptr=[33])\n",
            " - Batch 844: DataBatch(edge_index=[2, 1866], edge_attr=[1866, 3], x=[854, 9], y=[32, 1], num_nodes=854, batch=[854], ptr=[33])\n",
            " - Batch 845: DataBatch(edge_index=[2, 1742], edge_attr=[1742, 3], x=[822, 9], y=[32, 1], num_nodes=822, batch=[822], ptr=[33])\n",
            " - Batch 846: DataBatch(edge_index=[2, 1636], edge_attr=[1636, 3], x=[764, 9], y=[32, 1], num_nodes=764, batch=[764], ptr=[33])\n",
            " - Batch 847: DataBatch(edge_index=[2, 2026], edge_attr=[2026, 3], x=[951, 9], y=[32, 1], num_nodes=951, batch=[951], ptr=[33])\n",
            " - Batch 848: DataBatch(edge_index=[2, 1776], edge_attr=[1776, 3], x=[830, 9], y=[32, 1], num_nodes=830, batch=[830], ptr=[33])\n",
            " - Batch 849: DataBatch(edge_index=[2, 1884], edge_attr=[1884, 3], x=[881, 9], y=[32, 1], num_nodes=881, batch=[881], ptr=[33])\n",
            " - Batch 850: DataBatch(edge_index=[2, 1914], edge_attr=[1914, 3], x=[891, 9], y=[32, 1], num_nodes=891, batch=[891], ptr=[33])\n",
            " - Batch 851: DataBatch(edge_index=[2, 1514], edge_attr=[1514, 3], x=[714, 9], y=[32, 1], num_nodes=714, batch=[714], ptr=[33])\n",
            " - Batch 852: DataBatch(edge_index=[2, 1796], edge_attr=[1796, 3], x=[828, 9], y=[32, 1], num_nodes=828, batch=[828], ptr=[33])\n",
            " - Batch 853: DataBatch(edge_index=[2, 1656], edge_attr=[1656, 3], x=[785, 9], y=[32, 1], num_nodes=785, batch=[785], ptr=[33])\n",
            " - Batch 854: DataBatch(edge_index=[2, 1528], edge_attr=[1528, 3], x=[718, 9], y=[32, 1], num_nodes=718, batch=[718], ptr=[33])\n",
            " - Batch 855: DataBatch(edge_index=[2, 1494], edge_attr=[1494, 3], x=[706, 9], y=[32, 1], num_nodes=706, batch=[706], ptr=[33])\n",
            " - Batch 856: DataBatch(edge_index=[2, 1528], edge_attr=[1528, 3], x=[731, 9], y=[32, 1], num_nodes=731, batch=[731], ptr=[33])\n",
            " - Batch 857: DataBatch(edge_index=[2, 1776], edge_attr=[1776, 3], x=[845, 9], y=[32, 1], num_nodes=845, batch=[845], ptr=[33])\n",
            " - Batch 858: DataBatch(edge_index=[2, 1780], edge_attr=[1780, 3], x=[834, 9], y=[32, 1], num_nodes=834, batch=[834], ptr=[33])\n",
            " - Batch 859: DataBatch(edge_index=[2, 1762], edge_attr=[1762, 3], x=[808, 9], y=[32, 1], num_nodes=808, batch=[808], ptr=[33])\n",
            " - Batch 860: DataBatch(edge_index=[2, 1816], edge_attr=[1816, 3], x=[849, 9], y=[32, 1], num_nodes=849, batch=[849], ptr=[33])\n",
            " - Batch 861: DataBatch(edge_index=[2, 1604], edge_attr=[1604, 3], x=[744, 9], y=[32, 1], num_nodes=744, batch=[744], ptr=[33])\n",
            " - Batch 862: DataBatch(edge_index=[2, 1706], edge_attr=[1706, 3], x=[802, 9], y=[32, 1], num_nodes=802, batch=[802], ptr=[33])\n",
            " - Batch 863: DataBatch(edge_index=[2, 1992], edge_attr=[1992, 3], x=[924, 9], y=[32, 1], num_nodes=924, batch=[924], ptr=[33])\n",
            " - Batch 864: DataBatch(edge_index=[2, 1804], edge_attr=[1804, 3], x=[845, 9], y=[32, 1], num_nodes=845, batch=[845], ptr=[33])\n",
            " - Batch 865: DataBatch(edge_index=[2, 1718], edge_attr=[1718, 3], x=[786, 9], y=[32, 1], num_nodes=786, batch=[786], ptr=[33])\n",
            " - Batch 866: DataBatch(edge_index=[2, 1846], edge_attr=[1846, 3], x=[849, 9], y=[32, 1], num_nodes=849, batch=[849], ptr=[33])\n",
            " - Batch 867: DataBatch(edge_index=[2, 1884], edge_attr=[1884, 3], x=[870, 9], y=[32, 1], num_nodes=870, batch=[870], ptr=[33])\n",
            " - Batch 868: DataBatch(edge_index=[2, 1716], edge_attr=[1716, 3], x=[814, 9], y=[32, 1], num_nodes=814, batch=[814], ptr=[33])\n",
            " - Batch 869: DataBatch(edge_index=[2, 1824], edge_attr=[1824, 3], x=[855, 9], y=[32, 1], num_nodes=855, batch=[855], ptr=[33])\n",
            " - Batch 870: DataBatch(edge_index=[2, 1718], edge_attr=[1718, 3], x=[804, 9], y=[32, 1], num_nodes=804, batch=[804], ptr=[33])\n",
            " - Batch 871: DataBatch(edge_index=[2, 2246], edge_attr=[2246, 3], x=[1042, 9], y=[32, 1], num_nodes=1042, batch=[1042], ptr=[33])\n",
            " - Batch 872: DataBatch(edge_index=[2, 1566], edge_attr=[1566, 3], x=[725, 9], y=[32, 1], num_nodes=725, batch=[725], ptr=[33])\n",
            " - Batch 873: DataBatch(edge_index=[2, 1840], edge_attr=[1840, 3], x=[865, 9], y=[32, 1], num_nodes=865, batch=[865], ptr=[33])\n",
            " - Batch 874: DataBatch(edge_index=[2, 1880], edge_attr=[1880, 3], x=[888, 9], y=[32, 1], num_nodes=888, batch=[888], ptr=[33])\n",
            " - Batch 875: DataBatch(edge_index=[2, 1496], edge_attr=[1496, 3], x=[698, 9], y=[32, 1], num_nodes=698, batch=[698], ptr=[33])\n",
            " - Batch 876: DataBatch(edge_index=[2, 2102], edge_attr=[2102, 3], x=[975, 9], y=[32, 1], num_nodes=975, batch=[975], ptr=[33])\n",
            " - Batch 877: DataBatch(edge_index=[2, 1568], edge_attr=[1568, 3], x=[734, 9], y=[32, 1], num_nodes=734, batch=[734], ptr=[33])\n",
            " - Batch 878: DataBatch(edge_index=[2, 1694], edge_attr=[1694, 3], x=[801, 9], y=[32, 1], num_nodes=801, batch=[801], ptr=[33])\n",
            " - Batch 879: DataBatch(edge_index=[2, 1626], edge_attr=[1626, 3], x=[764, 9], y=[32, 1], num_nodes=764, batch=[764], ptr=[33])\n",
            " - Batch 880: DataBatch(edge_index=[2, 1622], edge_attr=[1622, 3], x=[761, 9], y=[32, 1], num_nodes=761, batch=[761], ptr=[33])\n",
            " - Batch 881: DataBatch(edge_index=[2, 1712], edge_attr=[1712, 3], x=[794, 9], y=[32, 1], num_nodes=794, batch=[794], ptr=[33])\n",
            " - Batch 882: DataBatch(edge_index=[2, 1358], edge_attr=[1358, 3], x=[645, 9], y=[32, 1], num_nodes=645, batch=[645], ptr=[33])\n",
            " - Batch 883: DataBatch(edge_index=[2, 1702], edge_attr=[1702, 3], x=[797, 9], y=[32, 1], num_nodes=797, batch=[797], ptr=[33])\n",
            " - Batch 884: DataBatch(edge_index=[2, 1756], edge_attr=[1756, 3], x=[824, 9], y=[32, 1], num_nodes=824, batch=[824], ptr=[33])\n",
            " - Batch 885: DataBatch(edge_index=[2, 1682], edge_attr=[1682, 3], x=[783, 9], y=[32, 1], num_nodes=783, batch=[783], ptr=[33])\n",
            " - Batch 886: DataBatch(edge_index=[2, 1764], edge_attr=[1764, 3], x=[817, 9], y=[32, 1], num_nodes=817, batch=[817], ptr=[33])\n",
            " - Batch 887: DataBatch(edge_index=[2, 1882], edge_attr=[1882, 3], x=[864, 9], y=[32, 1], num_nodes=864, batch=[864], ptr=[33])\n",
            " - Batch 888: DataBatch(edge_index=[2, 1820], edge_attr=[1820, 3], x=[852, 9], y=[32, 1], num_nodes=852, batch=[852], ptr=[33])\n",
            " - Batch 889: DataBatch(edge_index=[2, 1616], edge_attr=[1616, 3], x=[757, 9], y=[32, 1], num_nodes=757, batch=[757], ptr=[33])\n",
            " - Batch 890: DataBatch(edge_index=[2, 1790], edge_attr=[1790, 3], x=[842, 9], y=[32, 1], num_nodes=842, batch=[842], ptr=[33])\n",
            " - Batch 891: DataBatch(edge_index=[2, 1854], edge_attr=[1854, 3], x=[860, 9], y=[32, 1], num_nodes=860, batch=[860], ptr=[33])\n",
            " - Batch 892: DataBatch(edge_index=[2, 2002], edge_attr=[2002, 3], x=[918, 9], y=[32, 1], num_nodes=918, batch=[918], ptr=[33])\n",
            " - Batch 893: DataBatch(edge_index=[2, 1512], edge_attr=[1512, 3], x=[703, 9], y=[32, 1], num_nodes=703, batch=[703], ptr=[33])\n",
            " - Batch 894: DataBatch(edge_index=[2, 1698], edge_attr=[1698, 3], x=[789, 9], y=[32, 1], num_nodes=789, batch=[789], ptr=[33])\n",
            " - Batch 895: DataBatch(edge_index=[2, 1922], edge_attr=[1922, 3], x=[900, 9], y=[32, 1], num_nodes=900, batch=[900], ptr=[33])\n",
            " - Batch 896: DataBatch(edge_index=[2, 2080], edge_attr=[2080, 3], x=[962, 9], y=[32, 1], num_nodes=962, batch=[962], ptr=[33])\n",
            " - Batch 897: DataBatch(edge_index=[2, 1832], edge_attr=[1832, 3], x=[853, 9], y=[32, 1], num_nodes=853, batch=[853], ptr=[33])\n",
            " - Batch 898: DataBatch(edge_index=[2, 1866], edge_attr=[1866, 3], x=[877, 9], y=[32, 1], num_nodes=877, batch=[877], ptr=[33])\n",
            " - Batch 899: DataBatch(edge_index=[2, 1834], edge_attr=[1834, 3], x=[868, 9], y=[32, 1], num_nodes=868, batch=[868], ptr=[33])\n",
            " - Batch 900: DataBatch(edge_index=[2, 1544], edge_attr=[1544, 3], x=[727, 9], y=[32, 1], num_nodes=727, batch=[727], ptr=[33])\n",
            " - Batch 901: DataBatch(edge_index=[2, 1720], edge_attr=[1720, 3], x=[801, 9], y=[32, 1], num_nodes=801, batch=[801], ptr=[33])\n",
            " - Batch 902: DataBatch(edge_index=[2, 1824], edge_attr=[1824, 3], x=[854, 9], y=[32, 1], num_nodes=854, batch=[854], ptr=[33])\n",
            " - Batch 903: DataBatch(edge_index=[2, 1774], edge_attr=[1774, 3], x=[829, 9], y=[32, 1], num_nodes=829, batch=[829], ptr=[33])\n",
            " - Batch 904: DataBatch(edge_index=[2, 1682], edge_attr=[1682, 3], x=[788, 9], y=[32, 1], num_nodes=788, batch=[788], ptr=[33])\n",
            " - Batch 905: DataBatch(edge_index=[2, 1664], edge_attr=[1664, 3], x=[781, 9], y=[32, 1], num_nodes=781, batch=[781], ptr=[33])\n",
            " - Batch 906: DataBatch(edge_index=[2, 1680], edge_attr=[1680, 3], x=[786, 9], y=[32, 1], num_nodes=786, batch=[786], ptr=[33])\n",
            " - Batch 907: DataBatch(edge_index=[2, 1504], edge_attr=[1504, 3], x=[701, 9], y=[32, 1], num_nodes=701, batch=[701], ptr=[33])\n",
            " - Batch 908: DataBatch(edge_index=[2, 1702], edge_attr=[1702, 3], x=[801, 9], y=[32, 1], num_nodes=801, batch=[801], ptr=[33])\n",
            " - Batch 909: DataBatch(edge_index=[2, 1714], edge_attr=[1714, 3], x=[798, 9], y=[32, 1], num_nodes=798, batch=[798], ptr=[33])\n",
            " - Batch 910: DataBatch(edge_index=[2, 1620], edge_attr=[1620, 3], x=[761, 9], y=[32, 1], num_nodes=761, batch=[761], ptr=[33])\n",
            " - Batch 911: DataBatch(edge_index=[2, 1676], edge_attr=[1676, 3], x=[786, 9], y=[32, 1], num_nodes=786, batch=[786], ptr=[33])\n",
            " - Batch 912: DataBatch(edge_index=[2, 1696], edge_attr=[1696, 3], x=[787, 9], y=[32, 1], num_nodes=787, batch=[787], ptr=[33])\n",
            " - Batch 913: DataBatch(edge_index=[2, 1814], edge_attr=[1814, 3], x=[849, 9], y=[32, 1], num_nodes=849, batch=[849], ptr=[33])\n",
            " - Batch 914: DataBatch(edge_index=[2, 1526], edge_attr=[1526, 3], x=[734, 9], y=[32, 1], num_nodes=734, batch=[734], ptr=[33])\n",
            " - Batch 915: DataBatch(edge_index=[2, 1690], edge_attr=[1690, 3], x=[789, 9], y=[32, 1], num_nodes=789, batch=[789], ptr=[33])\n",
            " - Batch 916: DataBatch(edge_index=[2, 1768], edge_attr=[1768, 3], x=[819, 9], y=[32, 1], num_nodes=819, batch=[819], ptr=[33])\n",
            " - Batch 917: DataBatch(edge_index=[2, 1672], edge_attr=[1672, 3], x=[777, 9], y=[32, 1], num_nodes=777, batch=[777], ptr=[33])\n",
            " - Batch 918: DataBatch(edge_index=[2, 1942], edge_attr=[1942, 3], x=[913, 9], y=[32, 1], num_nodes=913, batch=[913], ptr=[33])\n",
            " - Batch 919: DataBatch(edge_index=[2, 1612], edge_attr=[1612, 3], x=[740, 9], y=[32, 1], num_nodes=740, batch=[740], ptr=[33])\n",
            " - Batch 920: DataBatch(edge_index=[2, 1490], edge_attr=[1490, 3], x=[697, 9], y=[32, 1], num_nodes=697, batch=[697], ptr=[33])\n",
            " - Batch 921: DataBatch(edge_index=[2, 1610], edge_attr=[1610, 3], x=[750, 9], y=[32, 1], num_nodes=750, batch=[750], ptr=[33])\n",
            " - Batch 922: DataBatch(edge_index=[2, 1668], edge_attr=[1668, 3], x=[775, 9], y=[32, 1], num_nodes=775, batch=[775], ptr=[33])\n",
            " - Batch 923: DataBatch(edge_index=[2, 1842], edge_attr=[1842, 3], x=[868, 9], y=[32, 1], num_nodes=868, batch=[868], ptr=[33])\n",
            " - Batch 924: DataBatch(edge_index=[2, 1782], edge_attr=[1782, 3], x=[837, 9], y=[32, 1], num_nodes=837, batch=[837], ptr=[33])\n",
            " - Batch 925: DataBatch(edge_index=[2, 1912], edge_attr=[1912, 3], x=[884, 9], y=[32, 1], num_nodes=884, batch=[884], ptr=[33])\n",
            " - Batch 926: DataBatch(edge_index=[2, 1852], edge_attr=[1852, 3], x=[863, 9], y=[32, 1], num_nodes=863, batch=[863], ptr=[33])\n",
            " - Batch 927: DataBatch(edge_index=[2, 1792], edge_attr=[1792, 3], x=[834, 9], y=[32, 1], num_nodes=834, batch=[834], ptr=[33])\n",
            " - Batch 928: DataBatch(edge_index=[2, 1654], edge_attr=[1654, 3], x=[773, 9], y=[32, 1], num_nodes=773, batch=[773], ptr=[33])\n",
            " - Batch 929: DataBatch(edge_index=[2, 1694], edge_attr=[1694, 3], x=[794, 9], y=[32, 1], num_nodes=794, batch=[794], ptr=[33])\n",
            " - Batch 930: DataBatch(edge_index=[2, 1808], edge_attr=[1808, 3], x=[843, 9], y=[32, 1], num_nodes=843, batch=[843], ptr=[33])\n",
            " - Batch 931: DataBatch(edge_index=[2, 1626], edge_attr=[1626, 3], x=[762, 9], y=[32, 1], num_nodes=762, batch=[762], ptr=[33])\n",
            " - Batch 932: DataBatch(edge_index=[2, 1588], edge_attr=[1588, 3], x=[744, 9], y=[32, 1], num_nodes=744, batch=[744], ptr=[33])\n",
            " - Batch 933: DataBatch(edge_index=[2, 1654], edge_attr=[1654, 3], x=[769, 9], y=[32, 1], num_nodes=769, batch=[769], ptr=[33])\n",
            " - Batch 934: DataBatch(edge_index=[2, 1718], edge_attr=[1718, 3], x=[807, 9], y=[32, 1], num_nodes=807, batch=[807], ptr=[33])\n",
            " - Batch 935: DataBatch(edge_index=[2, 1642], edge_attr=[1642, 3], x=[761, 9], y=[32, 1], num_nodes=761, batch=[761], ptr=[33])\n",
            " - Batch 936: DataBatch(edge_index=[2, 2012], edge_attr=[2012, 3], x=[945, 9], y=[32, 1], num_nodes=945, batch=[945], ptr=[33])\n",
            " - Batch 937: DataBatch(edge_index=[2, 1586], edge_attr=[1586, 3], x=[738, 9], y=[32, 1], num_nodes=738, batch=[738], ptr=[33])\n",
            " - Batch 938: DataBatch(edge_index=[2, 1628], edge_attr=[1628, 3], x=[756, 9], y=[32, 1], num_nodes=756, batch=[756], ptr=[33])\n",
            " - Batch 939: DataBatch(edge_index=[2, 1716], edge_attr=[1716, 3], x=[796, 9], y=[32, 1], num_nodes=796, batch=[796], ptr=[33])\n",
            " - Batch 940: DataBatch(edge_index=[2, 1560], edge_attr=[1560, 3], x=[726, 9], y=[32, 1], num_nodes=726, batch=[726], ptr=[33])\n",
            " - Batch 941: DataBatch(edge_index=[2, 1870], edge_attr=[1870, 3], x=[881, 9], y=[32, 1], num_nodes=881, batch=[881], ptr=[33])\n",
            " - Batch 942: DataBatch(edge_index=[2, 1560], edge_attr=[1560, 3], x=[728, 9], y=[32, 1], num_nodes=728, batch=[728], ptr=[33])\n",
            " - Batch 943: DataBatch(edge_index=[2, 1662], edge_attr=[1662, 3], x=[779, 9], y=[32, 1], num_nodes=779, batch=[779], ptr=[33])\n",
            " - Batch 944: DataBatch(edge_index=[2, 1778], edge_attr=[1778, 3], x=[830, 9], y=[32, 1], num_nodes=830, batch=[830], ptr=[33])\n",
            " - Batch 945: DataBatch(edge_index=[2, 2202], edge_attr=[2202, 3], x=[1030, 9], y=[32, 1], num_nodes=1030, batch=[1030], ptr=[33])\n",
            " - Batch 946: DataBatch(edge_index=[2, 1948], edge_attr=[1948, 3], x=[906, 9], y=[32, 1], num_nodes=906, batch=[906], ptr=[33])\n",
            " - Batch 947: DataBatch(edge_index=[2, 1674], edge_attr=[1674, 3], x=[771, 9], y=[32, 1], num_nodes=771, batch=[771], ptr=[33])\n",
            " - Batch 948: DataBatch(edge_index=[2, 1728], edge_attr=[1728, 3], x=[801, 9], y=[32, 1], num_nodes=801, batch=[801], ptr=[33])\n",
            " - Batch 949: DataBatch(edge_index=[2, 1720], edge_attr=[1720, 3], x=[801, 9], y=[32, 1], num_nodes=801, batch=[801], ptr=[33])\n",
            " - Batch 950: DataBatch(edge_index=[2, 1590], edge_attr=[1590, 3], x=[737, 9], y=[32, 1], num_nodes=737, batch=[737], ptr=[33])\n",
            " - Batch 951: DataBatch(edge_index=[2, 1746], edge_attr=[1746, 3], x=[815, 9], y=[32, 1], num_nodes=815, batch=[815], ptr=[33])\n",
            " - Batch 952: DataBatch(edge_index=[2, 1574], edge_attr=[1574, 3], x=[745, 9], y=[32, 1], num_nodes=745, batch=[745], ptr=[33])\n",
            " - Batch 953: DataBatch(edge_index=[2, 2148], edge_attr=[2148, 3], x=[1015, 9], y=[32, 1], num_nodes=1015, batch=[1015], ptr=[33])\n",
            " - Batch 954: DataBatch(edge_index=[2, 1812], edge_attr=[1812, 3], x=[850, 9], y=[32, 1], num_nodes=850, batch=[850], ptr=[33])\n",
            " - Batch 955: DataBatch(edge_index=[2, 1784], edge_attr=[1784, 3], x=[824, 9], y=[32, 1], num_nodes=824, batch=[824], ptr=[33])\n",
            " - Batch 956: DataBatch(edge_index=[2, 1570], edge_attr=[1570, 3], x=[733, 9], y=[32, 1], num_nodes=733, batch=[733], ptr=[33])\n",
            " - Batch 957: DataBatch(edge_index=[2, 1698], edge_attr=[1698, 3], x=[797, 9], y=[32, 1], num_nodes=797, batch=[797], ptr=[33])\n",
            " - Batch 958: DataBatch(edge_index=[2, 1696], edge_attr=[1696, 3], x=[795, 9], y=[32, 1], num_nodes=795, batch=[795], ptr=[33])\n",
            " - Batch 959: DataBatch(edge_index=[2, 2064], edge_attr=[2064, 3], x=[967, 9], y=[32, 1], num_nodes=967, batch=[967], ptr=[33])\n",
            " - Batch 960: DataBatch(edge_index=[2, 1714], edge_attr=[1714, 3], x=[792, 9], y=[32, 1], num_nodes=792, batch=[792], ptr=[33])\n",
            " - Batch 961: DataBatch(edge_index=[2, 1730], edge_attr=[1730, 3], x=[812, 9], y=[32, 1], num_nodes=812, batch=[812], ptr=[33])\n",
            " - Batch 962: DataBatch(edge_index=[2, 1540], edge_attr=[1540, 3], x=[712, 9], y=[32, 1], num_nodes=712, batch=[712], ptr=[33])\n",
            " - Batch 963: DataBatch(edge_index=[2, 1690], edge_attr=[1690, 3], x=[784, 9], y=[32, 1], num_nodes=784, batch=[784], ptr=[33])\n",
            " - Batch 964: DataBatch(edge_index=[2, 1712], edge_attr=[1712, 3], x=[797, 9], y=[32, 1], num_nodes=797, batch=[797], ptr=[33])\n",
            " - Batch 965: DataBatch(edge_index=[2, 1780], edge_attr=[1780, 3], x=[816, 9], y=[32, 1], num_nodes=816, batch=[816], ptr=[33])\n",
            " - Batch 966: DataBatch(edge_index=[2, 1504], edge_attr=[1504, 3], x=[720, 9], y=[32, 1], num_nodes=720, batch=[720], ptr=[33])\n",
            " - Batch 967: DataBatch(edge_index=[2, 1578], edge_attr=[1578, 3], x=[744, 9], y=[32, 1], num_nodes=744, batch=[744], ptr=[33])\n",
            " - Batch 968: DataBatch(edge_index=[2, 1566], edge_attr=[1566, 3], x=[736, 9], y=[32, 1], num_nodes=736, batch=[736], ptr=[33])\n",
            " - Batch 969: DataBatch(edge_index=[2, 1792], edge_attr=[1792, 3], x=[835, 9], y=[32, 1], num_nodes=835, batch=[835], ptr=[33])\n",
            " - Batch 970: DataBatch(edge_index=[2, 1830], edge_attr=[1830, 3], x=[855, 9], y=[32, 1], num_nodes=855, batch=[855], ptr=[33])\n",
            " - Batch 971: DataBatch(edge_index=[2, 1678], edge_attr=[1678, 3], x=[794, 9], y=[32, 1], num_nodes=794, batch=[794], ptr=[33])\n",
            " - Batch 972: DataBatch(edge_index=[2, 1908], edge_attr=[1908, 3], x=[897, 9], y=[32, 1], num_nodes=897, batch=[897], ptr=[33])\n",
            " - Batch 973: DataBatch(edge_index=[2, 1642], edge_attr=[1642, 3], x=[758, 9], y=[32, 1], num_nodes=758, batch=[758], ptr=[33])\n",
            " - Batch 974: DataBatch(edge_index=[2, 1658], edge_attr=[1658, 3], x=[791, 9], y=[32, 1], num_nodes=791, batch=[791], ptr=[33])\n",
            " - Batch 975: DataBatch(edge_index=[2, 1658], edge_attr=[1658, 3], x=[786, 9], y=[32, 1], num_nodes=786, batch=[786], ptr=[33])\n",
            " - Batch 976: DataBatch(edge_index=[2, 1608], edge_attr=[1608, 3], x=[749, 9], y=[32, 1], num_nodes=749, batch=[749], ptr=[33])\n",
            " - Batch 977: DataBatch(edge_index=[2, 1780], edge_attr=[1780, 3], x=[830, 9], y=[32, 1], num_nodes=830, batch=[830], ptr=[33])\n",
            " - Batch 978: DataBatch(edge_index=[2, 1724], edge_attr=[1724, 3], x=[803, 9], y=[32, 1], num_nodes=803, batch=[803], ptr=[33])\n",
            " - Batch 979: DataBatch(edge_index=[2, 1830], edge_attr=[1830, 3], x=[860, 9], y=[32, 1], num_nodes=860, batch=[860], ptr=[33])\n",
            " - Batch 980: DataBatch(edge_index=[2, 1560], edge_attr=[1560, 3], x=[725, 9], y=[32, 1], num_nodes=725, batch=[725], ptr=[33])\n",
            " - Batch 981: DataBatch(edge_index=[2, 1878], edge_attr=[1878, 3], x=[898, 9], y=[32, 1], num_nodes=898, batch=[898], ptr=[33])\n",
            " - Batch 982: DataBatch(edge_index=[2, 1744], edge_attr=[1744, 3], x=[819, 9], y=[32, 1], num_nodes=819, batch=[819], ptr=[33])\n",
            " - Batch 983: DataBatch(edge_index=[2, 1716], edge_attr=[1716, 3], x=[802, 9], y=[32, 1], num_nodes=802, batch=[802], ptr=[33])\n",
            " - Batch 984: DataBatch(edge_index=[2, 1534], edge_attr=[1534, 3], x=[737, 9], y=[32, 1], num_nodes=737, batch=[737], ptr=[33])\n",
            " - Batch 985: DataBatch(edge_index=[2, 1578], edge_attr=[1578, 3], x=[728, 9], y=[32, 1], num_nodes=728, batch=[728], ptr=[33])\n",
            " - Batch 986: DataBatch(edge_index=[2, 1674], edge_attr=[1674, 3], x=[787, 9], y=[32, 1], num_nodes=787, batch=[787], ptr=[33])\n",
            " - Batch 987: DataBatch(edge_index=[2, 1612], edge_attr=[1612, 3], x=[760, 9], y=[32, 1], num_nodes=760, batch=[760], ptr=[33])\n",
            " - Batch 988: DataBatch(edge_index=[2, 1712], edge_attr=[1712, 3], x=[793, 9], y=[32, 1], num_nodes=793, batch=[793], ptr=[33])\n",
            " - Batch 989: DataBatch(edge_index=[2, 1688], edge_attr=[1688, 3], x=[783, 9], y=[32, 1], num_nodes=783, batch=[783], ptr=[33])\n",
            " - Batch 990: DataBatch(edge_index=[2, 1994], edge_attr=[1994, 3], x=[947, 9], y=[32, 1], num_nodes=947, batch=[947], ptr=[33])\n",
            " - Batch 991: DataBatch(edge_index=[2, 1566], edge_attr=[1566, 3], x=[728, 9], y=[32, 1], num_nodes=728, batch=[728], ptr=[33])\n",
            " - Batch 992: DataBatch(edge_index=[2, 1698], edge_attr=[1698, 3], x=[801, 9], y=[32, 1], num_nodes=801, batch=[801], ptr=[33])\n",
            " - Batch 993: DataBatch(edge_index=[2, 1578], edge_attr=[1578, 3], x=[732, 9], y=[32, 1], num_nodes=732, batch=[732], ptr=[33])\n",
            " - Batch 994: DataBatch(edge_index=[2, 1882], edge_attr=[1882, 3], x=[886, 9], y=[32, 1], num_nodes=886, batch=[886], ptr=[33])\n",
            " - Batch 995: DataBatch(edge_index=[2, 1868], edge_attr=[1868, 3], x=[858, 9], y=[32, 1], num_nodes=858, batch=[858], ptr=[33])\n",
            " - Batch 996: DataBatch(edge_index=[2, 1720], edge_attr=[1720, 3], x=[792, 9], y=[32, 1], num_nodes=792, batch=[792], ptr=[33])\n",
            " - Batch 997: DataBatch(edge_index=[2, 1796], edge_attr=[1796, 3], x=[832, 9], y=[32, 1], num_nodes=832, batch=[832], ptr=[33])\n",
            " - Batch 998: DataBatch(edge_index=[2, 1818], edge_attr=[1818, 3], x=[844, 9], y=[32, 1], num_nodes=844, batch=[844], ptr=[33])\n",
            " - Batch 999: DataBatch(edge_index=[2, 1620], edge_attr=[1620, 3], x=[760, 9], y=[32, 1], num_nodes=760, batch=[760], ptr=[33])\n",
            " - Batch 1000: DataBatch(edge_index=[2, 1830], edge_attr=[1830, 3], x=[851, 9], y=[32, 1], num_nodes=851, batch=[851], ptr=[33])\n",
            " - Batch 1001: DataBatch(edge_index=[2, 1982], edge_attr=[1982, 3], x=[920, 9], y=[32, 1], num_nodes=920, batch=[920], ptr=[33])\n",
            " - Batch 1002: DataBatch(edge_index=[2, 1600], edge_attr=[1600, 3], x=[756, 9], y=[32, 1], num_nodes=756, batch=[756], ptr=[33])\n",
            " - Batch 1003: DataBatch(edge_index=[2, 1624], edge_attr=[1624, 3], x=[768, 9], y=[32, 1], num_nodes=768, batch=[768], ptr=[33])\n",
            " - Batch 1004: DataBatch(edge_index=[2, 1660], edge_attr=[1660, 3], x=[773, 9], y=[32, 1], num_nodes=773, batch=[773], ptr=[33])\n",
            " - Batch 1005: DataBatch(edge_index=[2, 1742], edge_attr=[1742, 3], x=[808, 9], y=[32, 1], num_nodes=808, batch=[808], ptr=[33])\n",
            " - Batch 1006: DataBatch(edge_index=[2, 1584], edge_attr=[1584, 3], x=[740, 9], y=[32, 1], num_nodes=740, batch=[740], ptr=[33])\n",
            " - Batch 1007: DataBatch(edge_index=[2, 1874], edge_attr=[1874, 3], x=[870, 9], y=[32, 1], num_nodes=870, batch=[870], ptr=[33])\n",
            " - Batch 1008: DataBatch(edge_index=[2, 1516], edge_attr=[1516, 3], x=[715, 9], y=[32, 1], num_nodes=715, batch=[715], ptr=[33])\n",
            " - Batch 1009: DataBatch(edge_index=[2, 1842], edge_attr=[1842, 3], x=[865, 9], y=[32, 1], num_nodes=865, batch=[865], ptr=[33])\n",
            " - Batch 1010: DataBatch(edge_index=[2, 1992], edge_attr=[1992, 3], x=[926, 9], y=[32, 1], num_nodes=926, batch=[926], ptr=[33])\n",
            " - Batch 1011: DataBatch(edge_index=[2, 2006], edge_attr=[2006, 3], x=[932, 9], y=[32, 1], num_nodes=932, batch=[932], ptr=[33])\n",
            " - Batch 1012: DataBatch(edge_index=[2, 1870], edge_attr=[1870, 3], x=[876, 9], y=[32, 1], num_nodes=876, batch=[876], ptr=[33])\n",
            " - Batch 1013: DataBatch(edge_index=[2, 1780], edge_attr=[1780, 3], x=[830, 9], y=[32, 1], num_nodes=830, batch=[830], ptr=[33])\n",
            " - Batch 1014: DataBatch(edge_index=[2, 1928], edge_attr=[1928, 3], x=[893, 9], y=[32, 1], num_nodes=893, batch=[893], ptr=[33])\n",
            " - Batch 1015: DataBatch(edge_index=[2, 1816], edge_attr=[1816, 3], x=[844, 9], y=[32, 1], num_nodes=844, batch=[844], ptr=[33])\n",
            " - Batch 1016: DataBatch(edge_index=[2, 1744], edge_attr=[1744, 3], x=[814, 9], y=[32, 1], num_nodes=814, batch=[814], ptr=[33])\n",
            " - Batch 1017: DataBatch(edge_index=[2, 1574], edge_attr=[1574, 3], x=[734, 9], y=[32, 1], num_nodes=734, batch=[734], ptr=[33])\n",
            " - Batch 1018: DataBatch(edge_index=[2, 1652], edge_attr=[1652, 3], x=[765, 9], y=[32, 1], num_nodes=765, batch=[765], ptr=[33])\n",
            " - Batch 1019: DataBatch(edge_index=[2, 1922], edge_attr=[1922, 3], x=[908, 9], y=[32, 1], num_nodes=908, batch=[908], ptr=[33])\n",
            " - Batch 1020: DataBatch(edge_index=[2, 1740], edge_attr=[1740, 3], x=[822, 9], y=[32, 1], num_nodes=822, batch=[822], ptr=[33])\n",
            " - Batch 1021: DataBatch(edge_index=[2, 1600], edge_attr=[1600, 3], x=[741, 9], y=[32, 1], num_nodes=741, batch=[741], ptr=[33])\n",
            " - Batch 1022: DataBatch(edge_index=[2, 1634], edge_attr=[1634, 3], x=[769, 9], y=[32, 1], num_nodes=769, batch=[769], ptr=[33])\n",
            " - Batch 1023: DataBatch(edge_index=[2, 1554], edge_attr=[1554, 3], x=[724, 9], y=[32, 1], num_nodes=724, batch=[724], ptr=[33])\n",
            " - Batch 1024: DataBatch(edge_index=[2, 1606], edge_attr=[1606, 3], x=[750, 9], y=[32, 1], num_nodes=750, batch=[750], ptr=[33])\n",
            " - Batch 1025: DataBatch(edge_index=[2, 1768], edge_attr=[1768, 3], x=[820, 9], y=[32, 1], num_nodes=820, batch=[820], ptr=[33])\n",
            " - Batch 1026: DataBatch(edge_index=[2, 1542], edge_attr=[1542, 3], x=[726, 9], y=[32, 1], num_nodes=726, batch=[726], ptr=[33])\n",
            " - Batch 1027: DataBatch(edge_index=[2, 1720], edge_attr=[1720, 3], x=[807, 9], y=[32, 1], num_nodes=807, batch=[807], ptr=[33])\n",
            " - Batch 1028: DataBatch(edge_index=[2, 260], edge_attr=[260, 3], x=[121, 9], y=[5, 1], num_nodes=121, batch=[121], ptr=[6])\n",
            "\n",
            "Validation loader:\n",
            " - Batch 0: DataBatch(edge_index=[2, 1722], edge_attr=[1722, 3], x=[787, 9], y=[32, 1], num_nodes=787, batch=[787], ptr=[33])\n",
            " - Batch 1: DataBatch(edge_index=[2, 1694], edge_attr=[1694, 3], x=[767, 9], y=[32, 1], num_nodes=767, batch=[767], ptr=[33])\n",
            " - Batch 2: DataBatch(edge_index=[2, 1646], edge_attr=[1646, 3], x=[739, 9], y=[32, 1], num_nodes=739, batch=[739], ptr=[33])\n",
            " - Batch 3: DataBatch(edge_index=[2, 2054], edge_attr=[2054, 3], x=[934, 9], y=[32, 1], num_nodes=934, batch=[934], ptr=[33])\n",
            " - Batch 4: DataBatch(edge_index=[2, 1832], edge_attr=[1832, 3], x=[823, 9], y=[32, 1], num_nodes=823, batch=[823], ptr=[33])\n",
            " - Batch 5: DataBatch(edge_index=[2, 1950], edge_attr=[1950, 3], x=[887, 9], y=[32, 1], num_nodes=887, batch=[887], ptr=[33])\n",
            " - Batch 6: DataBatch(edge_index=[2, 1972], edge_attr=[1972, 3], x=[924, 9], y=[32, 1], num_nodes=924, batch=[924], ptr=[33])\n",
            " - Batch 7: DataBatch(edge_index=[2, 1828], edge_attr=[1828, 3], x=[851, 9], y=[32, 1], num_nodes=851, batch=[851], ptr=[33])\n",
            " - Batch 8: DataBatch(edge_index=[2, 1884], edge_attr=[1884, 3], x=[877, 9], y=[32, 1], num_nodes=877, batch=[877], ptr=[33])\n",
            " - Batch 9: DataBatch(edge_index=[2, 1888], edge_attr=[1888, 3], x=[855, 9], y=[32, 1], num_nodes=855, batch=[855], ptr=[33])\n",
            " - Batch 10: DataBatch(edge_index=[2, 2276], edge_attr=[2276, 3], x=[1016, 9], y=[32, 1], num_nodes=1016, batch=[1016], ptr=[33])\n",
            " - Batch 11: DataBatch(edge_index=[2, 1692], edge_attr=[1692, 3], x=[784, 9], y=[32, 1], num_nodes=784, batch=[784], ptr=[33])\n",
            " - Batch 12: DataBatch(edge_index=[2, 1188], edge_attr=[1188, 3], x=[568, 9], y=[32, 1], num_nodes=568, batch=[568], ptr=[33])\n",
            " - Batch 13: DataBatch(edge_index=[2, 1762], edge_attr=[1762, 3], x=[807, 9], y=[32, 1], num_nodes=807, batch=[807], ptr=[33])\n",
            " - Batch 14: DataBatch(edge_index=[2, 1692], edge_attr=[1692, 3], x=[773, 9], y=[32, 1], num_nodes=773, batch=[773], ptr=[33])\n",
            " - Batch 15: DataBatch(edge_index=[2, 1950], edge_attr=[1950, 3], x=[870, 9], y=[32, 1], num_nodes=870, batch=[870], ptr=[33])\n",
            " - Batch 16: DataBatch(edge_index=[2, 1666], edge_attr=[1666, 3], x=[767, 9], y=[32, 1], num_nodes=767, batch=[767], ptr=[33])\n",
            " - Batch 17: DataBatch(edge_index=[2, 1788], edge_attr=[1788, 3], x=[812, 9], y=[32, 1], num_nodes=812, batch=[812], ptr=[33])\n",
            " - Batch 18: DataBatch(edge_index=[2, 1942], edge_attr=[1942, 3], x=[870, 9], y=[32, 1], num_nodes=870, batch=[870], ptr=[33])\n",
            " - Batch 19: DataBatch(edge_index=[2, 1934], edge_attr=[1934, 3], x=[891, 9], y=[32, 1], num_nodes=891, batch=[891], ptr=[33])\n",
            " - Batch 20: DataBatch(edge_index=[2, 1952], edge_attr=[1952, 3], x=[881, 9], y=[32, 1], num_nodes=881, batch=[881], ptr=[33])\n",
            " - Batch 21: DataBatch(edge_index=[2, 1860], edge_attr=[1860, 3], x=[873, 9], y=[32, 1], num_nodes=873, batch=[873], ptr=[33])\n",
            " - Batch 22: DataBatch(edge_index=[2, 1784], edge_attr=[1784, 3], x=[809, 9], y=[32, 1], num_nodes=809, batch=[809], ptr=[33])\n",
            " - Batch 23: DataBatch(edge_index=[2, 1730], edge_attr=[1730, 3], x=[803, 9], y=[32, 1], num_nodes=803, batch=[803], ptr=[33])\n",
            " - Batch 24: DataBatch(edge_index=[2, 1848], edge_attr=[1848, 3], x=[852, 9], y=[32, 1], num_nodes=852, batch=[852], ptr=[33])\n",
            " - Batch 25: DataBatch(edge_index=[2, 2014], edge_attr=[2014, 3], x=[931, 9], y=[32, 1], num_nodes=931, batch=[931], ptr=[33])\n",
            " - Batch 26: DataBatch(edge_index=[2, 1708], edge_attr=[1708, 3], x=[768, 9], y=[32, 1], num_nodes=768, batch=[768], ptr=[33])\n",
            " - Batch 27: DataBatch(edge_index=[2, 1722], edge_attr=[1722, 3], x=[771, 9], y=[32, 1], num_nodes=771, batch=[771], ptr=[33])\n",
            " - Batch 28: DataBatch(edge_index=[2, 2200], edge_attr=[2200, 3], x=[1006, 9], y=[32, 1], num_nodes=1006, batch=[1006], ptr=[33])\n",
            " - Batch 29: DataBatch(edge_index=[2, 1854], edge_attr=[1854, 3], x=[840, 9], y=[32, 1], num_nodes=840, batch=[840], ptr=[33])\n",
            " - Batch 30: DataBatch(edge_index=[2, 1860], edge_attr=[1860, 3], x=[829, 9], y=[32, 1], num_nodes=829, batch=[829], ptr=[33])\n",
            " - Batch 31: DataBatch(edge_index=[2, 2228], edge_attr=[2228, 3], x=[1008, 9], y=[32, 1], num_nodes=1008, batch=[1008], ptr=[33])\n",
            " - Batch 32: DataBatch(edge_index=[2, 2290], edge_attr=[2290, 3], x=[1012, 9], y=[32, 1], num_nodes=1012, batch=[1012], ptr=[33])\n",
            " - Batch 33: DataBatch(edge_index=[2, 1840], edge_attr=[1840, 3], x=[848, 9], y=[32, 1], num_nodes=848, batch=[848], ptr=[33])\n",
            " - Batch 34: DataBatch(edge_index=[2, 1748], edge_attr=[1748, 3], x=[783, 9], y=[32, 1], num_nodes=783, batch=[783], ptr=[33])\n",
            " - Batch 35: DataBatch(edge_index=[2, 1734], edge_attr=[1734, 3], x=[783, 9], y=[32, 1], num_nodes=783, batch=[783], ptr=[33])\n",
            " - Batch 36: DataBatch(edge_index=[2, 1800], edge_attr=[1800, 3], x=[797, 9], y=[32, 1], num_nodes=797, batch=[797], ptr=[33])\n",
            " - Batch 37: DataBatch(edge_index=[2, 2110], edge_attr=[2110, 3], x=[965, 9], y=[32, 1], num_nodes=965, batch=[965], ptr=[33])\n",
            " - Batch 38: DataBatch(edge_index=[2, 2496], edge_attr=[2496, 3], x=[1106, 9], y=[32, 1], num_nodes=1106, batch=[1106], ptr=[33])\n",
            " - Batch 39: DataBatch(edge_index=[2, 2116], edge_attr=[2116, 3], x=[955, 9], y=[32, 1], num_nodes=955, batch=[955], ptr=[33])\n",
            " - Batch 40: DataBatch(edge_index=[2, 1532], edge_attr=[1532, 3], x=[685, 9], y=[32, 1], num_nodes=685, batch=[685], ptr=[33])\n",
            " - Batch 41: DataBatch(edge_index=[2, 1942], edge_attr=[1942, 3], x=[882, 9], y=[32, 1], num_nodes=882, batch=[882], ptr=[33])\n",
            " - Batch 42: DataBatch(edge_index=[2, 1680], edge_attr=[1680, 3], x=[756, 9], y=[32, 1], num_nodes=756, batch=[756], ptr=[33])\n",
            " - Batch 43: DataBatch(edge_index=[2, 2242], edge_attr=[2242, 3], x=[1022, 9], y=[32, 1], num_nodes=1022, batch=[1022], ptr=[33])\n",
            " - Batch 44: DataBatch(edge_index=[2, 1508], edge_attr=[1508, 3], x=[685, 9], y=[32, 1], num_nodes=685, batch=[685], ptr=[33])\n",
            " - Batch 45: DataBatch(edge_index=[2, 1762], edge_attr=[1762, 3], x=[796, 9], y=[32, 1], num_nodes=796, batch=[796], ptr=[33])\n",
            " - Batch 46: DataBatch(edge_index=[2, 2090], edge_attr=[2090, 3], x=[949, 9], y=[32, 1], num_nodes=949, batch=[949], ptr=[33])\n",
            " - Batch 47: DataBatch(edge_index=[2, 1784], edge_attr=[1784, 3], x=[817, 9], y=[32, 1], num_nodes=817, batch=[817], ptr=[33])\n",
            " - Batch 48: DataBatch(edge_index=[2, 1836], edge_attr=[1836, 3], x=[827, 9], y=[32, 1], num_nodes=827, batch=[827], ptr=[33])\n",
            " - Batch 49: DataBatch(edge_index=[2, 1758], edge_attr=[1758, 3], x=[807, 9], y=[32, 1], num_nodes=807, batch=[807], ptr=[33])\n",
            " - Batch 50: DataBatch(edge_index=[2, 2000], edge_attr=[2000, 3], x=[926, 9], y=[32, 1], num_nodes=926, batch=[926], ptr=[33])\n",
            " - Batch 51: DataBatch(edge_index=[2, 2016], edge_attr=[2016, 3], x=[921, 9], y=[32, 1], num_nodes=921, batch=[921], ptr=[33])\n",
            " - Batch 52: DataBatch(edge_index=[2, 1674], edge_attr=[1674, 3], x=[757, 9], y=[32, 1], num_nodes=757, batch=[757], ptr=[33])\n",
            " - Batch 53: DataBatch(edge_index=[2, 2242], edge_attr=[2242, 3], x=[1035, 9], y=[32, 1], num_nodes=1035, batch=[1035], ptr=[33])\n",
            " - Batch 54: DataBatch(edge_index=[2, 1934], edge_attr=[1934, 3], x=[868, 9], y=[32, 1], num_nodes=868, batch=[868], ptr=[33])\n",
            " - Batch 55: DataBatch(edge_index=[2, 1490], edge_attr=[1490, 3], x=[683, 9], y=[32, 1], num_nodes=683, batch=[683], ptr=[33])\n",
            " - Batch 56: DataBatch(edge_index=[2, 2178], edge_attr=[2178, 3], x=[1007, 9], y=[32, 1], num_nodes=1007, batch=[1007], ptr=[33])\n",
            " - Batch 57: DataBatch(edge_index=[2, 1744], edge_attr=[1744, 3], x=[801, 9], y=[32, 1], num_nodes=801, batch=[801], ptr=[33])\n",
            " - Batch 58: DataBatch(edge_index=[2, 2006], edge_attr=[2006, 3], x=[916, 9], y=[32, 1], num_nodes=916, batch=[916], ptr=[33])\n",
            " - Batch 59: DataBatch(edge_index=[2, 1842], edge_attr=[1842, 3], x=[851, 9], y=[32, 1], num_nodes=851, batch=[851], ptr=[33])\n",
            " - Batch 60: DataBatch(edge_index=[2, 2554], edge_attr=[2554, 3], x=[1179, 9], y=[32, 1], num_nodes=1179, batch=[1179], ptr=[33])\n",
            " - Batch 61: DataBatch(edge_index=[2, 2588], edge_attr=[2588, 3], x=[1149, 9], y=[32, 1], num_nodes=1149, batch=[1149], ptr=[33])\n",
            " - Batch 62: DataBatch(edge_index=[2, 2280], edge_attr=[2280, 3], x=[1019, 9], y=[32, 1], num_nodes=1019, batch=[1019], ptr=[33])\n",
            " - Batch 63: DataBatch(edge_index=[2, 1766], edge_attr=[1766, 3], x=[802, 9], y=[32, 1], num_nodes=802, batch=[802], ptr=[33])\n",
            " - Batch 64: DataBatch(edge_index=[2, 1930], edge_attr=[1930, 3], x=[862, 9], y=[32, 1], num_nodes=862, batch=[862], ptr=[33])\n",
            " - Batch 65: DataBatch(edge_index=[2, 2166], edge_attr=[2166, 3], x=[989, 9], y=[32, 1], num_nodes=989, batch=[989], ptr=[33])\n",
            " - Batch 66: DataBatch(edge_index=[2, 1796], edge_attr=[1796, 3], x=[807, 9], y=[32, 1], num_nodes=807, batch=[807], ptr=[33])\n",
            " - Batch 67: DataBatch(edge_index=[2, 1896], edge_attr=[1896, 3], x=[862, 9], y=[32, 1], num_nodes=862, batch=[862], ptr=[33])\n",
            " - Batch 68: DataBatch(edge_index=[2, 1564], edge_attr=[1564, 3], x=[714, 9], y=[32, 1], num_nodes=714, batch=[714], ptr=[33])\n",
            " - Batch 69: DataBatch(edge_index=[2, 2016], edge_attr=[2016, 3], x=[911, 9], y=[32, 1], num_nodes=911, batch=[911], ptr=[33])\n",
            " - Batch 70: DataBatch(edge_index=[2, 2890], edge_attr=[2890, 3], x=[1342, 9], y=[32, 1], num_nodes=1342, batch=[1342], ptr=[33])\n",
            " - Batch 71: DataBatch(edge_index=[2, 2978], edge_attr=[2978, 3], x=[1324, 9], y=[32, 1], num_nodes=1324, batch=[1324], ptr=[33])\n",
            " - Batch 72: DataBatch(edge_index=[2, 2204], edge_attr=[2204, 3], x=[976, 9], y=[32, 1], num_nodes=976, batch=[976], ptr=[33])\n",
            " - Batch 73: DataBatch(edge_index=[2, 1874], edge_attr=[1874, 3], x=[867, 9], y=[32, 1], num_nodes=867, batch=[867], ptr=[33])\n",
            " - Batch 74: DataBatch(edge_index=[2, 1692], edge_attr=[1692, 3], x=[783, 9], y=[32, 1], num_nodes=783, batch=[783], ptr=[33])\n",
            " - Batch 75: DataBatch(edge_index=[2, 1694], edge_attr=[1694, 3], x=[772, 9], y=[32, 1], num_nodes=772, batch=[772], ptr=[33])\n",
            " - Batch 76: DataBatch(edge_index=[2, 2382], edge_attr=[2382, 3], x=[1051, 9], y=[32, 1], num_nodes=1051, batch=[1051], ptr=[33])\n",
            " - Batch 77: DataBatch(edge_index=[2, 2010], edge_attr=[2010, 3], x=[919, 9], y=[32, 1], num_nodes=919, batch=[919], ptr=[33])\n",
            " - Batch 78: DataBatch(edge_index=[2, 1782], edge_attr=[1782, 3], x=[820, 9], y=[32, 1], num_nodes=820, batch=[820], ptr=[33])\n",
            " - Batch 79: DataBatch(edge_index=[2, 2072], edge_attr=[2072, 3], x=[946, 9], y=[32, 1], num_nodes=946, batch=[946], ptr=[33])\n",
            " - Batch 80: DataBatch(edge_index=[2, 1986], edge_attr=[1986, 3], x=[907, 9], y=[32, 1], num_nodes=907, batch=[907], ptr=[33])\n",
            " - Batch 81: DataBatch(edge_index=[2, 1646], edge_attr=[1646, 3], x=[739, 9], y=[32, 1], num_nodes=739, batch=[739], ptr=[33])\n",
            " - Batch 82: DataBatch(edge_index=[2, 1696], edge_attr=[1696, 3], x=[745, 9], y=[32, 1], num_nodes=745, batch=[745], ptr=[33])\n",
            " - Batch 83: DataBatch(edge_index=[2, 2158], edge_attr=[2158, 3], x=[948, 9], y=[32, 1], num_nodes=948, batch=[948], ptr=[33])\n",
            " - Batch 84: DataBatch(edge_index=[2, 1662], edge_attr=[1662, 3], x=[766, 9], y=[32, 1], num_nodes=766, batch=[766], ptr=[33])\n",
            " - Batch 85: DataBatch(edge_index=[2, 2128], edge_attr=[2128, 3], x=[977, 9], y=[32, 1], num_nodes=977, batch=[977], ptr=[33])\n",
            " - Batch 86: DataBatch(edge_index=[2, 1760], edge_attr=[1760, 3], x=[797, 9], y=[32, 1], num_nodes=797, batch=[797], ptr=[33])\n",
            " - Batch 87: DataBatch(edge_index=[2, 1948], edge_attr=[1948, 3], x=[883, 9], y=[32, 1], num_nodes=883, batch=[883], ptr=[33])\n",
            " - Batch 88: DataBatch(edge_index=[2, 2688], edge_attr=[2688, 3], x=[1205, 9], y=[32, 1], num_nodes=1205, batch=[1205], ptr=[33])\n",
            " - Batch 89: DataBatch(edge_index=[2, 2268], edge_attr=[2268, 3], x=[1036, 9], y=[32, 1], num_nodes=1036, batch=[1036], ptr=[33])\n",
            " - Batch 90: DataBatch(edge_index=[2, 2038], edge_attr=[2038, 3], x=[924, 9], y=[32, 1], num_nodes=924, batch=[924], ptr=[33])\n",
            " - Batch 91: DataBatch(edge_index=[2, 2524], edge_attr=[2524, 3], x=[1134, 9], y=[32, 1], num_nodes=1134, batch=[1134], ptr=[33])\n",
            " - Batch 92: DataBatch(edge_index=[2, 2408], edge_attr=[2408, 3], x=[1097, 9], y=[32, 1], num_nodes=1097, batch=[1097], ptr=[33])\n",
            " - Batch 93: DataBatch(edge_index=[2, 2206], edge_attr=[2206, 3], x=[1016, 9], y=[32, 1], num_nodes=1016, batch=[1016], ptr=[33])\n",
            " - Batch 94: DataBatch(edge_index=[2, 2032], edge_attr=[2032, 3], x=[946, 9], y=[32, 1], num_nodes=946, batch=[946], ptr=[33])\n",
            " - Batch 95: DataBatch(edge_index=[2, 2562], edge_attr=[2562, 3], x=[1208, 9], y=[32, 1], num_nodes=1208, batch=[1208], ptr=[33])\n",
            " - Batch 96: DataBatch(edge_index=[2, 2302], edge_attr=[2302, 3], x=[1042, 9], y=[32, 1], num_nodes=1042, batch=[1042], ptr=[33])\n",
            " - Batch 97: DataBatch(edge_index=[2, 1882], edge_attr=[1882, 3], x=[849, 9], y=[32, 1], num_nodes=849, batch=[849], ptr=[33])\n",
            " - Batch 98: DataBatch(edge_index=[2, 1632], edge_attr=[1632, 3], x=[745, 9], y=[32, 1], num_nodes=745, batch=[745], ptr=[33])\n",
            " - Batch 99: DataBatch(edge_index=[2, 2176], edge_attr=[2176, 3], x=[1003, 9], y=[32, 1], num_nodes=1003, batch=[1003], ptr=[33])\n",
            " - Batch 100: DataBatch(edge_index=[2, 1970], edge_attr=[1970, 3], x=[907, 9], y=[32, 1], num_nodes=907, batch=[907], ptr=[33])\n",
            " - Batch 101: DataBatch(edge_index=[2, 1808], edge_attr=[1808, 3], x=[817, 9], y=[32, 1], num_nodes=817, batch=[817], ptr=[33])\n",
            " - Batch 102: DataBatch(edge_index=[2, 1584], edge_attr=[1584, 3], x=[713, 9], y=[32, 1], num_nodes=713, batch=[713], ptr=[33])\n",
            " - Batch 103: DataBatch(edge_index=[2, 1552], edge_attr=[1552, 3], x=[708, 9], y=[32, 1], num_nodes=708, batch=[708], ptr=[33])\n",
            " - Batch 104: DataBatch(edge_index=[2, 1758], edge_attr=[1758, 3], x=[806, 9], y=[32, 1], num_nodes=806, batch=[806], ptr=[33])\n",
            " - Batch 105: DataBatch(edge_index=[2, 1862], edge_attr=[1862, 3], x=[835, 9], y=[32, 1], num_nodes=835, batch=[835], ptr=[33])\n",
            " - Batch 106: DataBatch(edge_index=[2, 2254], edge_attr=[2254, 3], x=[1032, 9], y=[32, 1], num_nodes=1032, batch=[1032], ptr=[33])\n",
            " - Batch 107: DataBatch(edge_index=[2, 1846], edge_attr=[1846, 3], x=[850, 9], y=[32, 1], num_nodes=850, batch=[850], ptr=[33])\n",
            " - Batch 108: DataBatch(edge_index=[2, 2096], edge_attr=[2096, 3], x=[953, 9], y=[32, 1], num_nodes=953, batch=[953], ptr=[33])\n",
            " - Batch 109: DataBatch(edge_index=[2, 1840], edge_attr=[1840, 3], x=[828, 9], y=[32, 1], num_nodes=828, batch=[828], ptr=[33])\n",
            " - Batch 110: DataBatch(edge_index=[2, 2310], edge_attr=[2310, 3], x=[1064, 9], y=[32, 1], num_nodes=1064, batch=[1064], ptr=[33])\n",
            " - Batch 111: DataBatch(edge_index=[2, 2066], edge_attr=[2066, 3], x=[957, 9], y=[32, 1], num_nodes=957, batch=[957], ptr=[33])\n",
            " - Batch 112: DataBatch(edge_index=[2, 1740], edge_attr=[1740, 3], x=[797, 9], y=[32, 1], num_nodes=797, batch=[797], ptr=[33])\n",
            " - Batch 113: DataBatch(edge_index=[2, 1976], edge_attr=[1976, 3], x=[911, 9], y=[32, 1], num_nodes=911, batch=[911], ptr=[33])\n",
            " - Batch 114: DataBatch(edge_index=[2, 2032], edge_attr=[2032, 3], x=[925, 9], y=[32, 1], num_nodes=925, batch=[925], ptr=[33])\n",
            " - Batch 115: DataBatch(edge_index=[2, 1976], edge_attr=[1976, 3], x=[906, 9], y=[32, 1], num_nodes=906, batch=[906], ptr=[33])\n",
            " - Batch 116: DataBatch(edge_index=[2, 1842], edge_attr=[1842, 3], x=[838, 9], y=[32, 1], num_nodes=838, batch=[838], ptr=[33])\n",
            " - Batch 117: DataBatch(edge_index=[2, 1876], edge_attr=[1876, 3], x=[851, 9], y=[32, 1], num_nodes=851, batch=[851], ptr=[33])\n",
            " - Batch 118: DataBatch(edge_index=[2, 1586], edge_attr=[1586, 3], x=[726, 9], y=[32, 1], num_nodes=726, batch=[726], ptr=[33])\n",
            " - Batch 119: DataBatch(edge_index=[2, 1878], edge_attr=[1878, 3], x=[853, 9], y=[32, 1], num_nodes=853, batch=[853], ptr=[33])\n",
            " - Batch 120: DataBatch(edge_index=[2, 1968], edge_attr=[1968, 3], x=[909, 9], y=[32, 1], num_nodes=909, batch=[909], ptr=[33])\n",
            " - Batch 121: DataBatch(edge_index=[2, 1904], edge_attr=[1904, 3], x=[873, 9], y=[32, 1], num_nodes=873, batch=[873], ptr=[33])\n",
            " - Batch 122: DataBatch(edge_index=[2, 1992], edge_attr=[1992, 3], x=[885, 9], y=[32, 1], num_nodes=885, batch=[885], ptr=[33])\n",
            " - Batch 123: DataBatch(edge_index=[2, 2000], edge_attr=[2000, 3], x=[929, 9], y=[32, 1], num_nodes=929, batch=[929], ptr=[33])\n",
            " - Batch 124: DataBatch(edge_index=[2, 2104], edge_attr=[2104, 3], x=[960, 9], y=[32, 1], num_nodes=960, batch=[960], ptr=[33])\n",
            " - Batch 125: DataBatch(edge_index=[2, 2288], edge_attr=[2288, 3], x=[1047, 9], y=[32, 1], num_nodes=1047, batch=[1047], ptr=[33])\n",
            " - Batch 126: DataBatch(edge_index=[2, 2000], edge_attr=[2000, 3], x=[919, 9], y=[32, 1], num_nodes=919, batch=[919], ptr=[33])\n",
            " - Batch 127: DataBatch(edge_index=[2, 1944], edge_attr=[1944, 3], x=[885, 9], y=[32, 1], num_nodes=885, batch=[885], ptr=[33])\n",
            " - Batch 128: DataBatch(edge_index=[2, 714], edge_attr=[714, 3], x=[342, 9], y=[17, 1], num_nodes=342, batch=[342], ptr=[18])\n"
          ]
        }
      ],
      "source": [
        "for i, batch in enumerate(train_loader):\n",
        "    print(f' - Batch {i}: {batch}')\n",
        "\n",
        "print('\\nValidation loader:')\n",
        "for i, batch in enumerate(valid_loader):\n",
        "    print(f' - Batch {i}: {batch}')\n",
        "\n",
        "\n",
        "## train set has 1028 batchs\n",
        "## validation set has 128 batchs"
      ]
    },
    {
      "cell_type": "code",
      "execution_count": null,
      "metadata": {
        "id": "GgveIzd_gapx"
      },
      "outputs": [],
      "source": []
    },
    {
      "cell_type": "code",
      "execution_count": 94,
      "metadata": {
        "id": "gS8_OeK_gZv3"
      },
      "outputs": [],
      "source": [
        "## architecture from stanford project by william bruns\n",
        "# computes a node embedding using GINConv layers, then uses pooling to predict graph level properties\n",
        "class GINGraphPropertyModel(torch.nn.Module):\n",
        "    def __init__(self, hidden_dim, output_dim, num_layers, dropout_p):\n",
        "      super(GINGraphPropertyModel, self).__init__()\n",
        "      # fields used for computing node embedding\n",
        "      self.node_encoder = AtomEncoder(hidden_dim)\n",
        "\n",
        "      self.convs = torch.nn.ModuleList(\n",
        "          [torch_geometric.nn.conv.GINConv(MLP([hidden_dim, hidden_dim, hidden_dim])) for idx in range(0, num_layers)]\n",
        "      )\n",
        "      self.bns = torch.nn.ModuleList(\n",
        "          [torch.nn.BatchNorm1d(num_features = hidden_dim) for idx in range(0, num_layers - 1)]\n",
        "      )\n",
        "      self.dropout_p = dropout_p\n",
        "      # end fields used for computing node embedding\n",
        "      # fields for graph embedding\n",
        "      self.pool = global_add_pool\n",
        "      self.linear_hidden = torch.nn.Linear(hidden_dim, hidden_dim)\n",
        "      self.linear_out = torch.nn.Linear(hidden_dim, output_dim)\n",
        "      # end fields for graph embedding\n",
        "    def reset_parameters(self):\n",
        "      for conv in self.convs:\n",
        "        conv.reset_parameters()\n",
        "      for bn in self.bns:\n",
        "        bn.reset_parameters()\n",
        "      self.linear_hidden.reset_parameters()\n",
        "      self.linear_out.reset_parameters()\n",
        "    def forward(self, batched_data):\n",
        "      x, edge_index, batch = batched_data.x, batched_data.edge_index, batched_data.batch\n",
        "      # compute node embedding\n",
        "      x = self.node_encoder(x)\n",
        "      for idx in range(0, len(self.convs)):\n",
        "        x = self.convs[idx](x, edge_index)\n",
        "        if idx < len(self.convs) - 1:\n",
        "          x = self.bns[idx](x)\n",
        "          x = torch.nn.functional.relu(x)\n",
        "          x = torch.nn.functional.dropout(x, self.dropout_p, training=self.training)\n",
        "      # note x is raw logits, NOT softmax'd\n",
        "      # end computation of node embedding\n",
        "      # convert node embedding to a graph level embedding using pooling\n",
        "      x = self.pool(x, batch)\n",
        "      x = torch.nn.functional.dropout(x, self.dropout_p, training=self.training)\n",
        "      # transform the graph embedding to the output dimension\n",
        "      # MLP after graph embed ensures we are not requiring the raw pooled node embeddings to be linearly separable\n",
        "      x = self.linear_hidden(x)\n",
        "      x = torch.nn.functional.relu(x)\n",
        "      x = torch.nn.functional.dropout(x, self.dropout_p, training=self.training)\n",
        "      out = self.linear_out(x)\n",
        "      return out"
      ]
    },
    {
      "cell_type": "code",
      "execution_count": 95,
      "metadata": {
        "id": "NOK7Vso7qqc9"
      },
      "outputs": [],
      "source": [
        "\n",
        "\n",
        "# computes a node embedding using GCN layers, then uses pooling to predict graph level properties\n",
        "class GCNGraphPropertyModel(torch.nn.Module):\n",
        "    def __init__(self, hidden_dim, output_dim, num_layers, dropout_p):\n",
        "      super(GCNGraphPropertyModel, self).__init__()\n",
        "      # fields used for computing node embedding\n",
        "      self.node_encoder = AtomEncoder(hidden_dim)\n",
        "\n",
        "      self.convs = torch.nn.ModuleList(\n",
        "          [GCNConv(hidden_dim, hidden_dim) for _ in range(num_layers)]\n",
        "      )\n",
        "      self.bns = torch.nn.ModuleList(\n",
        "          [torch.nn.BatchNorm1d(num_features = hidden_dim) for idx in range(0, num_layers - 1)]\n",
        "      )\n",
        "      self.dropout_p = dropout_p\n",
        "      # end fields used for computing node embedding\n",
        "      # fields for graph embedding\n",
        "      self.pool = global_add_pool\n",
        "      self.linear_hidden = torch.nn.Linear(hidden_dim, hidden_dim)\n",
        "      self.linear_out = torch.nn.Linear(hidden_dim, output_dim)\n",
        "      # end fields for graph embedding\n",
        "    def reset_parameters(self):\n",
        "      for conv in self.convs:\n",
        "        conv.reset_parameters()\n",
        "      for bn in self.bns:\n",
        "        bn.reset_parameters()\n",
        "      self.linear_hidden.reset_parameters()\n",
        "      self.linear_out.reset_parameters()\n",
        "    def forward(self, batched_data):\n",
        "      x, edge_index, batch = batched_data.x, batched_data.edge_index, batched_data.batch\n",
        "      # compute node embedding\n",
        "      x = self.node_encoder(x)\n",
        "      for idx in range(0, len(self.convs)):\n",
        "        x = self.convs[idx](x, edge_index)\n",
        "        if idx < len(self.convs) - 1:\n",
        "          x = self.bns[idx](x)\n",
        "          x = torch.nn.functional.relu(x)\n",
        "          x = torch.nn.functional.dropout(x, self.dropout_p, training=self.training)\n",
        "      # note x is raw logits, NOT softmax'd\n",
        "      # end computation of node embedding\n",
        "      # convert node embedding to a graph level embedding using pooling\n",
        "      x = self.pool(x, batch)\n",
        "      x = torch.nn.functional.dropout(x, self.dropout_p, training=self.training)\n",
        "      # transform the graph embedding to the output dimension\n",
        "      # MLP after graph embed ensures we are not requiring the raw pooled node embeddings to be linearly separable\n",
        "      x = self.linear_hidden(x)\n",
        "      x = torch.nn.functional.relu(x)\n",
        "      x = torch.nn.functional.dropout(x, self.dropout_p, training=self.training)\n",
        "      out = self.linear_out(x)\n",
        "      return out"
      ]
    },
    {
      "cell_type": "code",
      "execution_count": null,
      "metadata": {
        "id": "-SDHr4s_qqUm"
      },
      "outputs": [],
      "source": []
    },
    {
      "cell_type": "code",
      "execution_count": 118,
      "metadata": {
        "id": "XlKRRiergZop"
      },
      "outputs": [],
      "source": [
        "# can be used with multiple task outputs (like for molpcba) or single task output;\n",
        "# and supports using just the first output of a multi-task model if applied to a single task (for pretraining molpcba and transferring to molhiv)\n",
        "def train(model, device, data_loader, optimizer, loss_fn):\n",
        "  model.train()\n",
        "  for step, batch in enumerate(tqdm(data_loader, desc=\"Training batch\")):\n",
        "    batch = batch.to(device)\n",
        "    if batch.x.shape[0] != 1 and batch.batch[-1] != 0:\n",
        "      # ignore nan targets (unlabeled) when computing training loss.\n",
        "      non_nan = batch.y == batch.y\n",
        "      loss = None\n",
        "      optimizer.zero_grad()\n",
        "      out = model(batch)\n",
        "      non_nan = non_nan[:min(non_nan.shape[0], out.shape[0])]\n",
        "      batch_y = batch.y[:out.shape[0], :]\n",
        "      # for crudely adapting multitask models to single task data\n",
        "      if batch.y.shape[1] == 1:\n",
        "        out = out[:, 0]\n",
        "        batch_y = batch_y[:, 0]\n",
        "        non_nan = batch_y == batch_y\n",
        "        loss = loss_fn(out[non_nan].reshape(-1, 1)*1., batch_y[non_nan].reshape(-1, 1)*1.)\n",
        "      else:\n",
        "        loss = loss_fn(out[non_nan], batch_y[non_nan])\n",
        "      loss.backward()\n",
        "      optimizer.step()\n",
        "  return loss.item()\n",
        "\n",
        "def eval(model, device, loader, evaluator, save_model_results=False, save_filename=None):\n",
        "  model.eval()\n",
        "  y_true = []\n",
        "  y_pred = []\n",
        "  for step, batch in enumerate(tqdm(loader, desc=\"Evaluation batch\")):\n",
        "      batch = batch.to(device)\n",
        "      if batch.x.shape[0] == 1:\n",
        "          pass\n",
        "      else:\n",
        "          with torch.no_grad():\n",
        "              pred = model(batch)\n",
        "              # for crudely adapting multitask models to single task data\n",
        "              if batch.y.shape[1] == 1:\n",
        "                pred = pred[:, 0]\n",
        "              batch_y = batch.y[:min(pred.shape[0], batch.y.shape[0])]\n",
        "              y_true.append(batch_y.view(pred.shape).detach().cpu())\n",
        "              y_pred.append(pred.detach().cpu())\n",
        "  y_true = torch.cat(y_true, dim=0).numpy()\n",
        "  y_pred = torch.cat(y_pred, dim=0).numpy()\n",
        "  input_dict = {\"y_true\": y_true.reshape(-1, 1) if batch.y.shape[1] == 1 else y_true, \"y_pred\": y_pred.reshape(-1, 1) if batch.y.shape[1] == 1 else y_pred}\n",
        "  if save_model_results:\n",
        "      single_task = len(y_true.shape) == 1 or y_true.shape[1] == 1\n",
        "      if single_task:\n",
        "          data = {\n",
        "              'y_pred': y_pred.squeeze(),\n",
        "              'y_true': y_true.squeeze()\n",
        "          }\n",
        "          pd.DataFrame(data=data).to_csv('ogbg_graph_' + save_filename + '.csv', sep=',', index=False)\n",
        "      else:\n",
        "          num_tasks = y_true.shape[1]\n",
        "          for task_idx in range(num_tasks):\n",
        "              data = {\n",
        "                  'y_pred': y_pred[:, task_idx].squeeze(),\n",
        "                  'y_true': y_true[:, task_idx].squeeze()\n",
        "              }\n",
        "              pd.DataFrame(data=data).to_csv('ogbg_graph_' + save_filename + f'_task_{task_idx}.csv', sep=',', index=False)\n",
        "  return evaluator.eval(input_dict)\n",
        "\n",
        "def combined_eval(gin_model, gcn_model, device, loader, evaluator):\n",
        "    gin_model.eval()\n",
        "    gcn_model.eval()\n",
        "\n",
        "    y_true = []\n",
        "    y_pred = []\n",
        "\n",
        "    for step, batch in enumerate(tqdm(loader, desc=\"Evaluation batch\")):\n",
        "      batch = batch.to(device)\n",
        "      if batch.x.shape[0] == 1:\n",
        "        pass\n",
        "      else:\n",
        "        with torch.no_grad():\n",
        "          pred1 = gin_model(batch)\n",
        "          pred2 = gcn_model(batch)\n",
        "          pred = (pred1 + pred2) / 2\n",
        "\n",
        "          if batch.y.shape[1] == 1:\n",
        "            pred = pred[:, 0]\n",
        "          batch_y = batch.y[:min(pred.shape[0], batch.y.shape[0])]\n",
        "          y_true.append(batch_y.view(pred.shape).detach().cpu())\n",
        "          y_pred.append(pred.detach().cpu())\n",
        "\n",
        "    y_true = torch.cat(y_true, dim=0).numpy()\n",
        "    y_pred = torch.cat(y_pred, dim=0).numpy()\n",
        "    input_dict = {\"y_true\": y_true.reshape(-1, 1) if batch.y.shape[1] == 1 else y_true, \"y_pred\": y_pred.reshape(-1, 1) if batch.y.shape[1] == 1 else y_pred}\n",
        "    # if save_model_results:\n",
        "    #     single_task = len(y_true.shape) == 1 or y_true.shape[1] == 1\n",
        "    #     if single_task:\n",
        "    #         data = {\n",
        "    #             'y_pred': y_pred.squeeze(),\n",
        "    #             'y_true': y_true.squeeze()\n",
        "    #         }\n",
        "    #         pd.DataFrame(data=data).to_csv('ogbg_graph_' + save_filename + '.csv', sep=',', index=False)\n",
        "    #     else:\n",
        "    #         num_tasks = y_true.shape[1]\n",
        "    #         for task_idx in range(num_tasks):\n",
        "    #             data = {\n",
        "    #                 'y_pred': y_pred[:, task_idx].squeeze(),\n",
        "    #                 'y_true': y_true[:, task_idx].squeeze()\n",
        "    #             }\n",
        "    #             pd.DataFrame(data=data).to_csv('ogbg_graph_' + save_filename + f'_task_{task_idx}.csv', sep=',', index=False)\n",
        "    return evaluator.eval(input_dict)\n",
        "\n",
        "\n",
        "# Run combined evaluation on the validation set\n",
        "# combined_val_performance = combined_eval(gin_model, gcn_model, device, valid_loader, evaluator)\n",
        "# print(\"Combined Validation Performance:\", combined_val_performance)\n",
        "\n"
      ]
    },
    {
      "cell_type": "code",
      "execution_count": 107,
      "metadata": {
        "colab": {
          "base_uri": "https://localhost:8080/"
        },
        "id": "axweO2flr2QR",
        "outputId": "f73bac8a-a899-489d-a559-6b7a668f7222"
      },
      "outputs": [
        {
          "name": "stdout",
          "output_type": "stream",
          "text": [
            "parameter count: 23809\n"
          ]
        },
        {
          "name": "stderr",
          "output_type": "stream",
          "text": [
            "Training batch: 100%|██████████| 1029/1029 [00:08<00:00, 117.52it/s]\n",
            "Evaluation batch: 100%|██████████| 1029/1029 [00:05<00:00, 201.67it/s]\n",
            "Evaluation batch: 100%|██████████| 129/129 [00:00<00:00, 209.10it/s]\n"
          ]
        },
        {
          "name": "stdout",
          "output_type": "stream",
          "text": [
            "New best validation score: 0.5548176317852244 (rocauc) without training score regression\n",
            "Dataset ogbg-molhiv,  Epoch: 1,  Train: 0.575244 (rocauc),  Valid: 0.554818 (rocauc), \n"
          ]
        },
        {
          "name": "stderr",
          "output_type": "stream",
          "text": [
            "Training batch: 100%|██████████| 1029/1029 [00:08<00:00, 116.80it/s]\n",
            "Evaluation batch: 100%|██████████| 1029/1029 [00:05<00:00, 202.35it/s]\n",
            "Evaluation batch: 100%|██████████| 129/129 [00:00<00:00, 204.15it/s]\n"
          ]
        },
        {
          "name": "stdout",
          "output_type": "stream",
          "text": [
            "New best validation score: 0.5916709533607682 (rocauc) without training score regression\n",
            "Dataset ogbg-molhiv,  Epoch: 2,  Train: 0.622812 (rocauc),  Valid: 0.591671 (rocauc), \n"
          ]
        },
        {
          "name": "stderr",
          "output_type": "stream",
          "text": [
            "Training batch: 100%|██████████| 1029/1029 [00:08<00:00, 115.79it/s]\n",
            "Evaluation batch: 100%|██████████| 1029/1029 [00:05<00:00, 200.02it/s]\n",
            "Evaluation batch: 100%|██████████| 129/129 [00:00<00:00, 212.41it/s]\n"
          ]
        },
        {
          "name": "stdout",
          "output_type": "stream",
          "text": [
            "New best validation score: 0.6083951842053694 (rocauc) without training score regression\n",
            "Dataset ogbg-molhiv,  Epoch: 3,  Train: 0.675794 (rocauc),  Valid: 0.608395 (rocauc), \n"
          ]
        },
        {
          "name": "stderr",
          "output_type": "stream",
          "text": [
            "Training batch: 100%|██████████| 1029/1029 [00:08<00:00, 117.66it/s]\n",
            "Evaluation batch: 100%|██████████| 1029/1029 [00:04<00:00, 206.68it/s]\n",
            "Evaluation batch: 100%|██████████| 129/129 [00:00<00:00, 206.40it/s]\n"
          ]
        },
        {
          "name": "stdout",
          "output_type": "stream",
          "text": [
            "New best validation score: 0.635603444052518 (rocauc) without training score regression\n",
            "Dataset ogbg-molhiv,  Epoch: 4,  Train: 0.678607 (rocauc),  Valid: 0.635603 (rocauc), \n"
          ]
        },
        {
          "name": "stderr",
          "output_type": "stream",
          "text": [
            "Training batch: 100%|██████████| 1029/1029 [00:08<00:00, 117.52it/s]\n",
            "Evaluation batch: 100%|██████████| 1029/1029 [00:04<00:00, 206.27it/s]\n",
            "Evaluation batch: 100%|██████████| 129/129 [00:00<00:00, 209.81it/s]\n"
          ]
        },
        {
          "name": "stdout",
          "output_type": "stream",
          "text": [
            "New best validation score: 0.6478205222418185 (rocauc) without training score regression\n",
            "Dataset ogbg-molhiv,  Epoch: 5,  Train: 0.736403 (rocauc),  Valid: 0.647821 (rocauc), \n"
          ]
        },
        {
          "name": "stderr",
          "output_type": "stream",
          "text": [
            "Training batch: 100%|██████████| 1029/1029 [00:08<00:00, 117.28it/s]\n",
            "Evaluation batch: 100%|██████████| 1029/1029 [00:05<00:00, 204.03it/s]\n",
            "Evaluation batch: 100%|██████████| 129/129 [00:00<00:00, 210.82it/s]\n"
          ]
        },
        {
          "name": "stdout",
          "output_type": "stream",
          "text": [
            "Dataset ogbg-molhiv,  Epoch: 6,  Train: 0.732728 (rocauc),  Valid: 0.717755 (rocauc), \n"
          ]
        },
        {
          "name": "stderr",
          "output_type": "stream",
          "text": [
            "Training batch: 100%|██████████| 1029/1029 [00:08<00:00, 118.00it/s]\n",
            "Evaluation batch: 100%|██████████| 1029/1029 [00:05<00:00, 204.67it/s]\n",
            "Evaluation batch: 100%|██████████| 129/129 [00:00<00:00, 204.92it/s]\n"
          ]
        },
        {
          "name": "stdout",
          "output_type": "stream",
          "text": [
            "Dataset ogbg-molhiv,  Epoch: 7,  Train: 0.735490 (rocauc),  Valid: 0.735831 (rocauc), \n"
          ]
        },
        {
          "name": "stderr",
          "output_type": "stream",
          "text": [
            "Training batch: 100%|██████████| 1029/1029 [00:08<00:00, 116.73it/s]\n",
            "Evaluation batch: 100%|██████████| 1029/1029 [00:04<00:00, 207.71it/s]\n",
            "Evaluation batch: 100%|██████████| 129/129 [00:00<00:00, 214.59it/s]\n"
          ]
        },
        {
          "name": "stdout",
          "output_type": "stream",
          "text": [
            "Dataset ogbg-molhiv,  Epoch: 8,  Train: 0.716193 (rocauc),  Valid: 0.681780 (rocauc), \n"
          ]
        },
        {
          "name": "stderr",
          "output_type": "stream",
          "text": [
            "Training batch: 100%|██████████| 1029/1029 [00:08<00:00, 118.24it/s]\n",
            "Evaluation batch: 100%|██████████| 1029/1029 [00:05<00:00, 204.98it/s]\n",
            "Evaluation batch: 100%|██████████| 129/129 [00:00<00:00, 209.63it/s]\n"
          ]
        },
        {
          "name": "stdout",
          "output_type": "stream",
          "text": [
            "New best validation score: 0.7322194052518127 (rocauc) without training score regression\n",
            "Dataset ogbg-molhiv,  Epoch: 9,  Train: 0.755528 (rocauc),  Valid: 0.732219 (rocauc), \n"
          ]
        },
        {
          "name": "stderr",
          "output_type": "stream",
          "text": [
            "Training batch: 100%|██████████| 1029/1029 [00:08<00:00, 117.05it/s]\n",
            "Evaluation batch: 100%|██████████| 1029/1029 [00:04<00:00, 206.95it/s]\n",
            "Evaluation batch: 100%|██████████| 129/129 [00:00<00:00, 211.78it/s]\n"
          ]
        },
        {
          "name": "stdout",
          "output_type": "stream",
          "text": [
            "New best validation score: 0.7439894424848129 (rocauc) without training score regression\n",
            "Dataset ogbg-molhiv,  Epoch: 10,  Train: 0.757519 (rocauc),  Valid: 0.743989 (rocauc), \n"
          ]
        },
        {
          "name": "stderr",
          "output_type": "stream",
          "text": [
            "Training batch: 100%|██████████| 1029/1029 [00:08<00:00, 119.14it/s]\n",
            "Evaluation batch: 100%|██████████| 1029/1029 [00:04<00:00, 207.56it/s]\n",
            "Evaluation batch: 100%|██████████| 129/129 [00:00<00:00, 209.44it/s]\n"
          ]
        },
        {
          "name": "stdout",
          "output_type": "stream",
          "text": [
            "Dataset ogbg-molhiv,  Epoch: 11,  Train: 0.768113 (rocauc),  Valid: 0.742786 (rocauc), \n"
          ]
        },
        {
          "name": "stderr",
          "output_type": "stream",
          "text": [
            "Training batch: 100%|██████████| 1029/1029 [00:08<00:00, 119.08it/s]\n",
            "Evaluation batch: 100%|██████████| 1029/1029 [00:04<00:00, 207.46it/s]\n",
            "Evaluation batch: 100%|██████████| 129/129 [00:00<00:00, 213.56it/s]\n"
          ]
        },
        {
          "name": "stdout",
          "output_type": "stream",
          "text": [
            "Dataset ogbg-molhiv,  Epoch: 12,  Train: 0.761898 (rocauc),  Valid: 0.722051 (rocauc), \n"
          ]
        },
        {
          "name": "stderr",
          "output_type": "stream",
          "text": [
            "Training batch: 100%|██████████| 1029/1029 [00:08<00:00, 120.30it/s]\n",
            "Evaluation batch: 100%|██████████| 1029/1029 [00:04<00:00, 206.97it/s]\n",
            "Evaluation batch: 100%|██████████| 129/129 [00:00<00:00, 212.28it/s]\n"
          ]
        },
        {
          "name": "stdout",
          "output_type": "stream",
          "text": [
            "Dataset ogbg-molhiv,  Epoch: 13,  Train: 0.766882 (rocauc),  Valid: 0.734788 (rocauc), \n"
          ]
        },
        {
          "name": "stderr",
          "output_type": "stream",
          "text": [
            "Training batch: 100%|██████████| 1029/1029 [00:08<00:00, 119.04it/s]\n",
            "Evaluation batch: 100%|██████████| 1029/1029 [00:04<00:00, 207.90it/s]\n",
            "Evaluation batch: 100%|██████████| 129/129 [00:00<00:00, 211.40it/s]\n"
          ]
        },
        {
          "name": "stdout",
          "output_type": "stream",
          "text": [
            "New best validation score: 0.7657046100333138 (rocauc) without training score regression\n",
            "Dataset ogbg-molhiv,  Epoch: 14,  Train: 0.764440 (rocauc),  Valid: 0.765705 (rocauc), \n"
          ]
        },
        {
          "name": "stderr",
          "output_type": "stream",
          "text": [
            "Training batch: 100%|██████████| 1029/1029 [00:08<00:00, 118.42it/s]\n",
            "Evaluation batch: 100%|██████████| 1029/1029 [00:04<00:00, 208.29it/s]\n",
            "Evaluation batch: 100%|██████████| 129/129 [00:00<00:00, 210.82it/s]\n"
          ]
        },
        {
          "name": "stdout",
          "output_type": "stream",
          "text": [
            "Dataset ogbg-molhiv,  Epoch: 15,  Train: 0.772671 (rocauc),  Valid: 0.748321 (rocauc), \n"
          ]
        },
        {
          "name": "stderr",
          "output_type": "stream",
          "text": [
            "Training batch: 100%|██████████| 1029/1029 [00:08<00:00, 119.02it/s]\n",
            "Evaluation batch: 100%|██████████| 1029/1029 [00:05<00:00, 203.44it/s]\n",
            "Evaluation batch: 100%|██████████| 129/129 [00:00<00:00, 212.60it/s]\n"
          ]
        },
        {
          "name": "stdout",
          "output_type": "stream",
          "text": [
            "Dataset ogbg-molhiv,  Epoch: 16,  Train: 0.774685 (rocauc),  Valid: 0.752315 (rocauc), \n"
          ]
        },
        {
          "name": "stderr",
          "output_type": "stream",
          "text": [
            "Training batch: 100%|██████████| 1029/1029 [00:08<00:00, 119.40it/s]\n",
            "Evaluation batch: 100%|██████████| 1029/1029 [00:04<00:00, 208.70it/s]\n",
            "Evaluation batch: 100%|██████████| 129/129 [00:00<00:00, 210.21it/s]\n"
          ]
        },
        {
          "name": "stdout",
          "output_type": "stream",
          "text": [
            "Dataset ogbg-molhiv,  Epoch: 17,  Train: 0.766932 (rocauc),  Valid: 0.717657 (rocauc), \n"
          ]
        },
        {
          "name": "stderr",
          "output_type": "stream",
          "text": [
            "Training batch: 100%|██████████| 1029/1029 [00:08<00:00, 120.75it/s]\n",
            "Evaluation batch: 100%|██████████| 1029/1029 [00:05<00:00, 205.54it/s]\n",
            "Evaluation batch: 100%|██████████| 129/129 [00:00<00:00, 213.30it/s]\n"
          ]
        },
        {
          "name": "stdout",
          "output_type": "stream",
          "text": [
            "Dataset ogbg-molhiv,  Epoch: 18,  Train: 0.778308 (rocauc),  Valid: 0.748954 (rocauc), \n"
          ]
        },
        {
          "name": "stderr",
          "output_type": "stream",
          "text": [
            "Training batch: 100%|██████████| 1029/1029 [00:08<00:00, 120.30it/s]\n",
            "Evaluation batch: 100%|██████████| 1029/1029 [00:05<00:00, 204.11it/s]\n",
            "Evaluation batch: 100%|██████████| 129/129 [00:00<00:00, 215.44it/s]\n"
          ]
        },
        {
          "name": "stdout",
          "output_type": "stream",
          "text": [
            "Dataset ogbg-molhiv,  Epoch: 19,  Train: 0.775067 (rocauc),  Valid: 0.756510 (rocauc), \n"
          ]
        },
        {
          "name": "stderr",
          "output_type": "stream",
          "text": [
            "Training batch: 100%|██████████| 1029/1029 [00:08<00:00, 119.81it/s]\n",
            "Evaluation batch: 100%|██████████| 1029/1029 [00:04<00:00, 206.23it/s]\n",
            "Evaluation batch: 100%|██████████| 129/129 [00:00<00:00, 211.65it/s]\n"
          ]
        },
        {
          "name": "stdout",
          "output_type": "stream",
          "text": [
            "Dataset ogbg-molhiv,  Epoch: 20,  Train: 0.780727 (rocauc),  Valid: 0.733986 (rocauc), \n"
          ]
        },
        {
          "name": "stderr",
          "output_type": "stream",
          "text": [
            "Training batch: 100%|██████████| 1029/1029 [00:08<00:00, 118.47it/s]\n",
            "Evaluation batch: 100%|██████████| 1029/1029 [00:04<00:00, 206.43it/s]\n",
            "Evaluation batch: 100%|██████████| 129/129 [00:00<00:00, 214.54it/s]\n"
          ]
        },
        {
          "name": "stdout",
          "output_type": "stream",
          "text": [
            "Dataset ogbg-molhiv,  Epoch: 21,  Train: 0.775274 (rocauc),  Valid: 0.751251 (rocauc), \n"
          ]
        },
        {
          "name": "stderr",
          "output_type": "stream",
          "text": [
            "Training batch: 100%|██████████| 1029/1029 [00:08<00:00, 119.43it/s]\n",
            "Evaluation batch: 100%|██████████| 1029/1029 [00:04<00:00, 208.69it/s]\n",
            "Evaluation batch: 100%|██████████| 129/129 [00:00<00:00, 210.69it/s]\n"
          ]
        },
        {
          "name": "stdout",
          "output_type": "stream",
          "text": [
            "Dataset ogbg-molhiv,  Epoch: 22,  Train: 0.782036 (rocauc),  Valid: 0.751828 (rocauc), \n"
          ]
        },
        {
          "name": "stderr",
          "output_type": "stream",
          "text": [
            "Training batch: 100%|██████████| 1029/1029 [00:08<00:00, 119.70it/s]\n",
            "Evaluation batch: 100%|██████████| 1029/1029 [00:04<00:00, 207.31it/s]\n",
            "Evaluation batch: 100%|██████████| 129/129 [00:00<00:00, 212.58it/s]\n"
          ]
        },
        {
          "name": "stdout",
          "output_type": "stream",
          "text": [
            "Dataset ogbg-molhiv,  Epoch: 23,  Train: 0.785038 (rocauc),  Valid: 0.750248 (rocauc), \n"
          ]
        },
        {
          "name": "stderr",
          "output_type": "stream",
          "text": [
            "Training batch: 100%|██████████| 1029/1029 [00:08<00:00, 120.03it/s]\n",
            "Evaluation batch: 100%|██████████| 1029/1029 [00:05<00:00, 202.02it/s]\n",
            "Evaluation batch: 100%|██████████| 129/129 [00:00<00:00, 202.24it/s]\n"
          ]
        },
        {
          "name": "stdout",
          "output_type": "stream",
          "text": [
            "Dataset ogbg-molhiv,  Epoch: 24,  Train: 0.784143 (rocauc),  Valid: 0.760482 (rocauc), \n"
          ]
        },
        {
          "name": "stderr",
          "output_type": "stream",
          "text": [
            "Training batch: 100%|██████████| 1029/1029 [00:08<00:00, 114.85it/s]\n",
            "Evaluation batch: 100%|██████████| 1029/1029 [00:05<00:00, 201.25it/s]\n",
            "Evaluation batch: 100%|██████████| 129/129 [00:00<00:00, 210.32it/s]\n"
          ]
        },
        {
          "name": "stdout",
          "output_type": "stream",
          "text": [
            "Dataset ogbg-molhiv,  Epoch: 25,  Train: 0.783329 (rocauc),  Valid: 0.746248 (rocauc), \n"
          ]
        },
        {
          "name": "stderr",
          "output_type": "stream",
          "text": [
            "Evaluation batch: 100%|██████████| 1029/1029 [00:04<00:00, 206.13it/s]\n",
            "Evaluation batch: 100%|██████████| 129/129 [00:00<00:00, 182.38it/s]"
          ]
        },
        {
          "name": "stdout",
          "output_type": "stream",
          "text": [
            "Best model for ogbg-molhiv (eval metric rocauc):  Train: 0.764440,  Valid: 0.765705 \n",
            "parameter count: 23809\n"
          ]
        },
        {
          "name": "stderr",
          "output_type": "stream",
          "text": [
            "\n"
          ]
        }
      ],
      "source": [
        "\n",
        "model2 = GCNGraphPropertyModel(config['hidden_dim'], dataset.num_tasks, config['num_layers'], config['dropout']).to(device)\n",
        "print(f\"parameter count: {sum(p.numel() for p in model2.parameters())}\")\n",
        "model2.reset_parameters()\n",
        "\n",
        "optimizer = torch.optim.Adam(model2.parameters(), lr=config['learning_rate'], weight_decay=config['weight_decay'])\n",
        "loss_fn = torch.nn.BCEWithLogitsLoss()\n",
        "best_model2 = None\n",
        "best_valid_metric_at_save_checkpoint = 0\n",
        "best_train_metric_at_save_checkpoint = 0\n",
        "\n",
        "for epoch in range(1, 1 + config[\"epochs\"]):\n",
        "  if epoch == 10:\n",
        "    # reduce learning rate at this point\n",
        "    optimizer = torch.optim.Adam(model2.parameters(), lr=config['learning_rate']*0.5, weight_decay=config['weight_decay'])\n",
        "  loss = train(model2, device, train_loader, optimizer, loss_fn)\n",
        "  train_perf = eval(model2, device, train_loader, evaluator)\n",
        "  val_perf = eval(model2, device, valid_loader, evaluator)\n",
        "\n",
        "  train_metric, valid_metric = train_perf[dataset.eval_metric], val_perf[dataset.eval_metric]\n",
        "  if valid_metric >= best_valid_metric_at_save_checkpoint and train_metric >= best_train_metric_at_save_checkpoint:\n",
        "    print(f\"New best validation score: {valid_metric} ({dataset.eval_metric}) without training score regression\")\n",
        "    best_valid_metric_at_save_checkpoint = valid_metric\n",
        "    best_train_metric_at_save_checkpoint = train_metric\n",
        "    best_model2 = copy.deepcopy(model2)\n",
        "  print(f'Dataset {config[\"dataset_id\"]}, ',\n",
        "    f'Epoch: {epoch}, ',\n",
        "    f'Train: {train_metric:.6f} ({dataset.eval_metric}), ',\n",
        "    f'Valid: {valid_metric:.6f} ({dataset.eval_metric}), ')\n",
        "\n",
        "with open(f\"best_{config['dataset_id']}_gcn_model_{config['num_layers']}_layers_{config['hidden_dim']}_hidden.pkl\", \"wb\") as f:\n",
        "  pickle.dump(best_model2, f)\n",
        "\n",
        "train_metric = eval(best_model2, device, train_loader, evaluator)[dataset.eval_metric]\n",
        "valid_metric = eval(best_model2, device, valid_loader, evaluator, save_model_results=True, save_filename=f\"gcn_{config['dataset_id']}_valid\")[dataset.eval_metric]\n",
        "test_metric = None\n",
        "\n",
        "print(f'Best model for {config[\"dataset_id\"]} (eval metric {dataset.eval_metric}): ',\n",
        "      f'Train: {train_metric:.6f}, ',\n",
        "      f'Valid: {valid_metric:.6f} ')\n",
        "print(f\"parameter count: {sum(p.numel() for p in best_model.parameters())}\")"
      ]
    },
    {
      "cell_type": "markdown",
      "metadata": {
        "id": "9mUIcz4syB4Z"
      },
      "source": [
        "GCN based model performance\n",
        "\n",
        "Train: 0.76\n",
        "\n",
        "Validation set: 0.76"
      ]
    },
    {
      "cell_type": "code",
      "execution_count": 113,
      "metadata": {
        "colab": {
          "base_uri": "https://localhost:8080/"
        },
        "id": "LDjHDUSbj0bb",
        "outputId": "9a12a245-0ce1-4bb9-d9fc-ddbd5f81e4ee"
      },
      "outputs": [
        {
          "name": "stdout",
          "output_type": "stream",
          "text": [
            "parameter count: 32385\n"
          ]
        },
        {
          "name": "stderr",
          "output_type": "stream",
          "text": [
            "Training batch: 100%|██████████| 1029/1029 [00:08<00:00, 117.76it/s]\n",
            "Evaluation batch: 100%|██████████| 1029/1029 [00:04<00:00, 232.92it/s]\n",
            "Evaluation batch: 100%|██████████| 129/129 [00:00<00:00, 234.06it/s]\n"
          ]
        },
        {
          "name": "stdout",
          "output_type": "stream",
          "text": [
            "New best validation score: 0.6264666617675877 (rocauc) without training score regression\n",
            "Dataset ogbg-molhiv,  Epoch: 1,  Train: 0.646297 (rocauc),  Valid: 0.626467 (rocauc), \n"
          ]
        },
        {
          "name": "stderr",
          "output_type": "stream",
          "text": [
            "Training batch: 100%|██████████| 1029/1029 [00:08<00:00, 117.72it/s]\n",
            "Evaluation batch: 100%|██████████| 1029/1029 [00:04<00:00, 230.62it/s]\n",
            "Evaluation batch: 100%|██████████| 129/129 [00:00<00:00, 235.55it/s]\n"
          ]
        },
        {
          "name": "stdout",
          "output_type": "stream",
          "text": [
            "New best validation score: 0.693259479717813 (rocauc) without training score regression\n",
            "Dataset ogbg-molhiv,  Epoch: 2,  Train: 0.712402 (rocauc),  Valid: 0.693259 (rocauc), \n"
          ]
        },
        {
          "name": "stderr",
          "output_type": "stream",
          "text": [
            "Training batch: 100%|██████████| 1029/1029 [00:08<00:00, 118.56it/s]\n",
            "Evaluation batch: 100%|██████████| 1029/1029 [00:04<00:00, 231.05it/s]\n",
            "Evaluation batch: 100%|██████████| 129/129 [00:00<00:00, 232.77it/s]\n"
          ]
        },
        {
          "name": "stdout",
          "output_type": "stream",
          "text": [
            "Dataset ogbg-molhiv,  Epoch: 3,  Train: 0.728549 (rocauc),  Valid: 0.684564 (rocauc), \n"
          ]
        },
        {
          "name": "stderr",
          "output_type": "stream",
          "text": [
            "Training batch: 100%|██████████| 1029/1029 [00:08<00:00, 118.82it/s]\n",
            "Evaluation batch: 100%|██████████| 1029/1029 [00:04<00:00, 230.24it/s]\n",
            "Evaluation batch: 100%|██████████| 129/129 [00:00<00:00, 235.83it/s]\n"
          ]
        },
        {
          "name": "stdout",
          "output_type": "stream",
          "text": [
            "New best validation score: 0.6945914168136391 (rocauc) without training score regression\n",
            "Dataset ogbg-molhiv,  Epoch: 4,  Train: 0.749483 (rocauc),  Valid: 0.694591 (rocauc), \n"
          ]
        },
        {
          "name": "stderr",
          "output_type": "stream",
          "text": [
            "Training batch: 100%|██████████| 1029/1029 [00:08<00:00, 117.97it/s]\n",
            "Evaluation batch: 100%|██████████| 1029/1029 [00:04<00:00, 229.58it/s]\n",
            "Evaluation batch: 100%|██████████| 129/129 [00:00<00:00, 233.46it/s]\n"
          ]
        },
        {
          "name": "stdout",
          "output_type": "stream",
          "text": [
            "Dataset ogbg-molhiv,  Epoch: 5,  Train: 0.742775 (rocauc),  Valid: 0.675323 (rocauc), \n"
          ]
        },
        {
          "name": "stderr",
          "output_type": "stream",
          "text": [
            "Training batch: 100%|██████████| 1029/1029 [00:08<00:00, 118.86it/s]\n",
            "Evaluation batch: 100%|██████████| 1029/1029 [00:04<00:00, 230.52it/s]\n",
            "Evaluation batch: 100%|██████████| 129/129 [00:00<00:00, 237.02it/s]\n"
          ]
        },
        {
          "name": "stdout",
          "output_type": "stream",
          "text": [
            "New best validation score: 0.7170567558299039 (rocauc) without training score regression\n",
            "Dataset ogbg-molhiv,  Epoch: 6,  Train: 0.761924 (rocauc),  Valid: 0.717057 (rocauc), \n"
          ]
        },
        {
          "name": "stderr",
          "output_type": "stream",
          "text": [
            "Training batch: 100%|██████████| 1029/1029 [00:08<00:00, 117.84it/s]\n",
            "Evaluation batch: 100%|██████████| 1029/1029 [00:04<00:00, 233.06it/s]\n",
            "Evaluation batch: 100%|██████████| 129/129 [00:00<00:00, 233.33it/s]\n"
          ]
        },
        {
          "name": "stdout",
          "output_type": "stream",
          "text": [
            "Dataset ogbg-molhiv,  Epoch: 7,  Train: 0.771187 (rocauc),  Valid: 0.702363 (rocauc), \n"
          ]
        },
        {
          "name": "stderr",
          "output_type": "stream",
          "text": [
            "Training batch: 100%|██████████| 1029/1029 [00:08<00:00, 117.93it/s]\n",
            "Evaluation batch: 100%|██████████| 1029/1029 [00:04<00:00, 231.20it/s]\n",
            "Evaluation batch: 100%|██████████| 129/129 [00:00<00:00, 233.35it/s]\n"
          ]
        },
        {
          "name": "stdout",
          "output_type": "stream",
          "text": [
            "Dataset ogbg-molhiv,  Epoch: 8,  Train: 0.772307 (rocauc),  Valid: 0.686695 (rocauc), \n"
          ]
        },
        {
          "name": "stderr",
          "output_type": "stream",
          "text": [
            "Training batch: 100%|██████████| 1029/1029 [00:08<00:00, 118.01it/s]\n",
            "Evaluation batch: 100%|██████████| 1029/1029 [00:04<00:00, 229.20it/s]\n",
            "Evaluation batch: 100%|██████████| 129/129 [00:00<00:00, 239.72it/s]\n"
          ]
        },
        {
          "name": "stdout",
          "output_type": "stream",
          "text": [
            "Dataset ogbg-molhiv,  Epoch: 9,  Train: 0.765707 (rocauc),  Valid: 0.699227 (rocauc), \n"
          ]
        },
        {
          "name": "stderr",
          "output_type": "stream",
          "text": [
            "Training batch: 100%|██████████| 1029/1029 [00:08<00:00, 117.21it/s]\n",
            "Evaluation batch: 100%|██████████| 1029/1029 [00:04<00:00, 229.91it/s]\n",
            "Evaluation batch: 100%|██████████| 129/129 [00:00<00:00, 236.28it/s]\n"
          ]
        },
        {
          "name": "stdout",
          "output_type": "stream",
          "text": [
            "New best validation score: 0.7390444346462864 (rocauc) without training score regression\n",
            "Dataset ogbg-molhiv,  Epoch: 10,  Train: 0.799679 (rocauc),  Valid: 0.739044 (rocauc), \n"
          ]
        },
        {
          "name": "stderr",
          "output_type": "stream",
          "text": [
            "Training batch: 100%|██████████| 1029/1029 [00:08<00:00, 118.94it/s]\n",
            "Evaluation batch: 100%|██████████| 1029/1029 [00:04<00:00, 234.16it/s]\n",
            "Evaluation batch: 100%|██████████| 129/129 [00:00<00:00, 229.70it/s]\n"
          ]
        },
        {
          "name": "stdout",
          "output_type": "stream",
          "text": [
            "New best validation score: 0.7420236870468352 (rocauc) without training score regression\n",
            "Dataset ogbg-molhiv,  Epoch: 11,  Train: 0.804708 (rocauc),  Valid: 0.742024 (rocauc), \n"
          ]
        },
        {
          "name": "stderr",
          "output_type": "stream",
          "text": [
            "Training batch: 100%|██████████| 1029/1029 [00:08<00:00, 118.52it/s]\n",
            "Evaluation batch: 100%|██████████| 1029/1029 [00:04<00:00, 230.36it/s]\n",
            "Evaluation batch: 100%|██████████| 129/129 [00:00<00:00, 237.09it/s]\n"
          ]
        },
        {
          "name": "stdout",
          "output_type": "stream",
          "text": [
            "Dataset ogbg-molhiv,  Epoch: 12,  Train: 0.787088 (rocauc),  Valid: 0.650895 (rocauc), \n"
          ]
        },
        {
          "name": "stderr",
          "output_type": "stream",
          "text": [
            "Training batch: 100%|██████████| 1029/1029 [00:08<00:00, 118.74it/s]\n",
            "Evaluation batch: 100%|██████████| 1029/1029 [00:04<00:00, 229.53it/s]\n",
            "Evaluation batch: 100%|██████████| 129/129 [00:00<00:00, 236.46it/s]\n"
          ]
        },
        {
          "name": "stdout",
          "output_type": "stream",
          "text": [
            "Dataset ogbg-molhiv,  Epoch: 13,  Train: 0.800515 (rocauc),  Valid: 0.712795 (rocauc), \n"
          ]
        },
        {
          "name": "stderr",
          "output_type": "stream",
          "text": [
            "Training batch: 100%|██████████| 1029/1029 [00:08<00:00, 118.26it/s]\n",
            "Evaluation batch: 100%|██████████| 1029/1029 [00:04<00:00, 227.26it/s]\n",
            "Evaluation batch: 100%|██████████| 129/129 [00:00<00:00, 237.90it/s]\n"
          ]
        },
        {
          "name": "stdout",
          "output_type": "stream",
          "text": [
            "Dataset ogbg-molhiv,  Epoch: 14,  Train: 0.805816 (rocauc),  Valid: 0.731561 (rocauc), \n"
          ]
        },
        {
          "name": "stderr",
          "output_type": "stream",
          "text": [
            "Training batch: 100%|██████████| 1029/1029 [00:08<00:00, 118.22it/s]\n",
            "Evaluation batch: 100%|██████████| 1029/1029 [00:04<00:00, 233.84it/s]\n",
            "Evaluation batch: 100%|██████████| 129/129 [00:00<00:00, 235.06it/s]\n"
          ]
        },
        {
          "name": "stdout",
          "output_type": "stream",
          "text": [
            "New best validation score: 0.7472901969429747 (rocauc) without training score regression\n",
            "Dataset ogbg-molhiv,  Epoch: 15,  Train: 0.813371 (rocauc),  Valid: 0.747290 (rocauc), \n"
          ]
        },
        {
          "name": "stderr",
          "output_type": "stream",
          "text": [
            "Training batch: 100%|██████████| 1029/1029 [00:08<00:00, 117.42it/s]\n",
            "Evaluation batch: 100%|██████████| 1029/1029 [00:04<00:00, 230.69it/s]\n",
            "Evaluation batch: 100%|██████████| 129/129 [00:00<00:00, 240.40it/s]\n"
          ]
        },
        {
          "name": "stdout",
          "output_type": "stream",
          "text": [
            "Dataset ogbg-molhiv,  Epoch: 16,  Train: 0.819615 (rocauc),  Valid: 0.744139 (rocauc), \n"
          ]
        },
        {
          "name": "stderr",
          "output_type": "stream",
          "text": [
            "Training batch: 100%|██████████| 1029/1029 [00:08<00:00, 118.13it/s]\n",
            "Evaluation batch: 100%|██████████| 1029/1029 [00:04<00:00, 232.55it/s]\n",
            "Evaluation batch: 100%|██████████| 129/129 [00:00<00:00, 241.06it/s]\n"
          ]
        },
        {
          "name": "stdout",
          "output_type": "stream",
          "text": [
            "New best validation score: 0.7482684817754262 (rocauc) without training score regression\n",
            "Dataset ogbg-molhiv,  Epoch: 17,  Train: 0.823940 (rocauc),  Valid: 0.748268 (rocauc), \n"
          ]
        },
        {
          "name": "stderr",
          "output_type": "stream",
          "text": [
            "Training batch: 100%|██████████| 1029/1029 [00:08<00:00, 117.51it/s]\n",
            "Evaluation batch: 100%|██████████| 1029/1029 [00:04<00:00, 228.16it/s]\n",
            "Evaluation batch: 100%|██████████| 129/129 [00:00<00:00, 238.01it/s]\n"
          ]
        },
        {
          "name": "stdout",
          "output_type": "stream",
          "text": [
            "Dataset ogbg-molhiv,  Epoch: 18,  Train: 0.815255 (rocauc),  Valid: 0.734306 (rocauc), \n"
          ]
        },
        {
          "name": "stderr",
          "output_type": "stream",
          "text": [
            "Training batch: 100%|██████████| 1029/1029 [00:08<00:00, 118.24it/s]\n",
            "Evaluation batch: 100%|██████████| 1029/1029 [00:04<00:00, 234.20it/s]\n",
            "Evaluation batch: 100%|██████████| 129/129 [00:00<00:00, 237.16it/s]\n"
          ]
        },
        {
          "name": "stdout",
          "output_type": "stream",
          "text": [
            "Dataset ogbg-molhiv,  Epoch: 19,  Train: 0.827688 (rocauc),  Valid: 0.732296 (rocauc), \n"
          ]
        },
        {
          "name": "stderr",
          "output_type": "stream",
          "text": [
            "Training batch: 100%|██████████| 1029/1029 [00:08<00:00, 118.06it/s]\n",
            "Evaluation batch: 100%|██████████| 1029/1029 [00:04<00:00, 230.82it/s]\n",
            "Evaluation batch: 100%|██████████| 129/129 [00:00<00:00, 216.03it/s]\n"
          ]
        },
        {
          "name": "stdout",
          "output_type": "stream",
          "text": [
            "Dataset ogbg-molhiv,  Epoch: 20,  Train: 0.827987 (rocauc),  Valid: 0.707568 (rocauc), \n"
          ]
        },
        {
          "name": "stderr",
          "output_type": "stream",
          "text": [
            "Training batch: 100%|██████████| 1029/1029 [00:08<00:00, 119.08it/s]\n",
            "Evaluation batch: 100%|██████████| 1029/1029 [00:04<00:00, 227.13it/s]\n",
            "Evaluation batch: 100%|██████████| 129/129 [00:00<00:00, 234.77it/s]\n"
          ]
        },
        {
          "name": "stdout",
          "output_type": "stream",
          "text": [
            "Dataset ogbg-molhiv,  Epoch: 21,  Train: 0.824101 (rocauc),  Valid: 0.735055 (rocauc), \n"
          ]
        },
        {
          "name": "stderr",
          "output_type": "stream",
          "text": [
            "Training batch: 100%|██████████| 1029/1029 [00:08<00:00, 117.49it/s]\n",
            "Evaluation batch: 100%|██████████| 1029/1029 [00:04<00:00, 228.13it/s]\n",
            "Evaluation batch: 100%|██████████| 129/129 [00:00<00:00, 235.23it/s]\n"
          ]
        },
        {
          "name": "stdout",
          "output_type": "stream",
          "text": [
            "Dataset ogbg-molhiv,  Epoch: 22,  Train: 0.835729 (rocauc),  Valid: 0.709111 (rocauc), \n"
          ]
        },
        {
          "name": "stderr",
          "output_type": "stream",
          "text": [
            "Training batch: 100%|██████████| 1029/1029 [00:08<00:00, 115.27it/s]\n",
            "Evaluation batch: 100%|██████████| 1029/1029 [00:04<00:00, 221.14it/s]\n",
            "Evaluation batch: 100%|██████████| 129/129 [00:00<00:00, 232.24it/s]\n"
          ]
        },
        {
          "name": "stdout",
          "output_type": "stream",
          "text": [
            "Dataset ogbg-molhiv,  Epoch: 23,  Train: 0.836447 (rocauc),  Valid: 0.721670 (rocauc), \n"
          ]
        },
        {
          "name": "stderr",
          "output_type": "stream",
          "text": [
            "Training batch: 100%|██████████| 1029/1029 [00:08<00:00, 117.64it/s]\n",
            "Evaluation batch: 100%|██████████| 1029/1029 [00:04<00:00, 230.80it/s]\n",
            "Evaluation batch: 100%|██████████| 129/129 [00:00<00:00, 239.43it/s]\n"
          ]
        },
        {
          "name": "stdout",
          "output_type": "stream",
          "text": [
            "Dataset ogbg-molhiv,  Epoch: 24,  Train: 0.834769 (rocauc),  Valid: 0.738968 (rocauc), \n"
          ]
        },
        {
          "name": "stderr",
          "output_type": "stream",
          "text": [
            "Training batch: 100%|██████████| 1029/1029 [00:08<00:00, 117.25it/s]\n",
            "Evaluation batch: 100%|██████████| 1029/1029 [00:04<00:00, 227.99it/s]\n",
            "Evaluation batch: 100%|██████████| 129/129 [00:00<00:00, 236.94it/s]\n"
          ]
        },
        {
          "name": "stdout",
          "output_type": "stream",
          "text": [
            "Dataset ogbg-molhiv,  Epoch: 25,  Train: 0.836268 (rocauc),  Valid: 0.727424 (rocauc), \n"
          ]
        },
        {
          "name": "stderr",
          "output_type": "stream",
          "text": [
            "Evaluation batch: 100%|██████████| 1029/1029 [00:04<00:00, 225.49it/s]\n",
            "Evaluation batch: 100%|██████████| 129/129 [00:00<00:00, 218.42it/s]"
          ]
        },
        {
          "name": "stdout",
          "output_type": "stream",
          "text": [
            "Best model for ogbg-molhiv (eval metric rocauc):  Train: 0.823940,  Valid: 0.748268 \n",
            "parameter count: 32385\n"
          ]
        },
        {
          "name": "stderr",
          "output_type": "stream",
          "text": [
            "\n"
          ]
        }
      ],
      "source": [
        "\n",
        "model = GINGraphPropertyModel(config['hidden_dim'], dataset.num_tasks, config['num_layers'], config['dropout']).to(device)\n",
        "print(f\"parameter count: {sum(p.numel() for p in model.parameters())}\")\n",
        "model.reset_parameters()\n",
        "\n",
        "optimizer = torch.optim.Adam(model.parameters(), lr=config['learning_rate'], weight_decay=config['weight_decay'])\n",
        "loss_fn = torch.nn.BCEWithLogitsLoss()\n",
        "best_model = None\n",
        "best_valid_metric_at_save_checkpoint = 0\n",
        "best_train_metric_at_save_checkpoint = 0\n",
        "\n",
        "for epoch in range(1, 1 + config[\"epochs\"]):\n",
        "  if epoch == 10:\n",
        "    # reduce learning rate at this point\n",
        "    optimizer = torch.optim.Adam(model.parameters(), lr=config['learning_rate']*0.5, weight_decay=config['weight_decay'])\n",
        "  loss = train(model, device, train_loader, optimizer, loss_fn)\n",
        "  train_perf = eval(model, device, train_loader, evaluator)\n",
        "  val_perf = eval(model, device, valid_loader, evaluator)\n",
        "  # if not args.hide_test_metric:\n",
        "  #     # not necessary as output unused during train loop but needed for reproduciblility as affects number of random number generations, affecting ability to generate previously observed outputs depending on seed\n",
        "  #     test_perf = eval(model, device, test_loader, evaluator)\n",
        "  train_metric, valid_metric = train_perf[dataset.eval_metric], val_perf[dataset.eval_metric]\n",
        "  if valid_metric >= best_valid_metric_at_save_checkpoint and train_metric >= best_train_metric_at_save_checkpoint:\n",
        "    print(f\"New best validation score: {valid_metric} ({dataset.eval_metric}) without training score regression\")\n",
        "    best_valid_metric_at_save_checkpoint = valid_metric\n",
        "    best_train_metric_at_save_checkpoint = train_metric\n",
        "    best_model = copy.deepcopy(model)\n",
        "  print(f'Dataset {config[\"dataset_id\"]}, ',\n",
        "    f'Epoch: {epoch}, ',\n",
        "    f'Train: {train_metric:.6f} ({dataset.eval_metric}), ',\n",
        "    f'Valid: {valid_metric:.6f} ({dataset.eval_metric}), ')\n",
        "\n",
        "with open(f\"best_{config['dataset_id']}_gin_model_{config['num_layers']}_layers_{config['hidden_dim']}_hidden.pkl\", \"wb\") as f:\n",
        "  pickle.dump(best_model, f)\n",
        "\n",
        "train_metric = eval(best_model, device, train_loader, evaluator)[dataset.eval_metric]\n",
        "valid_metric = eval(best_model, device, valid_loader, evaluator, save_model_results=True, save_filename=f\"gin_{config['dataset_id']}_valid\")[dataset.eval_metric]\n",
        "test_metric = None\n",
        "\n",
        "print(f'Best model for {config[\"dataset_id\"]} (eval metric {dataset.eval_metric}): ',\n",
        "      f'Train: {train_metric:.6f}, ',\n",
        "      f'Valid: {valid_metric:.6f} ')\n",
        "print(f\"parameter count: {sum(p.numel() for p in best_model.parameters())}\")"
      ]
    },
    {
      "cell_type": "markdown",
      "metadata": {
        "id": "JDIGjHOYyWDj"
      },
      "source": [
        "GIN based model performance\n",
        "\n",
        "Train: 0.82 roc-auc\n",
        "\n",
        "Validation set: 0.74 roc-auc"
      ]
    },
    {
      "cell_type": "markdown",
      "metadata": {
        "id": "_FVAyh36Vk3j"
      },
      "source": [
        "Now that you see it had 0.82 rocauc on train and 0.74 rocauc on validation.\n",
        "Suppose now you have a molecule and then you want to generate probability of it from the SMILE string.\n",
        "\n",
        "Here is the how you can do it."
      ]
    },
    {
      "cell_type": "code",
      "execution_count": 122,
      "metadata": {
        "colab": {
          "base_uri": "https://localhost:8080/"
        },
        "id": "9WdX0XPI7JyA",
        "outputId": "117b578d-5965-4acd-e3e5-6c13f19aa9a7"
      },
      "outputs": [
        {
          "name": "stderr",
          "output_type": "stream",
          "text": [
            "Evaluation batch: 100%|██████████| 1029/1029 [00:06<00:00, 149.02it/s]\n",
            "Evaluation batch: 100%|██████████| 129/129 [00:00<00:00, 151.33it/s]"
          ]
        },
        {
          "name": "stdout",
          "output_type": "stream",
          "text": [
            "Best model for ogbg-molhiv (eval metric rocauc):  Train: 0.813519,  Valid: 0.758555 \n",
            "parameter count: 32385\n",
            "parameter count: 23809\n"
          ]
        },
        {
          "name": "stderr",
          "output_type": "stream",
          "text": [
            "\n"
          ]
        }
      ],
      "source": [
        "train_metric2 = combined_eval(best_model, best_model2, device, train_loader, evaluator)[dataset.eval_metric]\n",
        "valid_metric2 = combined_eval(best_model,best_model2, device, valid_loader, evaluator)[dataset.eval_metric]\n",
        "test_metric = None\n",
        "\n",
        "print(f'Best model for {config[\"dataset_id\"]} (eval metric {dataset.eval_metric}): ',\n",
        "      f'Train: {train_metric2:.6f}, ',\n",
        "      f'Valid: {valid_metric2:.6f} ')\n",
        "print(f\"parameter count: {sum(p.numel() for p in best_model.parameters())}\")\n",
        "print(f\"parameter count: {sum(p.numel() for p in best_model2.parameters())}\")"
      ]
    },
    {
      "cell_type": "markdown",
      "metadata": {
        "id": "Ze0uRehd-oEQ"
      },
      "source": [
        "Ensemble performance:\n",
        "\n",
        "train : 0.81\n",
        "\n",
        "valid: 0.75"
      ]
    },
    {
      "cell_type": "code",
      "execution_count": 114,
      "metadata": {
        "colab": {
          "base_uri": "https://localhost:8080/"
        },
        "id": "xXfApfRM7Jue",
        "outputId": "9e27836b-8b59-4a95-9b66-985a6bc33e79"
      },
      "outputs": [
        {
          "data": {
            "text/plain": [
              "GINGraphPropertyModel(\n",
              "  (node_encoder): AtomEncoder(\n",
              "    (atom_embedding_list): ModuleList(\n",
              "      (0): Embedding(119, 64)\n",
              "      (1): Embedding(5, 64)\n",
              "      (2-3): 2 x Embedding(12, 64)\n",
              "      (4): Embedding(10, 64)\n",
              "      (5-6): 2 x Embedding(6, 64)\n",
              "      (7-8): 2 x Embedding(2, 64)\n",
              "    )\n",
              "  )\n",
              "  (convs): ModuleList(\n",
              "    (0-1): 2 x GINConv(nn=MLP(64, 64, 64))\n",
              "  )\n",
              "  (bns): ModuleList(\n",
              "    (0): BatchNorm1d(64, eps=1e-05, momentum=0.1, affine=True, track_running_stats=True)\n",
              "  )\n",
              "  (linear_hidden): Linear(in_features=64, out_features=64, bias=True)\n",
              "  (linear_out): Linear(in_features=64, out_features=1, bias=True)\n",
              ")"
            ]
          },
          "execution_count": 114,
          "metadata": {},
          "output_type": "execute_result"
        }
      ],
      "source": [
        "best_model"
      ]
    },
    {
      "cell_type": "code",
      "execution_count": 115,
      "metadata": {
        "colab": {
          "base_uri": "https://localhost:8080/"
        },
        "id": "whxslR-r7Jqu",
        "outputId": "32129b16-f0af-404a-eee7-59b80d6e01f7"
      },
      "outputs": [
        {
          "data": {
            "text/plain": [
              "GCNGraphPropertyModel(\n",
              "  (node_encoder): AtomEncoder(\n",
              "    (atom_embedding_list): ModuleList(\n",
              "      (0): Embedding(119, 64)\n",
              "      (1): Embedding(5, 64)\n",
              "      (2-3): 2 x Embedding(12, 64)\n",
              "      (4): Embedding(10, 64)\n",
              "      (5-6): 2 x Embedding(6, 64)\n",
              "      (7-8): 2 x Embedding(2, 64)\n",
              "    )\n",
              "  )\n",
              "  (convs): ModuleList(\n",
              "    (0-1): 2 x GCNConv(64, 64)\n",
              "  )\n",
              "  (bns): ModuleList(\n",
              "    (0): BatchNorm1d(64, eps=1e-05, momentum=0.1, affine=True, track_running_stats=True)\n",
              "  )\n",
              "  (linear_hidden): Linear(in_features=64, out_features=64, bias=True)\n",
              "  (linear_out): Linear(in_features=64, out_features=1, bias=True)\n",
              ")"
            ]
          },
          "execution_count": 115,
          "metadata": {},
          "output_type": "execute_result"
        }
      ],
      "source": [
        "best_model2"
      ]
    },
    {
      "cell_type": "markdown",
      "metadata": {
        "id": "nomHQ4hp-5yk"
      },
      "source": [
        "## Final Function"
      ]
    },
    {
      "cell_type": "code",
      "execution_count": 69,
      "metadata": {
        "colab": {
          "base_uri": "https://localhost:8080/",
          "height": 175
        },
        "id": "j9kr5_WqVeXM",
        "outputId": "9e5722fd-7472-4ff0-afe4-c8d8d7427a55"
      },
      "outputs": [
        {
          "data": {
            "application/vnd.google.colaboratory.intrinsic+json": {
              "summary": "{\n  \"name\": \"hiv_data\",\n  \"rows\": 41127,\n  \"fields\": [\n    {\n      \"column\": \"smiles\",\n      \"properties\": {\n        \"dtype\": \"string\",\n        \"num_unique_values\": 41127,\n        \"samples\": [\n          \"O=C1C(=Cc2ccc(O)cc2)N=C(c2ccccc2)N1n1c(-c2ccccc2)nc2ccccc2c1=O\",\n          \"Cc1c(CCN=P(c2ccccc2)(c2ccccc2)c2ccccc2)c(=O)n2c([nH]c3ccccc32)c1C#N\",\n          \"O=C1OC(=O)C2C3CCCCC3=C3CCCCC3C12\"\n        ],\n        \"semantic_type\": \"\",\n        \"description\": \"\"\n      }\n    },\n    {\n      \"column\": \"activity\",\n      \"properties\": {\n        \"dtype\": \"category\",\n        \"num_unique_values\": 3,\n        \"samples\": [\n          \"CI\",\n          \"CM\",\n          \"CA\"\n        ],\n        \"semantic_type\": \"\",\n        \"description\": \"\"\n      }\n    },\n    {\n      \"column\": \"HIV_active\",\n      \"properties\": {\n        \"dtype\": \"number\",\n        \"std\": 0,\n        \"min\": 0,\n        \"max\": 1,\n        \"num_unique_values\": 2,\n        \"samples\": [\n          1,\n          0\n        ],\n        \"semantic_type\": \"\",\n        \"description\": \"\"\n      }\n    }\n  ]\n}",
              "type": "dataframe",
              "variable_name": "hiv_data"
            },
            "text/html": [
              "\n",
              "  <div id=\"df-81b689b5-17f6-429f-b6a7-c7b3bd9fadc1\" class=\"colab-df-container\">\n",
              "    <div>\n",
              "<style scoped>\n",
              "    .dataframe tbody tr th:only-of-type {\n",
              "        vertical-align: middle;\n",
              "    }\n",
              "\n",
              "    .dataframe tbody tr th {\n",
              "        vertical-align: top;\n",
              "    }\n",
              "\n",
              "    .dataframe thead th {\n",
              "        text-align: right;\n",
              "    }\n",
              "</style>\n",
              "<table border=\"1\" class=\"dataframe\">\n",
              "  <thead>\n",
              "    <tr style=\"text-align: right;\">\n",
              "      <th></th>\n",
              "      <th>smiles</th>\n",
              "      <th>activity</th>\n",
              "      <th>HIV_active</th>\n",
              "    </tr>\n",
              "  </thead>\n",
              "  <tbody>\n",
              "    <tr>\n",
              "      <th>0</th>\n",
              "      <td>CCC1=[O+][Cu-3]2([O+]=C(CC)C1)[O+]=C(CC)CC(CC)...</td>\n",
              "      <td>CI</td>\n",
              "      <td>0</td>\n",
              "    </tr>\n",
              "    <tr>\n",
              "      <th>1</th>\n",
              "      <td>C(=Cc1ccccc1)C1=[O+][Cu-3]2([O+]=C(C=Cc3ccccc3...</td>\n",
              "      <td>CI</td>\n",
              "      <td>0</td>\n",
              "    </tr>\n",
              "    <tr>\n",
              "      <th>2</th>\n",
              "      <td>CC(=O)N1c2ccccc2Sc2c1ccc1ccccc21</td>\n",
              "      <td>CI</td>\n",
              "      <td>0</td>\n",
              "    </tr>\n",
              "    <tr>\n",
              "      <th>3</th>\n",
              "      <td>Nc1ccc(C=Cc2ccc(N)cc2S(=O)(=O)O)c(S(=O)(=O)O)c1</td>\n",
              "      <td>CI</td>\n",
              "      <td>0</td>\n",
              "    </tr>\n",
              "  </tbody>\n",
              "</table>\n",
              "</div>\n",
              "    <div class=\"colab-df-buttons\">\n",
              "\n",
              "  <div class=\"colab-df-container\">\n",
              "    <button class=\"colab-df-convert\" onclick=\"convertToInteractive('df-81b689b5-17f6-429f-b6a7-c7b3bd9fadc1')\"\n",
              "            title=\"Convert this dataframe to an interactive table.\"\n",
              "            style=\"display:none;\">\n",
              "\n",
              "  <svg xmlns=\"http://www.w3.org/2000/svg\" height=\"24px\" viewBox=\"0 -960 960 960\">\n",
              "    <path d=\"M120-120v-720h720v720H120Zm60-500h600v-160H180v160Zm220 220h160v-160H400v160Zm0 220h160v-160H400v160ZM180-400h160v-160H180v160Zm440 0h160v-160H620v160ZM180-180h160v-160H180v160Zm440 0h160v-160H620v160Z\"/>\n",
              "  </svg>\n",
              "    </button>\n",
              "\n",
              "  <style>\n",
              "    .colab-df-container {\n",
              "      display:flex;\n",
              "      gap: 12px;\n",
              "    }\n",
              "\n",
              "    .colab-df-convert {\n",
              "      background-color: #E8F0FE;\n",
              "      border: none;\n",
              "      border-radius: 50%;\n",
              "      cursor: pointer;\n",
              "      display: none;\n",
              "      fill: #1967D2;\n",
              "      height: 32px;\n",
              "      padding: 0 0 0 0;\n",
              "      width: 32px;\n",
              "    }\n",
              "\n",
              "    .colab-df-convert:hover {\n",
              "      background-color: #E2EBFA;\n",
              "      box-shadow: 0px 1px 2px rgba(60, 64, 67, 0.3), 0px 1px 3px 1px rgba(60, 64, 67, 0.15);\n",
              "      fill: #174EA6;\n",
              "    }\n",
              "\n",
              "    .colab-df-buttons div {\n",
              "      margin-bottom: 4px;\n",
              "    }\n",
              "\n",
              "    [theme=dark] .colab-df-convert {\n",
              "      background-color: #3B4455;\n",
              "      fill: #D2E3FC;\n",
              "    }\n",
              "\n",
              "    [theme=dark] .colab-df-convert:hover {\n",
              "      background-color: #434B5C;\n",
              "      box-shadow: 0px 1px 3px 1px rgba(0, 0, 0, 0.15);\n",
              "      filter: drop-shadow(0px 1px 2px rgba(0, 0, 0, 0.3));\n",
              "      fill: #FFFFFF;\n",
              "    }\n",
              "  </style>\n",
              "\n",
              "    <script>\n",
              "      const buttonEl =\n",
              "        document.querySelector('#df-81b689b5-17f6-429f-b6a7-c7b3bd9fadc1 button.colab-df-convert');\n",
              "      buttonEl.style.display =\n",
              "        google.colab.kernel.accessAllowed ? 'block' : 'none';\n",
              "\n",
              "      async function convertToInteractive(key) {\n",
              "        const element = document.querySelector('#df-81b689b5-17f6-429f-b6a7-c7b3bd9fadc1');\n",
              "        const dataTable =\n",
              "          await google.colab.kernel.invokeFunction('convertToInteractive',\n",
              "                                                    [key], {});\n",
              "        if (!dataTable) return;\n",
              "\n",
              "        const docLinkHtml = 'Like what you see? Visit the ' +\n",
              "          '<a target=\"_blank\" href=https://colab.research.google.com/notebooks/data_table.ipynb>data table notebook</a>'\n",
              "          + ' to learn more about interactive tables.';\n",
              "        element.innerHTML = '';\n",
              "        dataTable['output_type'] = 'display_data';\n",
              "        await google.colab.output.renderOutput(dataTable, element);\n",
              "        const docLink = document.createElement('div');\n",
              "        docLink.innerHTML = docLinkHtml;\n",
              "        element.appendChild(docLink);\n",
              "      }\n",
              "    </script>\n",
              "  </div>\n",
              "\n",
              "\n",
              "<div id=\"df-a3b1c87d-b57d-4237-b300-33c088afefdd\">\n",
              "  <button class=\"colab-df-quickchart\" onclick=\"quickchart('df-a3b1c87d-b57d-4237-b300-33c088afefdd')\"\n",
              "            title=\"Suggest charts\"\n",
              "            style=\"display:none;\">\n",
              "\n",
              "<svg xmlns=\"http://www.w3.org/2000/svg\" height=\"24px\"viewBox=\"0 0 24 24\"\n",
              "     width=\"24px\">\n",
              "    <g>\n",
              "        <path d=\"M19 3H5c-1.1 0-2 .9-2 2v14c0 1.1.9 2 2 2h14c1.1 0 2-.9 2-2V5c0-1.1-.9-2-2-2zM9 17H7v-7h2v7zm4 0h-2V7h2v10zm4 0h-2v-4h2v4z\"/>\n",
              "    </g>\n",
              "</svg>\n",
              "  </button>\n",
              "\n",
              "<style>\n",
              "  .colab-df-quickchart {\n",
              "      --bg-color: #E8F0FE;\n",
              "      --fill-color: #1967D2;\n",
              "      --hover-bg-color: #E2EBFA;\n",
              "      --hover-fill-color: #174EA6;\n",
              "      --disabled-fill-color: #AAA;\n",
              "      --disabled-bg-color: #DDD;\n",
              "  }\n",
              "\n",
              "  [theme=dark] .colab-df-quickchart {\n",
              "      --bg-color: #3B4455;\n",
              "      --fill-color: #D2E3FC;\n",
              "      --hover-bg-color: #434B5C;\n",
              "      --hover-fill-color: #FFFFFF;\n",
              "      --disabled-bg-color: #3B4455;\n",
              "      --disabled-fill-color: #666;\n",
              "  }\n",
              "\n",
              "  .colab-df-quickchart {\n",
              "    background-color: var(--bg-color);\n",
              "    border: none;\n",
              "    border-radius: 50%;\n",
              "    cursor: pointer;\n",
              "    display: none;\n",
              "    fill: var(--fill-color);\n",
              "    height: 32px;\n",
              "    padding: 0;\n",
              "    width: 32px;\n",
              "  }\n",
              "\n",
              "  .colab-df-quickchart:hover {\n",
              "    background-color: var(--hover-bg-color);\n",
              "    box-shadow: 0 1px 2px rgba(60, 64, 67, 0.3), 0 1px 3px 1px rgba(60, 64, 67, 0.15);\n",
              "    fill: var(--button-hover-fill-color);\n",
              "  }\n",
              "\n",
              "  .colab-df-quickchart-complete:disabled,\n",
              "  .colab-df-quickchart-complete:disabled:hover {\n",
              "    background-color: var(--disabled-bg-color);\n",
              "    fill: var(--disabled-fill-color);\n",
              "    box-shadow: none;\n",
              "  }\n",
              "\n",
              "  .colab-df-spinner {\n",
              "    border: 2px solid var(--fill-color);\n",
              "    border-color: transparent;\n",
              "    border-bottom-color: var(--fill-color);\n",
              "    animation:\n",
              "      spin 1s steps(1) infinite;\n",
              "  }\n",
              "\n",
              "  @keyframes spin {\n",
              "    0% {\n",
              "      border-color: transparent;\n",
              "      border-bottom-color: var(--fill-color);\n",
              "      border-left-color: var(--fill-color);\n",
              "    }\n",
              "    20% {\n",
              "      border-color: transparent;\n",
              "      border-left-color: var(--fill-color);\n",
              "      border-top-color: var(--fill-color);\n",
              "    }\n",
              "    30% {\n",
              "      border-color: transparent;\n",
              "      border-left-color: var(--fill-color);\n",
              "      border-top-color: var(--fill-color);\n",
              "      border-right-color: var(--fill-color);\n",
              "    }\n",
              "    40% {\n",
              "      border-color: transparent;\n",
              "      border-right-color: var(--fill-color);\n",
              "      border-top-color: var(--fill-color);\n",
              "    }\n",
              "    60% {\n",
              "      border-color: transparent;\n",
              "      border-right-color: var(--fill-color);\n",
              "    }\n",
              "    80% {\n",
              "      border-color: transparent;\n",
              "      border-right-color: var(--fill-color);\n",
              "      border-bottom-color: var(--fill-color);\n",
              "    }\n",
              "    90% {\n",
              "      border-color: transparent;\n",
              "      border-bottom-color: var(--fill-color);\n",
              "    }\n",
              "  }\n",
              "</style>\n",
              "\n",
              "  <script>\n",
              "    async function quickchart(key) {\n",
              "      const quickchartButtonEl =\n",
              "        document.querySelector('#' + key + ' button');\n",
              "      quickchartButtonEl.disabled = true;  // To prevent multiple clicks.\n",
              "      quickchartButtonEl.classList.add('colab-df-spinner');\n",
              "      try {\n",
              "        const charts = await google.colab.kernel.invokeFunction(\n",
              "            'suggestCharts', [key], {});\n",
              "      } catch (error) {\n",
              "        console.error('Error during call to suggestCharts:', error);\n",
              "      }\n",
              "      quickchartButtonEl.classList.remove('colab-df-spinner');\n",
              "      quickchartButtonEl.classList.add('colab-df-quickchart-complete');\n",
              "    }\n",
              "    (() => {\n",
              "      let quickchartButtonEl =\n",
              "        document.querySelector('#df-a3b1c87d-b57d-4237-b300-33c088afefdd button');\n",
              "      quickchartButtonEl.style.display =\n",
              "        google.colab.kernel.accessAllowed ? 'block' : 'none';\n",
              "    })();\n",
              "  </script>\n",
              "</div>\n",
              "\n",
              "    </div>\n",
              "  </div>\n"
            ],
            "text/plain": [
              "                                              smiles activity  HIV_active\n",
              "0  CCC1=[O+][Cu-3]2([O+]=C(CC)C1)[O+]=C(CC)CC(CC)...       CI           0\n",
              "1  C(=Cc1ccccc1)C1=[O+][Cu-3]2([O+]=C(C=Cc3ccccc3...       CI           0\n",
              "2                   CC(=O)N1c2ccccc2Sc2c1ccc1ccccc21       CI           0\n",
              "3    Nc1ccc(C=Cc2ccc(N)cc2S(=O)(=O)O)c(S(=O)(=O)O)c1       CI           0"
            ]
          },
          "execution_count": 69,
          "metadata": {},
          "output_type": "execute_result"
        }
      ],
      "source": [
        "hiv_data.head(4)"
      ]
    },
    {
      "cell_type": "code",
      "execution_count": null,
      "metadata": {
        "id": "MRl365sDWW4n"
      },
      "outputs": [],
      "source": [
        "### remember from initial section where we made 2 list smile and activity list which contain both active and inactive"
      ]
    },
    {
      "cell_type": "code",
      "execution_count": 70,
      "metadata": {
        "colab": {
          "base_uri": "https://localhost:8080/"
        },
        "id": "2nwOfrubWdyd",
        "outputId": "7f2744d1-71c3-467c-9185-d7910e2820a7"
      },
      "outputs": [
        {
          "name": "stdout",
          "output_type": "stream",
          "text": [
            "['Cc1cc(-c2ccc(N=Nc3cc(S(=O)(=O)O)c4ccccc4c3N)c(C)c2)ccc1N=Nc1cc(S(=O)(=O)O)c2ccccc2c1N', 'O=S(=O)(O)c1cc2ccc1ccc1ccc(cc1S(=O)(=O)O)nnc1ccc(ccc3ccc(cc3S(=O)(=O)O)nn2)c(S(=O)(=O)O)c1', 'CCC1=[O+][Cu-3]2([O+]=C(CC)C1)[O+]=C(CC)CC(CC)=[O+]2', 'C(=Cc1ccccc1)C1=[O+][Cu-3]2([O+]=C(C=Cc3ccccc3)CC(c3ccccc3)=[O+]2)[O+]=C(c2ccccc2)C1']\n",
            "['CA', 'CA', 'CI', 'CI']\n"
          ]
        }
      ],
      "source": [
        "print(smiles_data)\n",
        "print(activity_data)"
      ]
    },
    {
      "cell_type": "code",
      "execution_count": 71,
      "metadata": {
        "id": "jDGO6xqWWNho"
      },
      "outputs": [],
      "source": [
        "from ogb.utils.mol import smiles2graph\n",
        "from torch_geometric.data import Data\n",
        "graph_data_sample = smiles2graph(smiles_data[0])\n"
      ]
    },
    {
      "cell_type": "code",
      "execution_count": 76,
      "metadata": {
        "id": "4H5tu2slXlpZ"
      },
      "outputs": [],
      "source": [
        "def smile_to_hiv_prob(smile,best_model):\n",
        "  graph_data_sample = smiles2graph(smile)\n",
        "\n",
        "  single_molecule_like = Data(\n",
        "    x=torch.tensor(graph_data_sample['node_feat']),\n",
        "    edge_index=torch.tensor(graph_data_sample['edge_index']),\n",
        "    edge_attr=torch.tensor(graph_data_sample['edge_feat']),\n",
        "    num_nodes=torch.tensor(graph_data_sample['num_nodes']) )\n",
        "\n",
        "  single_molecule_like = single_molecule_like.to(device) # device can be 'cuda' or 'cpu'\n",
        "  best_model.eval()\n",
        "\n",
        "    # use single_molecule_like with best model\n",
        "  with torch.no_grad():\n",
        "    logits = best_model(single_molecule_like)\n",
        "    probabilities = torch.sigmoid(logits)\n",
        "    # print(\"Predicted probabilities:\", probabilities)\n",
        "\n",
        "  return probabilities\n"
      ]
    },
    {
      "cell_type": "code",
      "execution_count": null,
      "metadata": {
        "id": "Zq0uIoZu_Udf"
      },
      "outputs": [],
      "source": [
        "# Prediction probabilities based on GIN"
      ]
    },
    {
      "cell_type": "code",
      "execution_count": 126,
      "metadata": {
        "colab": {
          "base_uri": "https://localhost:8080/"
        },
        "id": "KOSH9WN_YaLr",
        "outputId": "aec03873-483a-4d09-9978-eab7e9d21711"
      },
      "outputs": [
        {
          "name": "stdout",
          "output_type": "stream",
          "text": [
            "['0.5158392786979675', '0.508258044719696', '0.0007465434609912336', '0.0010574094485491514']\n",
            "['CA', 'CA', 'CI', 'CI']\n"
          ]
        }
      ],
      "source": [
        "prob_list_for_smile_data = [ str(smile_to_hiv_prob(i,best_model).item()) for i in smiles_data]\n",
        "\n",
        "print(prob_list_for_smile_data)\n",
        "print(activity_data)"
      ]
    },
    {
      "cell_type": "code",
      "execution_count": null,
      "metadata": {
        "id": "K51UoxgA_K4u"
      },
      "outputs": [],
      "source": []
    },
    {
      "cell_type": "code",
      "execution_count": 127,
      "metadata": {
        "colab": {
          "base_uri": "https://localhost:8080/",
          "height": 617
        },
        "id": "z87rH996YZ8y",
        "outputId": "8847e0e4-acf3-4213-8eb2-4e492cb052c5"
      },
      "outputs": [
        {
          "data": {
            "image/png": "[encoded data removed]",
            "text/plain": [
              "<IPython.core.display.Image object>"
            ]
          },
          "execution_count": 127,
          "metadata": {},
          "output_type": "execute_result"
        }
      ],
      "source": [
        "molecules = [Chem.MolFromSmiles(smiles) for smiles in smiles_data]\n",
        "\n",
        "# Display molecules in a grid\n",
        "img2 = Draw.MolsToGridImage(molecules, molsPerRow=2, subImgSize=(300, 300), legends=(prob_list_for_smile_data), maxMols=4)\n",
        "\n",
        "img2"
      ]
    },
    {
      "cell_type": "markdown",
      "metadata": {
        "id": "EzYRe1-IaNqZ"
      },
      "source": [
        "## Probabilities on their activity based on the smile structure. These 4 were spot on\n"
      ]
    },
    {
      "cell_type": "code",
      "execution_count": null,
      "metadata": {
        "id": "3e6Hg_eDaNF8"
      },
      "outputs": [],
      "source": []
    },
    {
      "cell_type": "code",
      "execution_count": null,
      "metadata": {
        "id": "kyAB7zm-YZ4G"
      },
      "outputs": [],
      "source": [
        "### END"
      ]
    },
    {
      "cell_type": "code",
      "execution_count": null,
      "metadata": {
        "id": "Y4YdlhfIYZ0-"
      },
      "outputs": [],
      "source": []
    },
    {
      "cell_type": "code",
      "execution_count": null,
      "metadata": {
        "id": "DBNPBCCuYZxo"
      },
      "outputs": [],
      "source": []
    },
    {
      "cell_type": "code",
      "execution_count": null,
      "metadata": {
        "id": "aiqUwm_HdIA-"
      },
      "outputs": [],
      "source": []
    },
    {
      "cell_type": "code",
      "execution_count": null,
      "metadata": {
        "id": "S6OF2vqekMfC"
      },
      "outputs": [],
      "source": []
    },
    {
      "cell_type": "code",
      "execution_count": null,
      "metadata": {
        "id": "h4Zho1hikMao"
      },
      "outputs": [],
      "source": []
    }
  ],
  "metadata": {
    "accelerator": "GPU",
    "colab": {
      "gpuType": "L4",
      "machine_shape": "hm",
      "provenance": []
    },
    "kernelspec": {
      "display_name": ".venv",
      "language": "python",
      "name": "python3"
    },
    "language_info": {
      "codemirror_mode": {
        "name": "ipython",
        "version": 3
      },
      "file_extension": ".py",
      "mimetype": "text/x-python",
      "name": "python",
      "nbconvert_exporter": "python",
      "pygments_lexer": "ipython3",
      "version": "3.12.2"
    }
  },
  "nbformat": 4,
  "nbformat_minor": 0
}
